{
 "cells": [
  {
   "cell_type": "markdown",
   "metadata": {},
   "source": [
    "# Quora Duplicate Questions Classification Task\n",
    "\n",
    "Quora is a question/answer website where users can ask and answer questions about anything. To improve the website for users, Quora wants to remove duplicate questions, so users are always directed to the one definitive page for that question. Zero percent duplication is unlikely, but automated \n",
    "\n",
    "To help with this goal, Quora has released a data set of ~400,000 question pairs from Quora, where each pair is marked as being either a duplicate or a non-duplicate. Release statement and data found here: https://data.quora.com/First-Quora-Dataset-Release-Question-Pairs\n",
    "\n",
    "For example, \n",
    "\n",
    "#### \"How do you start a bakery?\" and \"How does one start a bakery business?\" \n",
    "\n",
    "are labelled as duplicates, but \n",
    "\n",
    "#### \"Does society place too much importance on sports?\" and \"How do sports contribute to the society?\"\n",
    "\n",
    "are not. The labeling itself was done by humans, so reasonable people may disagree about some of them - such label noise is a fact of life for many classification tasks. \n",
    "\n",
    "The classification goal is to predict whether each question pair is labelled as duplicates or not. \n",
    "\n",
    "It is important to consider how the model will be used to know what metrics to optimize. For example, it is not necessarily true that we want a model that is as accurate as possible: if the model will lead to automatic deletion of one of the posts marked \"duplicate\", it may be more important to avoid falsely labeling different posts as duplicates (false positives) than to miss marking true duplicates as duplicates (false negatives). These considerations are why precision the precision and recall of a classification model are important to consider in addition to its accuracy. "
   ]
  },
  {
   "cell_type": "markdown",
   "metadata": {},
   "source": [
    "# Data Cleaning\n",
    "\n",
    "It's always a good idea to check data set for missing values, unusual values, unusual data types, etc. Since this is a prepared data set released by a company it should be pretty well-formed already, but it's good practice to check anyway. It's also good to constantly be looking at examples of data to understand better what your model must accomplish."
   ]
  },
  {
   "cell_type": "code",
   "execution_count": 1,
   "metadata": {
    "collapsed": true
   },
   "outputs": [],
   "source": [
    "import pandas as pd"
   ]
  },
  {
   "cell_type": "code",
   "execution_count": 2,
   "metadata": {
    "collapsed": false,
    "scrolled": true
   },
   "outputs": [],
   "source": [
    "data = pd.read_csv(\"quora_duplicate_questions.tsv\", sep='\\t')"
   ]
  },
  {
   "cell_type": "code",
   "execution_count": 3,
   "metadata": {
    "collapsed": false
   },
   "outputs": [
    {
     "data": {
      "text/plain": [
       "404290"
      ]
     },
     "execution_count": 3,
     "metadata": {},
     "output_type": "execute_result"
    }
   ],
   "source": [
    "len(data)"
   ]
  },
  {
   "cell_type": "code",
   "execution_count": 4,
   "metadata": {
    "collapsed": false
   },
   "outputs": [
    {
     "name": "stdout",
     "output_type": "stream",
     "text": [
      "<class 'pandas.core.frame.DataFrame'>\n",
      "RangeIndex: 404290 entries, 0 to 404289\n",
      "Data columns (total 6 columns):\n",
      "id           404290 non-null int64\n",
      "qid1         404290 non-null int64\n",
      "qid2         404290 non-null int64\n",
      "text1        404290 non-null object\n",
      "text2        404288 non-null object\n",
      "duplicate    404290 non-null int64\n",
      "dtypes: int64(4), object(2)\n",
      "memory usage: 18.5+ MB\n"
     ]
    }
   ],
   "source": [
    "data.info()"
   ]
  },
  {
   "cell_type": "code",
   "execution_count": 5,
   "metadata": {
    "collapsed": false
   },
   "outputs": [
    {
     "data": {
      "text/plain": [
       "str"
      ]
     },
     "execution_count": 5,
     "metadata": {},
     "output_type": "execute_result"
    }
   ],
   "source": [
    "type(data.text1[0])"
   ]
  },
  {
   "cell_type": "code",
   "execution_count": 6,
   "metadata": {
    "collapsed": false
   },
   "outputs": [
    {
     "data": {
      "text/html": [
       "<div>\n",
       "<table border=\"1\" class=\"dataframe\">\n",
       "  <thead>\n",
       "    <tr style=\"text-align: right;\">\n",
       "      <th></th>\n",
       "      <th>id</th>\n",
       "      <th>qid1</th>\n",
       "      <th>qid2</th>\n",
       "      <th>text1</th>\n",
       "      <th>text2</th>\n",
       "      <th>duplicate</th>\n",
       "    </tr>\n",
       "  </thead>\n",
       "  <tbody>\n",
       "    <tr>\n",
       "      <th>105780</th>\n",
       "      <td>105780</td>\n",
       "      <td>174363</td>\n",
       "      <td>174364</td>\n",
       "      <td>How can I develop android app?</td>\n",
       "      <td>NaN</td>\n",
       "      <td>0</td>\n",
       "    </tr>\n",
       "    <tr>\n",
       "      <th>201841</th>\n",
       "      <td>201841</td>\n",
       "      <td>303951</td>\n",
       "      <td>174364</td>\n",
       "      <td>How can I create an Android app?</td>\n",
       "      <td>NaN</td>\n",
       "      <td>0</td>\n",
       "    </tr>\n",
       "  </tbody>\n",
       "</table>\n",
       "</div>"
      ],
      "text/plain": [
       "            id    qid1    qid2                             text1 text2  \\\n",
       "105780  105780  174363  174364    How can I develop android app?   NaN   \n",
       "201841  201841  303951  174364  How can I create an Android app?   NaN   \n",
       "\n",
       "        duplicate  \n",
       "105780          0  \n",
       "201841          0  "
      ]
     },
     "execution_count": 6,
     "metadata": {},
     "output_type": "execute_result"
    }
   ],
   "source": [
    "# find if any rows have null values \n",
    "data[data.isnull().any(axis=1)]"
   ]
  },
  {
   "cell_type": "code",
   "execution_count": 7,
   "metadata": {
    "collapsed": true
   },
   "outputs": [],
   "source": [
    "# delete rows that contain null values\n",
    "data.dropna(inplace=True)"
   ]
  },
  {
   "cell_type": "code",
   "execution_count": 8,
   "metadata": {
    "collapsed": true
   },
   "outputs": [],
   "source": [
    "# useful command that lets us see full string in columns; otherwise string is truncated \n",
    "# as in data.head() above\n",
    "pd.options.display.max_colwidth = -1"
   ]
  },
  {
   "cell_type": "markdown",
   "metadata": {},
   "source": [
    "Let's take a look at some of actual question comparisons. "
   ]
  },
  {
   "cell_type": "code",
   "execution_count": 9,
   "metadata": {
    "collapsed": false,
    "scrolled": true
   },
   "outputs": [
    {
     "data": {
      "text/html": [
       "<div>\n",
       "<table border=\"1\" class=\"dataframe\">\n",
       "  <thead>\n",
       "    <tr style=\"text-align: right;\">\n",
       "      <th></th>\n",
       "      <th>text1</th>\n",
       "      <th>text2</th>\n",
       "      <th>duplicate</th>\n",
       "    </tr>\n",
       "  </thead>\n",
       "  <tbody>\n",
       "    <tr>\n",
       "      <th>0</th>\n",
       "      <td>What is the step by step guide to invest in share market in india?</td>\n",
       "      <td>What is the step by step guide to invest in share market?</td>\n",
       "      <td>0</td>\n",
       "    </tr>\n",
       "    <tr>\n",
       "      <th>1</th>\n",
       "      <td>What is the story of Kohinoor (Koh-i-Noor) Diamond?</td>\n",
       "      <td>What would happen if the Indian government stole the Kohinoor (Koh-i-Noor) diamond back?</td>\n",
       "      <td>0</td>\n",
       "    </tr>\n",
       "    <tr>\n",
       "      <th>2</th>\n",
       "      <td>How can I increase the speed of my internet connection while using a VPN?</td>\n",
       "      <td>How can Internet speed be increased by hacking through DNS?</td>\n",
       "      <td>0</td>\n",
       "    </tr>\n",
       "    <tr>\n",
       "      <th>3</th>\n",
       "      <td>Why am I mentally very lonely? How can I solve it?</td>\n",
       "      <td>Find the remainder when [math]23^{24}[/math] is divided by 24,23?</td>\n",
       "      <td>0</td>\n",
       "    </tr>\n",
       "    <tr>\n",
       "      <th>4</th>\n",
       "      <td>Which one dissolve in water quikly sugar, salt, methane and carbon di oxide?</td>\n",
       "      <td>Which fish would survive in salt water?</td>\n",
       "      <td>0</td>\n",
       "    </tr>\n",
       "  </tbody>\n",
       "</table>\n",
       "</div>"
      ],
      "text/plain": [
       "                                                                          text1  \\\n",
       "0  What is the step by step guide to invest in share market in india?             \n",
       "1  What is the story of Kohinoor (Koh-i-Noor) Diamond?                            \n",
       "2  How can I increase the speed of my internet connection while using a VPN?      \n",
       "3  Why am I mentally very lonely? How can I solve it?                             \n",
       "4  Which one dissolve in water quikly sugar, salt, methane and carbon di oxide?   \n",
       "\n",
       "                                                                                      text2  \\\n",
       "0  What is the step by step guide to invest in share market?                                  \n",
       "1  What would happen if the Indian government stole the Kohinoor (Koh-i-Noor) diamond back?   \n",
       "2  How can Internet speed be increased by hacking through DNS?                                \n",
       "3  Find the remainder when [math]23^{24}[/math] is divided by 24,23?                          \n",
       "4  Which fish would survive in salt water?                                                    \n",
       "\n",
       "   duplicate  \n",
       "0  0          \n",
       "1  0          \n",
       "2  0          \n",
       "3  0          \n",
       "4  0          "
      ]
     },
     "execution_count": 9,
     "metadata": {},
     "output_type": "execute_result"
    }
   ],
   "source": [
    "data[[\"text1\", \"text2\", \"duplicate\"]].head()"
   ]
  },
  {
   "cell_type": "markdown",
   "metadata": {},
   "source": [
    "In looking at data I notice a few things: \n",
    "\n",
    "#### 1) There can be reasonable disagreement about whether questions are duplicates. \n",
    "\n",
    "For example, at index 19, \"Why do rockets look white?\" could be considered slightly different from \"Why are rockets and boosters painted white\" - in fact, the answer to the first question might be \"because they are painted white\" (as opposed to something like \"atmospheric effects make them look white during liftoff\"), which might naturally lead to the second question. In thise dataset though, these questions are considered duplicates. This type of \"reasonable disagreement noise\" in labeling is common, unavoidable, and important to be aware of.\n",
    "\n",
    "#### 2) For questions that are not considered duplicates, there appear to be two classes: ones where the two questions are closely related but distinct, and ones where the two questions are totally unrelated.\n",
    "\n",
    "For example, at index 0 the questions \"What is the step by step guide to invest in share market in India?\" and \"What is the step by step guide to invest in share market?\" are closely related but logically distinct, as one has a narrower focus than the other. However, at index 3 we have \n",
    "\n",
    "\"Why am I mentally very lonely? How can I solve it?\" \n",
    "\n",
    "being compared with \n",
    "\n",
    "\"Find the remainder when [math]23^{24}[/math] is divided by 24,23?\"\n",
    "\n",
    "which are completely unrelated. This is likely due to the sampling issue mentioned in data release: \n",
    "\n",
    "\"Our original sampling method returned an imbalanced dataset with many more true examples of duplicate pairs than non-duplicates. Therefore, we supplemented the dataset with negative examples. One source of negative examples were pairs of “related questions” which, although pertaining to similar topics, are not truly semantically equivalent.\"\n",
    "\n",
    "This is useful to know for model creation, as we now know we cannot assume the two questions will be somewhat related - they could be completely different. "
   ]
  },
  {
   "cell_type": "markdown",
   "metadata": {},
   "source": [
    "## Baseline model\n",
    "\n",
    "Always a good idea to try an extremely simple model first. This helps set a baseline for what is considered a \"good\" model.\n",
    "\n",
    "For this data set, the simplest conceivable model would be to predict whichever class is most common in the data.\n",
    "\n",
    "This model predicts every item as \"not duplicate\" and gets 63% accuracy. It also has virtue of not falsely predicting any true different posts as duplicates (i.e., no false positives), which is probably a particularly important characteristic for a model used in production."
   ]
  },
  {
   "cell_type": "code",
   "execution_count": 10,
   "metadata": {
    "collapsed": false,
    "scrolled": false
   },
   "outputs": [
    {
     "name": "stdout",
     "output_type": "stream",
     "text": [
      "Number of 0 labels: 255025\n",
      "Number of 1 labels: 149263\n",
      "Accuracy to predict most common label (in this case 0): 0.630800320564\n"
     ]
    }
   ],
   "source": [
    "print \"Number of 0 labels:\", len(data[data.duplicate == 0])\n",
    "print \"Number of 1 labels:\", len(data[data.duplicate == 1])\n",
    "print \"Accuracy to predict most common label (in this case 0):\", len(data[data.duplicate == 0])/float(len(data))"
   ]
  },
  {
   "cell_type": "markdown",
   "metadata": {},
   "source": [
    "# Create features\n",
    "\n",
    "For text data, a common feature set is weighted term frequenices. Each text document is then represented as a tf-idf vector, which uses word frequencies between documents (normalized by how often the words appear across documents) as features. \n",
    "\n",
    "The sklearn implementation provides options to remove \"stop words\" (common english words like \"the\" that are unlikely to communicate information content), remove words that appear too frequently or too rarely, and to select how many words total should be considered features when building a feature vector. It also has ability to extract N-grams, which help preserve some of ordering information that a regular frequency count completely loses.\n",
    "\n",
    "Because the classification task involves comparing two documents (in this case two questions), we will need a way to compare the two feature vectors. The standard way to do this for documents is to compute the dot product between their tf-idf vectors, called the cosine similarity. The sklearn tf-idf vectors are normalized to unit length already, so we can use a regular dot product without dividing by vectors lengths.  \n",
    "\n",
    "### Feature ideas: \n",
    "\n",
    "0) explore distribution of dot products between questions for each feature idea\n",
    "\n",
    "0.5) use hashing trick for feature vector creation to increase speed if don't need to convert vectors back to words\n",
    "\n",
    "1) cross-validate to test parameters for max_df, min_df, and max_features\n",
    "\n",
    "2) binary occurence model (instead of tf-idf - supposed to be better for small documents)"
   ]
  },
  {
   "cell_type": "markdown",
   "metadata": {},
   "source": [
    "## TF-IDF"
   ]
  },
  {
   "cell_type": "code",
   "execution_count": 11,
   "metadata": {
    "collapsed": false
   },
   "outputs": [],
   "source": [
    "from sklearn.feature_extraction.text import TfidfVectorizer\n",
    "vectorizer = TfidfVectorizer(stop_words='english', use_idf=True, max_df=0.5)"
   ]
  },
  {
   "cell_type": "code",
   "execution_count": 12,
   "metadata": {
    "collapsed": true
   },
   "outputs": [],
   "source": [
    "# make dataframe with one column for all questions so they shared same vocabulary in \n",
    "# word frequency model\n",
    "all_questions = pd.concat([data[\"text1\"], data[\"text2\"]], ignore_index=True)"
   ]
  },
  {
   "cell_type": "code",
   "execution_count": 13,
   "metadata": {
    "collapsed": false,
    "scrolled": true
   },
   "outputs": [],
   "source": [
    "# vectorize all questions together for one common vocabulary and feature space\n",
    "all_Q = vectorizer.fit_transform(all_questions.values)"
   ]
  },
  {
   "cell_type": "code",
   "execution_count": 14,
   "metadata": {
    "collapsed": false
   },
   "outputs": [
    {
     "data": {
      "text/plain": [
       "808576"
      ]
     },
     "execution_count": 14,
     "metadata": {},
     "output_type": "execute_result"
    }
   ],
   "source": [
    "all_Q.shape[0]"
   ]
  },
  {
   "cell_type": "code",
   "execution_count": 15,
   "metadata": {
    "collapsed": true
   },
   "outputs": [],
   "source": [
    "Q1 = all_Q[0:all_Q.shape[0]/2]\n",
    "Q2 = all_Q[all_Q.shape[0]/2:]"
   ]
  },
  {
   "cell_type": "code",
   "execution_count": 16,
   "metadata": {
    "collapsed": false
   },
   "outputs": [
    {
     "name": "stdout",
     "output_type": "stream",
     "text": [
      "Q1 shape: (404288, 85846)\n",
      "Q2 shape: (404288, 85846)\n"
     ]
    }
   ],
   "source": [
    "print \"Q1 shape:\", Q1.shape\n",
    "print \"Q2 shape:\", Q2.shape"
   ]
  },
  {
   "cell_type": "markdown",
   "metadata": {},
   "source": [
    "Below shows how we can use the tf-idf vector to go back to word representation (though with order information lost). "
   ]
  },
  {
   "cell_type": "code",
   "execution_count": 17,
   "metadata": {
    "collapsed": false
   },
   "outputs": [],
   "source": [
    "import numpy as np\n",
    "# gives list of features in alphabetical order\n",
    "word_bank = np.array(vectorizer.get_feature_names())"
   ]
  },
  {
   "cell_type": "code",
   "execution_count": 18,
   "metadata": {
    "collapsed": false
   },
   "outputs": [
    {
     "name": "stdout",
     "output_type": "stream",
     "text": [
      "step\n",
      "guide\n",
      "invest\n",
      "share\n",
      "market\n",
      "india\n"
     ]
    }
   ],
   "source": [
    "for index in Q1[0,:].nonzero()[1]:\n",
    "    print word_bank[index]"
   ]
  },
  {
   "cell_type": "code",
   "execution_count": 19,
   "metadata": {
    "collapsed": false
   },
   "outputs": [
    {
     "name": "stdout",
     "output_type": "stream",
     "text": [
      "step\n",
      "guide\n",
      "invest\n",
      "share\n",
      "market\n"
     ]
    }
   ],
   "source": [
    "for index in Q2[0,:].nonzero()[1]:\n",
    "    print word_bank[index]"
   ]
  },
  {
   "cell_type": "markdown",
   "metadata": {},
   "source": [
    "Next show how to take a dot product between two sparse vectors. \n",
    "\n",
    "The .T takes transpose and .A converts back to a regular numpy array."
   ]
  },
  {
   "cell_type": "code",
   "execution_count": 20,
   "metadata": {
    "collapsed": false
   },
   "outputs": [],
   "source": [
    "row = Q1[0,:]"
   ]
  },
  {
   "cell_type": "code",
   "execution_count": 21,
   "metadata": {
    "collapsed": false
   },
   "outputs": [
    {
     "data": {
      "text/plain": [
       "1.0000000000000002"
      ]
     },
     "execution_count": 21,
     "metadata": {},
     "output_type": "execute_result"
    }
   ],
   "source": [
    "np.dot(row, row.T).A[0,0]"
   ]
  },
  {
   "cell_type": "code",
   "execution_count": 22,
   "metadata": {
    "collapsed": false
   },
   "outputs": [
    {
     "data": {
      "text/plain": [
       "0.98178420718145643"
      ]
     },
     "execution_count": 22,
     "metadata": {},
     "output_type": "execute_result"
    }
   ],
   "source": [
    "# try dotting first question from Q1 and Q2 together - very nearly 1, showing related question, \n",
    "# tho they are not considered duplicates\n",
    "np.dot(Q1[0,:], Q2[0,:].T).A[0,0]"
   ]
  },
  {
   "cell_type": "code",
   "execution_count": 23,
   "metadata": {
    "collapsed": false
   },
   "outputs": [
    {
     "data": {
      "text/plain": [
       "0.0"
      ]
     },
     "execution_count": 23,
     "metadata": {},
     "output_type": "execute_result"
    }
   ],
   "source": [
    "# now try dotting two unrelated questions together - zero, as expected \n",
    "np.dot(Q1[0,:], Q2[4,:].T).A[0,0]"
   ]
  },
  {
   "cell_type": "code",
   "execution_count": 24,
   "metadata": {
    "collapsed": false
   },
   "outputs": [
    {
     "data": {
      "text/plain": [
       "0.48180514623932036"
      ]
     },
     "execution_count": 24,
     "metadata": {},
     "output_type": "execute_result"
    }
   ],
   "source": [
    "# lastly, try dot between two questions (index 5) that are considered duplicates: \n",
    "# only 0.48, which suggests a model based only on term counts or term frequencies will have \n",
    "# trouble achieving high accuracy\n",
    "np.dot(Q1[5,:], Q2[5,:].T).A[0,0]"
   ]
  },
  {
   "cell_type": "markdown",
   "metadata": {},
   "source": [
    "### Add tf-idf vectors products to dataframe"
   ]
  },
  {
   "cell_type": "code",
   "execution_count": 25,
   "metadata": {
    "collapsed": false
   },
   "outputs": [],
   "source": [
    "# make columns of dots between Q1 and Q2\n",
    "tf_idf_dot_column = [np.dot(Q1[i,:], Q2[i,:].T).A[0,0] for i in range(Q1.shape[0])]"
   ]
  },
  {
   "cell_type": "code",
   "execution_count": 26,
   "metadata": {
    "collapsed": false
   },
   "outputs": [],
   "source": [
    "tf_idf_dot_products = pd.Series(np.array(tf_idf_dot_column))"
   ]
  },
  {
   "cell_type": "code",
   "execution_count": 27,
   "metadata": {
    "collapsed": false
   },
   "outputs": [
    {
     "data": {
      "text/plain": [
       "404288"
      ]
     },
     "execution_count": 27,
     "metadata": {},
     "output_type": "execute_result"
    }
   ],
   "source": [
    "len(tf_idf_dot_products)"
   ]
  },
  {
   "cell_type": "code",
   "execution_count": 28,
   "metadata": {
    "collapsed": true
   },
   "outputs": [],
   "source": [
    "data.reset_index(drop=True, inplace=True)"
   ]
  },
  {
   "cell_type": "code",
   "execution_count": 29,
   "metadata": {
    "collapsed": false
   },
   "outputs": [],
   "source": [
    "data = data.assign(tf_idf_dot_products=tf_idf_dot_products.values)"
   ]
  },
  {
   "cell_type": "code",
   "execution_count": 30,
   "metadata": {
    "collapsed": false,
    "scrolled": true
   },
   "outputs": [
    {
     "data": {
      "text/html": [
       "<div>\n",
       "<table border=\"1\" class=\"dataframe\">\n",
       "  <thead>\n",
       "    <tr style=\"text-align: right;\">\n",
       "      <th></th>\n",
       "      <th>id</th>\n",
       "      <th>qid1</th>\n",
       "      <th>qid2</th>\n",
       "      <th>text1</th>\n",
       "      <th>text2</th>\n",
       "      <th>duplicate</th>\n",
       "      <th>tf_idf_dot_products</th>\n",
       "    </tr>\n",
       "  </thead>\n",
       "  <tbody>\n",
       "    <tr>\n",
       "      <th>0</th>\n",
       "      <td>0</td>\n",
       "      <td>1</td>\n",
       "      <td>2</td>\n",
       "      <td>What is the step by step guide to invest in share market in india?</td>\n",
       "      <td>What is the step by step guide to invest in share market?</td>\n",
       "      <td>0</td>\n",
       "      <td>0.981784</td>\n",
       "    </tr>\n",
       "    <tr>\n",
       "      <th>1</th>\n",
       "      <td>1</td>\n",
       "      <td>3</td>\n",
       "      <td>4</td>\n",
       "      <td>What is the story of Kohinoor (Koh-i-Noor) Diamond?</td>\n",
       "      <td>What would happen if the Indian government stole the Kohinoor (Koh-i-Noor) diamond back?</td>\n",
       "      <td>0</td>\n",
       "      <td>0.791940</td>\n",
       "    </tr>\n",
       "    <tr>\n",
       "      <th>2</th>\n",
       "      <td>2</td>\n",
       "      <td>5</td>\n",
       "      <td>6</td>\n",
       "      <td>How can I increase the speed of my internet connection while using a VPN?</td>\n",
       "      <td>How can Internet speed be increased by hacking through DNS?</td>\n",
       "      <td>0</td>\n",
       "      <td>0.276089</td>\n",
       "    </tr>\n",
       "    <tr>\n",
       "      <th>3</th>\n",
       "      <td>3</td>\n",
       "      <td>7</td>\n",
       "      <td>8</td>\n",
       "      <td>Why am I mentally very lonely? How can I solve it?</td>\n",
       "      <td>Find the remainder when [math]23^{24}[/math] is divided by 24,23?</td>\n",
       "      <td>0</td>\n",
       "      <td>0.000000</td>\n",
       "    </tr>\n",
       "    <tr>\n",
       "      <th>4</th>\n",
       "      <td>4</td>\n",
       "      <td>9</td>\n",
       "      <td>10</td>\n",
       "      <td>Which one dissolve in water quikly sugar, salt, methane and carbon di oxide?</td>\n",
       "      <td>Which fish would survive in salt water?</td>\n",
       "      <td>0</td>\n",
       "      <td>0.243643</td>\n",
       "    </tr>\n",
       "  </tbody>\n",
       "</table>\n",
       "</div>"
      ],
      "text/plain": [
       "   id  qid1  qid2  \\\n",
       "0  0   1     2      \n",
       "1  1   3     4      \n",
       "2  2   5     6      \n",
       "3  3   7     8      \n",
       "4  4   9     10     \n",
       "\n",
       "                                                                          text1  \\\n",
       "0  What is the step by step guide to invest in share market in india?             \n",
       "1  What is the story of Kohinoor (Koh-i-Noor) Diamond?                            \n",
       "2  How can I increase the speed of my internet connection while using a VPN?      \n",
       "3  Why am I mentally very lonely? How can I solve it?                             \n",
       "4  Which one dissolve in water quikly sugar, salt, methane and carbon di oxide?   \n",
       "\n",
       "                                                                                      text2  \\\n",
       "0  What is the step by step guide to invest in share market?                                  \n",
       "1  What would happen if the Indian government stole the Kohinoor (Koh-i-Noor) diamond back?   \n",
       "2  How can Internet speed be increased by hacking through DNS?                                \n",
       "3  Find the remainder when [math]23^{24}[/math] is divided by 24,23?                          \n",
       "4  Which fish would survive in salt water?                                                    \n",
       "\n",
       "   duplicate  tf_idf_dot_products  \n",
       "0  0          0.981784             \n",
       "1  0          0.791940             \n",
       "2  0          0.276089             \n",
       "3  0          0.000000             \n",
       "4  0          0.243643             "
      ]
     },
     "execution_count": 30,
     "metadata": {},
     "output_type": "execute_result"
    }
   ],
   "source": [
    "data.head()"
   ]
  },
  {
   "cell_type": "markdown",
   "metadata": {},
   "source": [
    "##### Plot tf_idf dot products for duplicates and non-duplicates\n",
    "\n",
    "We see from charts below that non-duplicates have a spike at 0 and duplicates have a spike at 1, as expected. There appears to be a vast overlap in the middle (meaning in the area where questions use some of the same words), which will be the hardest pairs to correctly classify under this model."
   ]
  },
  {
   "cell_type": "code",
   "execution_count": 31,
   "metadata": {
    "collapsed": true
   },
   "outputs": [],
   "source": [
    "%matplotlib inline\n",
    "import matplotlib\n",
    "matplotlib.style.use('ggplot')"
   ]
  },
  {
   "cell_type": "code",
   "execution_count": 32,
   "metadata": {
    "collapsed": false
   },
   "outputs": [
    {
     "data": {
      "text/plain": [
       "<matplotlib.axes._subplots.AxesSubplot at 0x7fdba751ce10>"
      ]
     },
     "execution_count": 32,
     "metadata": {},
     "output_type": "execute_result"
    },
    {
     "data": {
      "image/png": "[encoded data removed]",
      "text/plain": [
       "<matplotlib.figure.Figure at 0x7fdba9e2d310>"
      ]
     },
     "metadata": {},
     "output_type": "display_data"
    }
   ],
   "source": [
    "# dot product distribution for non-duplicates\n",
    "data[data.duplicate == 0].tf_idf_dot_products.plot(\"kde\")"
   ]
  },
  {
   "cell_type": "code",
   "execution_count": 33,
   "metadata": {
    "collapsed": false
   },
   "outputs": [
    {
     "data": {
      "text/plain": [
       "<matplotlib.axes._subplots.AxesSubplot at 0x7fdba1f42210>"
      ]
     },
     "execution_count": 33,
     "metadata": {},
     "output_type": "execute_result"
    },
    {
     "data": {
      "image/png": "[encoded data removed]",
      "text/plain": [
       "<matplotlib.figure.Figure at 0x7fdbafe37f50>"
      ]
     },
     "metadata": {},
     "output_type": "display_data"
    }
   ],
   "source": [
    "# dot product distribution for duplicates\n",
    "data[data.duplicate == 1].tf_idf_dot_products.plot(\"kde\")"
   ]
  },
  {
   "cell_type": "code",
   "execution_count": 34,
   "metadata": {
    "collapsed": false
   },
   "outputs": [
    {
     "data": {
      "text/plain": [
       "<matplotlib.axes._subplots.AxesSubplot at 0x7fdba3288ed0>"
      ]
     },
     "execution_count": 34,
     "metadata": {},
     "output_type": "execute_result"
    },
    {
     "data": {
      "image/png": "[encoded data removed]",
      "text/plain": [
       "<matplotlib.figure.Figure at 0x7fdba27280d0>"
      ]
     },
     "metadata": {},
     "output_type": "display_data"
    }
   ],
   "source": [
    "# histograms make this more clear: non-duplicates have a big spike at zero overlap\n",
    "data[data.duplicate == 0].tf_idf_dot_products.plot(\"hist\", bins=50)"
   ]
  },
  {
   "cell_type": "code",
   "execution_count": 35,
   "metadata": {
    "collapsed": false
   },
   "outputs": [
    {
     "data": {
      "text/plain": [
       "<matplotlib.axes._subplots.AxesSubplot at 0x7fdbb39174d0>"
      ]
     },
     "execution_count": 35,
     "metadata": {},
     "output_type": "execute_result"
    },
    {
     "data": {
      "image/png": "[encoded data removed]",
      "text/plain": [
       "<matplotlib.figure.Figure at 0x7fdba3064390>"
      ]
     },
     "metadata": {},
     "output_type": "display_data"
    }
   ],
   "source": [
    "# true duplicates have a big spike at near-total overlap\n",
    "data[data.duplicate == 1].tf_idf_dot_products.plot(\"hist\", bins=50)"
   ]
  },
  {
   "cell_type": "markdown",
   "metadata": {},
   "source": [
    "# Make simple with tf-idf dot products, show ROC plot"
   ]
  },
  {
   "cell_type": "code",
   "execution_count": 36,
   "metadata": {
    "collapsed": false
   },
   "outputs": [],
   "source": [
    "from sklearn.model_selection import train_test_split\n",
    "import matplotlib.pyplot as plt\n",
    "from sklearn.metrics import roc_curve\n",
    "from sklearn.metrics import roc_auc_score"
   ]
  },
  {
   "cell_type": "code",
   "execution_count": 37,
   "metadata": {
    "collapsed": false
   },
   "outputs": [],
   "source": [
    "X = data.tf_idf_dot_products.values\n",
    "y = data.duplicate.values\n",
    "X = X.reshape(-1,1) # numpy will require features to have this shape in future \n",
    "X_train, X_test, y_train, y_test = train_test_split(X, y, test_size=0.20)"
   ]
  },
  {
   "cell_type": "code",
   "execution_count": 38,
   "metadata": {
    "collapsed": false
   },
   "outputs": [
    {
     "data": {
      "text/plain": [
       "<matplotlib.text.Text at 0x7fdbafd7c710>"
      ]
     },
     "execution_count": 38,
     "metadata": {},
     "output_type": "execute_result"
    },
    {
     "data": {
      "image/png": "[encoded data removed]",
      "text/plain": [
       "<matplotlib.figure.Figure at 0x7fdbb384c790>"
      ]
     },
     "metadata": {},
     "output_type": "display_data"
    }
   ],
   "source": [
    "fpr, tpr, thresholds = roc_curve(y_test, X_test)\n",
    "plt.plot(fpr, tpr) \n",
    "plt.xlabel(\"False Positive Rate (1 - Specificity)\") \n",
    "plt.ylabel(\"True Positive Rate (Sensitivity, Recall)\") \n",
    "plt.title(\"ROC plot of Duplicate Questions Model\")"
   ]
  },
  {
   "cell_type": "code",
   "execution_count": 39,
   "metadata": {
    "collapsed": false
   },
   "outputs": [
    {
     "data": {
      "text/plain": [
       "0.7324474760766857"
      ]
     },
     "execution_count": 39,
     "metadata": {},
     "output_type": "execute_result"
    }
   ],
   "source": [
    "# compute auc score\n",
    "roc_auc_score(y_test, X_test)"
   ]
  },
  {
   "cell_type": "markdown",
   "metadata": {},
   "source": [
    "# Try 2-grams with tf-idf"
   ]
  },
  {
   "cell_type": "code",
   "execution_count": 40,
   "metadata": {
    "collapsed": true
   },
   "outputs": [],
   "source": [
    "vectorizer_2gram = TfidfVectorizer(stop_words='english', use_idf=True, max_df=0.5, ngram_range=(1, 2))"
   ]
  },
  {
   "cell_type": "code",
   "execution_count": 41,
   "metadata": {
    "collapsed": false
   },
   "outputs": [],
   "source": [
    "# make dataframe with one column for all questions so they shared same vocabulary in \n",
    "# word frequency model\n",
    "all_questions = pd.concat([data[\"text1\"], data[\"text2\"]], ignore_index=True)\n",
    "# vectorize all questions together for one common vocabulary and feature space\n",
    "all_Q = vectorizer_2gram.fit_transform(all_questions.values)"
   ]
  },
  {
   "cell_type": "code",
   "execution_count": 42,
   "metadata": {
    "collapsed": true
   },
   "outputs": [],
   "source": [
    "Q1 = all_Q[0:all_Q.shape[0]/2]\n",
    "Q2 = all_Q[all_Q.shape[0]/2:]"
   ]
  },
  {
   "cell_type": "code",
   "execution_count": 43,
   "metadata": {
    "collapsed": true
   },
   "outputs": [],
   "source": [
    "# make columns of dots between Q1 and Q2 - this takes about 15 minutes to run\n",
    "tf_idf_2gram_dot_column = [np.dot(Q1[i,:], Q2[i,:].T).A[0,0] for i in range(Q1.shape[0])]"
   ]
  },
  {
   "cell_type": "code",
   "execution_count": 44,
   "metadata": {
    "collapsed": false
   },
   "outputs": [],
   "source": [
    "tf_idf_2gram_dot_products = pd.Series(np.array(tf_idf_2gram_dot_column))\n",
    "data.reset_index(drop=True, inplace=True)\n",
    "data = data.assign(tf_idf_2gram_dot_products=tf_idf_2gram_dot_products.values)"
   ]
  },
  {
   "cell_type": "code",
   "execution_count": 45,
   "metadata": {
    "collapsed": false
   },
   "outputs": [
    {
     "data": {
      "text/html": [
       "<div>\n",
       "<table border=\"1\" class=\"dataframe\">\n",
       "  <thead>\n",
       "    <tr style=\"text-align: right;\">\n",
       "      <th></th>\n",
       "      <th>id</th>\n",
       "      <th>qid1</th>\n",
       "      <th>qid2</th>\n",
       "      <th>text1</th>\n",
       "      <th>text2</th>\n",
       "      <th>duplicate</th>\n",
       "      <th>tf_idf_dot_products</th>\n",
       "      <th>tf_idf_2gram_dot_products</th>\n",
       "    </tr>\n",
       "  </thead>\n",
       "  <tbody>\n",
       "    <tr>\n",
       "      <th>0</th>\n",
       "      <td>0</td>\n",
       "      <td>1</td>\n",
       "      <td>2</td>\n",
       "      <td>What is the step by step guide to invest in share market in india?</td>\n",
       "      <td>What is the step by step guide to invest in share market?</td>\n",
       "      <td>0</td>\n",
       "      <td>0.981784</td>\n",
       "      <td>0.940753</td>\n",
       "    </tr>\n",
       "    <tr>\n",
       "      <th>1</th>\n",
       "      <td>1</td>\n",
       "      <td>3</td>\n",
       "      <td>4</td>\n",
       "      <td>What is the story of Kohinoor (Koh-i-Noor) Diamond?</td>\n",
       "      <td>What would happen if the Indian government stole the Kohinoor (Koh-i-Noor) diamond back?</td>\n",
       "      <td>0</td>\n",
       "      <td>0.791940</td>\n",
       "      <td>0.672595</td>\n",
       "    </tr>\n",
       "    <tr>\n",
       "      <th>2</th>\n",
       "      <td>2</td>\n",
       "      <td>5</td>\n",
       "      <td>6</td>\n",
       "      <td>How can I increase the speed of my internet connection while using a VPN?</td>\n",
       "      <td>How can Internet speed be increased by hacking through DNS?</td>\n",
       "      <td>0</td>\n",
       "      <td>0.276089</td>\n",
       "      <td>0.095180</td>\n",
       "    </tr>\n",
       "    <tr>\n",
       "      <th>3</th>\n",
       "      <td>3</td>\n",
       "      <td>7</td>\n",
       "      <td>8</td>\n",
       "      <td>Why am I mentally very lonely? How can I solve it?</td>\n",
       "      <td>Find the remainder when [math]23^{24}[/math] is divided by 24,23?</td>\n",
       "      <td>0</td>\n",
       "      <td>0.000000</td>\n",
       "      <td>0.000000</td>\n",
       "    </tr>\n",
       "    <tr>\n",
       "      <th>4</th>\n",
       "      <td>4</td>\n",
       "      <td>9</td>\n",
       "      <td>10</td>\n",
       "      <td>Which one dissolve in water quikly sugar, salt, methane and carbon di oxide?</td>\n",
       "      <td>Which fish would survive in salt water?</td>\n",
       "      <td>0</td>\n",
       "      <td>0.243643</td>\n",
       "      <td>0.092756</td>\n",
       "    </tr>\n",
       "  </tbody>\n",
       "</table>\n",
       "</div>"
      ],
      "text/plain": [
       "   id  qid1  qid2  \\\n",
       "0  0   1     2      \n",
       "1  1   3     4      \n",
       "2  2   5     6      \n",
       "3  3   7     8      \n",
       "4  4   9     10     \n",
       "\n",
       "                                                                          text1  \\\n",
       "0  What is the step by step guide to invest in share market in india?             \n",
       "1  What is the story of Kohinoor (Koh-i-Noor) Diamond?                            \n",
       "2  How can I increase the speed of my internet connection while using a VPN?      \n",
       "3  Why am I mentally very lonely? How can I solve it?                             \n",
       "4  Which one dissolve in water quikly sugar, salt, methane and carbon di oxide?   \n",
       "\n",
       "                                                                                      text2  \\\n",
       "0  What is the step by step guide to invest in share market?                                  \n",
       "1  What would happen if the Indian government stole the Kohinoor (Koh-i-Noor) diamond back?   \n",
       "2  How can Internet speed be increased by hacking through DNS?                                \n",
       "3  Find the remainder when [math]23^{24}[/math] is divided by 24,23?                          \n",
       "4  Which fish would survive in salt water?                                                    \n",
       "\n",
       "   duplicate  tf_idf_dot_products  tf_idf_2gram_dot_products  \n",
       "0  0          0.981784             0.940753                   \n",
       "1  0          0.791940             0.672595                   \n",
       "2  0          0.276089             0.095180                   \n",
       "3  0          0.000000             0.000000                   \n",
       "4  0          0.243643             0.092756                   "
      ]
     },
     "execution_count": 45,
     "metadata": {},
     "output_type": "execute_result"
    }
   ],
   "source": [
    "data.head()"
   ]
  },
  {
   "cell_type": "code",
   "execution_count": 46,
   "metadata": {
    "collapsed": false
   },
   "outputs": [],
   "source": [
    "# plot ROC curve for 2-gram dot products\n",
    "X = data.tf_idf_2gram_dot_products.values\n",
    "y = data.duplicate.values\n",
    "X = X.reshape(-1,1) # numpy will require features to have this shape in future \n",
    "X_train, X_test, y_train, y_test = train_test_split(X, y, test_size=0.20)"
   ]
  },
  {
   "cell_type": "code",
   "execution_count": 47,
   "metadata": {
    "collapsed": false
   },
   "outputs": [
    {
     "data": {
      "text/plain": [
       "<matplotlib.text.Text at 0x7fdb8f6ffed0>"
      ]
     },
     "execution_count": 47,
     "metadata": {},
     "output_type": "execute_result"
    },
    {
     "data": {
      "image/png": "[encoded data removed]",
      "text/plain": [
       "<matplotlib.figure.Figure at 0x7fdbafd9a710>"
      ]
     },
     "metadata": {},
     "output_type": "display_data"
    }
   ],
   "source": [
    "fpr, tpr, thresholds = roc_curve(y, X)\n",
    "plt.plot(fpr, tpr) \n",
    "plt.xlabel(\"False Positive Rate (1 - Specificity)\") \n",
    "plt.ylabel(\"True Positive Rate (Sensitivity, Recall)\") \n",
    "plt.title(\"ROC plot of Duplicate Questions Model\")"
   ]
  },
  {
   "cell_type": "code",
   "execution_count": 48,
   "metadata": {
    "collapsed": false
   },
   "outputs": [
    {
     "data": {
      "text/plain": [
       "0.72576982770135468"
      ]
     },
     "execution_count": 48,
     "metadata": {},
     "output_type": "execute_result"
    }
   ],
   "source": [
    "# compute auc score for 2gram model - it's worse than 1-gram!\n",
    "roc_auc_score(y_test, X_test)"
   ]
  },
  {
   "cell_type": "markdown",
   "metadata": {
    "collapsed": true
   },
   "source": [
    "# Word Embeddings with Gensim - see other notebook for more detail\n",
    "\n",
    "Here we'll need to do some preprocessing on words - we'll lowercase everything and remove punctuation, and make text file that contains a different question on each line. "
   ]
  },
  {
   "cell_type": "markdown",
   "metadata": {},
   "source": [
    "## Write cleaned questions to txt files"
   ]
  },
  {
   "cell_type": "code",
   "execution_count": 49,
   "metadata": {
    "collapsed": true
   },
   "outputs": [],
   "source": [
    "import gensim # this version is able to use pre-loaded word embeddings for doc2vec\n",
    "import string"
   ]
  },
  {
   "cell_type": "code",
   "execution_count": 70,
   "metadata": {
    "collapsed": false,
    "scrolled": true
   },
   "outputs": [
    {
     "data": {
      "text/html": [
       "<div>\n",
       "<table border=\"1\" class=\"dataframe\">\n",
       "  <thead>\n",
       "    <tr style=\"text-align: right;\">\n",
       "      <th></th>\n",
       "      <th>id</th>\n",
       "      <th>qid1</th>\n",
       "      <th>qid2</th>\n",
       "      <th>text1</th>\n",
       "      <th>text2</th>\n",
       "      <th>duplicate</th>\n",
       "      <th>tf_idf_dot_products</th>\n",
       "      <th>tf_idf_2gram_dot_products</th>\n",
       "      <th>cleaned_q1</th>\n",
       "      <th>cleaned_q2</th>\n",
       "    </tr>\n",
       "  </thead>\n",
       "  <tbody>\n",
       "    <tr>\n",
       "      <th>0</th>\n",
       "      <td>0</td>\n",
       "      <td>1</td>\n",
       "      <td>2</td>\n",
       "      <td>What is the step by step guide to invest in share market in india?</td>\n",
       "      <td>What is the step by step guide to invest in share market?</td>\n",
       "      <td>0</td>\n",
       "      <td>0.981784</td>\n",
       "      <td>0.940753</td>\n",
       "      <td>what is the step by step guide to invest in share market in india</td>\n",
       "      <td>what is the step by step guide to invest in share market in india</td>\n",
       "    </tr>\n",
       "    <tr>\n",
       "      <th>1</th>\n",
       "      <td>1</td>\n",
       "      <td>3</td>\n",
       "      <td>4</td>\n",
       "      <td>What is the story of Kohinoor (Koh-i-Noor) Diamond?</td>\n",
       "      <td>What would happen if the Indian government stole the Kohinoor (Koh-i-Noor) diamond back?</td>\n",
       "      <td>0</td>\n",
       "      <td>0.791940</td>\n",
       "      <td>0.672595</td>\n",
       "      <td>what is the story of kohinoor kohinoor diamond</td>\n",
       "      <td>what is the story of kohinoor kohinoor diamond</td>\n",
       "    </tr>\n",
       "    <tr>\n",
       "      <th>2</th>\n",
       "      <td>2</td>\n",
       "      <td>5</td>\n",
       "      <td>6</td>\n",
       "      <td>How can I increase the speed of my internet connection while using a VPN?</td>\n",
       "      <td>How can Internet speed be increased by hacking through DNS?</td>\n",
       "      <td>0</td>\n",
       "      <td>0.276089</td>\n",
       "      <td>0.095180</td>\n",
       "      <td>how can i increase the speed of my internet connection while using a vpn</td>\n",
       "      <td>how can i increase the speed of my internet connection while using a vpn</td>\n",
       "    </tr>\n",
       "    <tr>\n",
       "      <th>3</th>\n",
       "      <td>3</td>\n",
       "      <td>7</td>\n",
       "      <td>8</td>\n",
       "      <td>Why am I mentally very lonely? How can I solve it?</td>\n",
       "      <td>Find the remainder when [math]23^{24}[/math] is divided by 24,23?</td>\n",
       "      <td>0</td>\n",
       "      <td>0.000000</td>\n",
       "      <td>0.000000</td>\n",
       "      <td>why am i mentally very lonely how can i solve it</td>\n",
       "      <td>why am i mentally very lonely how can i solve it</td>\n",
       "    </tr>\n",
       "    <tr>\n",
       "      <th>4</th>\n",
       "      <td>4</td>\n",
       "      <td>9</td>\n",
       "      <td>10</td>\n",
       "      <td>Which one dissolve in water quikly sugar, salt, methane and carbon di oxide?</td>\n",
       "      <td>Which fish would survive in salt water?</td>\n",
       "      <td>0</td>\n",
       "      <td>0.243643</td>\n",
       "      <td>0.092756</td>\n",
       "      <td>which one dissolve in water quikly sugar salt methane and carbon di oxide</td>\n",
       "      <td>which one dissolve in water quikly sugar salt methane and carbon di oxide</td>\n",
       "    </tr>\n",
       "    <tr>\n",
       "      <th>5</th>\n",
       "      <td>5</td>\n",
       "      <td>11</td>\n",
       "      <td>12</td>\n",
       "      <td>Astrology: I am a Capricorn Sun Cap moon and cap rising...what does that say about me?</td>\n",
       "      <td>I'm a triple Capricorn (Sun, Moon and ascendant in Capricorn) What does this say about me?</td>\n",
       "      <td>1</td>\n",
       "      <td>0.481805</td>\n",
       "      <td>0.319234</td>\n",
       "      <td>astrology i am a capricorn sun cap moon and cap risingwhat does that say about me</td>\n",
       "      <td>astrology i am a capricorn sun cap moon and cap risingwhat does that say about me</td>\n",
       "    </tr>\n",
       "    <tr>\n",
       "      <th>6</th>\n",
       "      <td>6</td>\n",
       "      <td>13</td>\n",
       "      <td>14</td>\n",
       "      <td>Should I buy tiago?</td>\n",
       "      <td>What keeps childern active and far from phone and video games?</td>\n",
       "      <td>0</td>\n",
       "      <td>0.000000</td>\n",
       "      <td>0.000000</td>\n",
       "      <td>should i buy tiago</td>\n",
       "      <td>should i buy tiago</td>\n",
       "    </tr>\n",
       "    <tr>\n",
       "      <th>7</th>\n",
       "      <td>7</td>\n",
       "      <td>15</td>\n",
       "      <td>16</td>\n",
       "      <td>How can I be a good geologist?</td>\n",
       "      <td>What should I do to be a great geologist?</td>\n",
       "      <td>1</td>\n",
       "      <td>0.832588</td>\n",
       "      <td>0.414926</td>\n",
       "      <td>how can i be a good geologist</td>\n",
       "      <td>how can i be a good geologist</td>\n",
       "    </tr>\n",
       "    <tr>\n",
       "      <th>8</th>\n",
       "      <td>8</td>\n",
       "      <td>17</td>\n",
       "      <td>18</td>\n",
       "      <td>When do you use シ instead of し?</td>\n",
       "      <td>When do you use \"&amp;\" instead of \"and\"?</td>\n",
       "      <td>0</td>\n",
       "      <td>1.000000</td>\n",
       "      <td>1.000000</td>\n",
       "      <td>when do you use シ instead of し</td>\n",
       "      <td>when do you use シ instead of し</td>\n",
       "    </tr>\n",
       "    <tr>\n",
       "      <th>9</th>\n",
       "      <td>9</td>\n",
       "      <td>19</td>\n",
       "      <td>20</td>\n",
       "      <td>Motorola (company): Can I hack my Charter Motorolla DCX3400?</td>\n",
       "      <td>How do I hack Motorola DCX3400 for free internet?</td>\n",
       "      <td>0</td>\n",
       "      <td>0.631601</td>\n",
       "      <td>0.248232</td>\n",
       "      <td>motorola company can i hack my charter motorolla dcx3400</td>\n",
       "      <td>motorola company can i hack my charter motorolla dcx3400</td>\n",
       "    </tr>\n",
       "    <tr>\n",
       "      <th>10</th>\n",
       "      <td>10</td>\n",
       "      <td>21</td>\n",
       "      <td>22</td>\n",
       "      <td>Method to find separation of slits using fresnel biprism?</td>\n",
       "      <td>What are some of the things technicians can tell about the durability and reliability of Laptops and its components?</td>\n",
       "      <td>0</td>\n",
       "      <td>0.000000</td>\n",
       "      <td>0.000000</td>\n",
       "      <td>method to find separation of slits using fresnel biprism</td>\n",
       "      <td>method to find separation of slits using fresnel biprism</td>\n",
       "    </tr>\n",
       "    <tr>\n",
       "      <th>11</th>\n",
       "      <td>11</td>\n",
       "      <td>23</td>\n",
       "      <td>24</td>\n",
       "      <td>How do I read and find my YouTube comments?</td>\n",
       "      <td>How can I see all my Youtube comments?</td>\n",
       "      <td>1</td>\n",
       "      <td>0.861627</td>\n",
       "      <td>0.720147</td>\n",
       "      <td>how do i read and find my youtube comments</td>\n",
       "      <td>how do i read and find my youtube comments</td>\n",
       "    </tr>\n",
       "    <tr>\n",
       "      <th>12</th>\n",
       "      <td>12</td>\n",
       "      <td>25</td>\n",
       "      <td>26</td>\n",
       "      <td>What can make Physics easy to learn?</td>\n",
       "      <td>How can you make physics easy to learn?</td>\n",
       "      <td>1</td>\n",
       "      <td>1.000000</td>\n",
       "      <td>1.000000</td>\n",
       "      <td>what can make physics easy to learn</td>\n",
       "      <td>what can make physics easy to learn</td>\n",
       "    </tr>\n",
       "    <tr>\n",
       "      <th>13</th>\n",
       "      <td>13</td>\n",
       "      <td>27</td>\n",
       "      <td>28</td>\n",
       "      <td>What was your first sexual experience like?</td>\n",
       "      <td>What was your first sexual experience?</td>\n",
       "      <td>1</td>\n",
       "      <td>0.919893</td>\n",
       "      <td>0.782227</td>\n",
       "      <td>what was your first sexual experience like</td>\n",
       "      <td>what was your first sexual experience like</td>\n",
       "    </tr>\n",
       "    <tr>\n",
       "      <th>14</th>\n",
       "      <td>14</td>\n",
       "      <td>29</td>\n",
       "      <td>30</td>\n",
       "      <td>What are the laws to change your status from a student visa to a green card in the US, how do they compare to the immigration laws in Canada?</td>\n",
       "      <td>What are the laws to change your status from a student visa to a green card in the US? How do they compare to the immigration laws in Japan?</td>\n",
       "      <td>0</td>\n",
       "      <td>0.923187</td>\n",
       "      <td>0.899480</td>\n",
       "      <td>what are the laws to change your status from a student visa to a green card in the us how do they compare to the immigration laws in canada</td>\n",
       "      <td>what are the laws to change your status from a student visa to a green card in the us how do they compare to the immigration laws in canada</td>\n",
       "    </tr>\n",
       "    <tr>\n",
       "      <th>15</th>\n",
       "      <td>15</td>\n",
       "      <td>31</td>\n",
       "      <td>32</td>\n",
       "      <td>What would a Trump presidency mean for current international master’s students on an F1 visa?</td>\n",
       "      <td>How will a Trump presidency affect the students presently in US or planning to study in US?</td>\n",
       "      <td>1</td>\n",
       "      <td>0.319902</td>\n",
       "      <td>0.167314</td>\n",
       "      <td>what would a trump presidency mean for current international master’s students on an f1 visa</td>\n",
       "      <td>what would a trump presidency mean for current international master’s students on an f1 visa</td>\n",
       "    </tr>\n",
       "    <tr>\n",
       "      <th>16</th>\n",
       "      <td>16</td>\n",
       "      <td>33</td>\n",
       "      <td>34</td>\n",
       "      <td>What does manipulation mean?</td>\n",
       "      <td>What does manipulation means?</td>\n",
       "      <td>1</td>\n",
       "      <td>0.744806</td>\n",
       "      <td>0.570499</td>\n",
       "      <td>what does manipulation mean</td>\n",
       "      <td>what does manipulation mean</td>\n",
       "    </tr>\n",
       "    <tr>\n",
       "      <th>17</th>\n",
       "      <td>17</td>\n",
       "      <td>35</td>\n",
       "      <td>36</td>\n",
       "      <td>Why do girls want to be friends with the guy they reject?</td>\n",
       "      <td>How do guys feel after rejecting a girl?</td>\n",
       "      <td>0</td>\n",
       "      <td>0.000000</td>\n",
       "      <td>0.000000</td>\n",
       "      <td>why do girls want to be friends with the guy they reject</td>\n",
       "      <td>why do girls want to be friends with the guy they reject</td>\n",
       "    </tr>\n",
       "    <tr>\n",
       "      <th>18</th>\n",
       "      <td>18</td>\n",
       "      <td>37</td>\n",
       "      <td>38</td>\n",
       "      <td>Why are so many Quora users posting questions that are readily answered on Google?</td>\n",
       "      <td>Why do people ask Quora questions which can be answered easily by Google?</td>\n",
       "      <td>1</td>\n",
       "      <td>0.467832</td>\n",
       "      <td>0.167317</td>\n",
       "      <td>why are so many quora users posting questions that are readily answered on google</td>\n",
       "      <td>why are so many quora users posting questions that are readily answered on google</td>\n",
       "    </tr>\n",
       "    <tr>\n",
       "      <th>19</th>\n",
       "      <td>19</td>\n",
       "      <td>39</td>\n",
       "      <td>40</td>\n",
       "      <td>Which is the best digital marketing institution in banglore?</td>\n",
       "      <td>Which is the best digital marketing institute in Pune?</td>\n",
       "      <td>0</td>\n",
       "      <td>0.411114</td>\n",
       "      <td>0.344499</td>\n",
       "      <td>which is the best digital marketing institution in banglore</td>\n",
       "      <td>which is the best digital marketing institution in banglore</td>\n",
       "    </tr>\n",
       "    <tr>\n",
       "      <th>20</th>\n",
       "      <td>20</td>\n",
       "      <td>41</td>\n",
       "      <td>42</td>\n",
       "      <td>Why do rockets look white?</td>\n",
       "      <td>Why are rockets and boosters painted white?</td>\n",
       "      <td>1</td>\n",
       "      <td>0.558524</td>\n",
       "      <td>0.223047</td>\n",
       "      <td>why do rockets look white</td>\n",
       "      <td>why do rockets look white</td>\n",
       "    </tr>\n",
       "    <tr>\n",
       "      <th>21</th>\n",
       "      <td>21</td>\n",
       "      <td>43</td>\n",
       "      <td>44</td>\n",
       "      <td>What's causing someone to be jealous?</td>\n",
       "      <td>What can I do to avoid being jealous of someone?</td>\n",
       "      <td>0</td>\n",
       "      <td>0.519088</td>\n",
       "      <td>0.236973</td>\n",
       "      <td>whats causing someone to be jealous</td>\n",
       "      <td>whats causing someone to be jealous</td>\n",
       "    </tr>\n",
       "    <tr>\n",
       "      <th>22</th>\n",
       "      <td>22</td>\n",
       "      <td>45</td>\n",
       "      <td>46</td>\n",
       "      <td>What are the questions should not ask on Quora?</td>\n",
       "      <td>Which question should I ask on Quora?</td>\n",
       "      <td>0</td>\n",
       "      <td>0.639876</td>\n",
       "      <td>0.552700</td>\n",
       "      <td>what are the questions should not ask on quora</td>\n",
       "      <td>what are the questions should not ask on quora</td>\n",
       "    </tr>\n",
       "    <tr>\n",
       "      <th>23</th>\n",
       "      <td>23</td>\n",
       "      <td>47</td>\n",
       "      <td>48</td>\n",
       "      <td>How much is 30 kV in HP?</td>\n",
       "      <td>Where can I find a conversion chart for CC to horsepower?</td>\n",
       "      <td>0</td>\n",
       "      <td>0.000000</td>\n",
       "      <td>0.000000</td>\n",
       "      <td>how much is 30 kv in hp</td>\n",
       "      <td>how much is 30 kv in hp</td>\n",
       "    </tr>\n",
       "    <tr>\n",
       "      <th>24</th>\n",
       "      <td>24</td>\n",
       "      <td>49</td>\n",
       "      <td>50</td>\n",
       "      <td>What does it mean that every time I look at the clock the numbers are the same?</td>\n",
       "      <td>How many times a day do a clock’s hands overlap?</td>\n",
       "      <td>0</td>\n",
       "      <td>0.279509</td>\n",
       "      <td>0.092259</td>\n",
       "      <td>what does it mean that every time i look at the clock the numbers are the same</td>\n",
       "      <td>what does it mean that every time i look at the clock the numbers are the same</td>\n",
       "    </tr>\n",
       "    <tr>\n",
       "      <th>25</th>\n",
       "      <td>25</td>\n",
       "      <td>51</td>\n",
       "      <td>52</td>\n",
       "      <td>What are some tips on making it through the job interview process at Medicines?</td>\n",
       "      <td>What are some tips on making it through the job interview process at Foundation Medicine?</td>\n",
       "      <td>0</td>\n",
       "      <td>0.624104</td>\n",
       "      <td>0.547603</td>\n",
       "      <td>what are some tips on making it through the job interview process at medicines</td>\n",
       "      <td>what are some tips on making it through the job interview process at medicines</td>\n",
       "    </tr>\n",
       "    <tr>\n",
       "      <th>26</th>\n",
       "      <td>26</td>\n",
       "      <td>53</td>\n",
       "      <td>54</td>\n",
       "      <td>What is web application?</td>\n",
       "      <td>What is the web application framework?</td>\n",
       "      <td>0</td>\n",
       "      <td>0.749605</td>\n",
       "      <td>0.661299</td>\n",
       "      <td>what is web application</td>\n",
       "      <td>what is web application</td>\n",
       "    </tr>\n",
       "    <tr>\n",
       "      <th>27</th>\n",
       "      <td>27</td>\n",
       "      <td>55</td>\n",
       "      <td>56</td>\n",
       "      <td>Does society place too much importance on sports?</td>\n",
       "      <td>How do sports contribute to the society?</td>\n",
       "      <td>0</td>\n",
       "      <td>0.560678</td>\n",
       "      <td>0.179366</td>\n",
       "      <td>does society place too much importance on sports</td>\n",
       "      <td>does society place too much importance on sports</td>\n",
       "    </tr>\n",
       "    <tr>\n",
       "      <th>28</th>\n",
       "      <td>28</td>\n",
       "      <td>57</td>\n",
       "      <td>58</td>\n",
       "      <td>What is best way to make money online?</td>\n",
       "      <td>What is best way to ask for money online?</td>\n",
       "      <td>0</td>\n",
       "      <td>0.746256</td>\n",
       "      <td>0.460560</td>\n",
       "      <td>what is best way to make money online</td>\n",
       "      <td>what is best way to make money online</td>\n",
       "    </tr>\n",
       "    <tr>\n",
       "      <th>29</th>\n",
       "      <td>29</td>\n",
       "      <td>59</td>\n",
       "      <td>60</td>\n",
       "      <td>How should I prepare for CA final law?</td>\n",
       "      <td>How one should know that he/she completely prepare for CA final exam?</td>\n",
       "      <td>1</td>\n",
       "      <td>0.626268</td>\n",
       "      <td>0.486653</td>\n",
       "      <td>how should i prepare for ca final law</td>\n",
       "      <td>how should i prepare for ca final law</td>\n",
       "    </tr>\n",
       "    <tr>\n",
       "      <th>...</th>\n",
       "      <td>...</td>\n",
       "      <td>...</td>\n",
       "      <td>...</td>\n",
       "      <td>...</td>\n",
       "      <td>...</td>\n",
       "      <td>...</td>\n",
       "      <td>...</td>\n",
       "      <td>...</td>\n",
       "      <td>...</td>\n",
       "      <td>...</td>\n",
       "    </tr>\n",
       "    <tr>\n",
       "      <th>404258</th>\n",
       "      <td>404260</td>\n",
       "      <td>182494</td>\n",
       "      <td>691</td>\n",
       "      <td>Which phone is best under 12000?</td>\n",
       "      <td>What is the best phone to buy below 15k?</td>\n",
       "      <td>0</td>\n",
       "      <td>0.289460</td>\n",
       "      <td>0.111357</td>\n",
       "      <td>which phone is best under 12000</td>\n",
       "      <td>which phone is best under 12000</td>\n",
       "    </tr>\n",
       "    <tr>\n",
       "      <th>404259</th>\n",
       "      <td>404261</td>\n",
       "      <td>281150</td>\n",
       "      <td>124172</td>\n",
       "      <td>Who is the overall most popular Game of Thrones character?</td>\n",
       "      <td>Who is the most popular character in the Game of Thrones series?</td>\n",
       "      <td>1</td>\n",
       "      <td>0.773168</td>\n",
       "      <td>0.360730</td>\n",
       "      <td>who is the overall most popular game of thrones character</td>\n",
       "      <td>who is the overall most popular game of thrones character</td>\n",
       "    </tr>\n",
       "    <tr>\n",
       "      <th>404260</th>\n",
       "      <td>404262</td>\n",
       "      <td>537905</td>\n",
       "      <td>466328</td>\n",
       "      <td>How do you troubleshoot a Toshiba laptop?</td>\n",
       "      <td>How do I reset a Toshiba laptop?</td>\n",
       "      <td>0</td>\n",
       "      <td>0.637287</td>\n",
       "      <td>0.533788</td>\n",
       "      <td>how do you troubleshoot a toshiba laptop</td>\n",
       "      <td>how do you troubleshoot a toshiba laptop</td>\n",
       "    </tr>\n",
       "    <tr>\n",
       "      <th>404261</th>\n",
       "      <td>404263</td>\n",
       "      <td>375195</td>\n",
       "      <td>537906</td>\n",
       "      <td>How does the burning of fossil fuels contribute to global warming?</td>\n",
       "      <td>Why does CO2 contribute more to global warming than water vapour?</td>\n",
       "      <td>0</td>\n",
       "      <td>0.447443</td>\n",
       "      <td>0.327928</td>\n",
       "      <td>how does the burning of fossil fuels contribute to global warming</td>\n",
       "      <td>how does the burning of fossil fuels contribute to global warming</td>\n",
       "    </tr>\n",
       "    <tr>\n",
       "      <th>404262</th>\n",
       "      <td>404264</td>\n",
       "      <td>537907</td>\n",
       "      <td>537908</td>\n",
       "      <td>Is it safe to store an external battery power bank (for USB devices) in a car?</td>\n",
       "      <td>How do I make a safe and cheap power bank?</td>\n",
       "      <td>0</td>\n",
       "      <td>0.396655</td>\n",
       "      <td>0.182010</td>\n",
       "      <td>is it safe to store an external battery power bank for usb devices in a car</td>\n",
       "      <td>is it safe to store an external battery power bank for usb devices in a car</td>\n",
       "    </tr>\n",
       "    <tr>\n",
       "      <th>404263</th>\n",
       "      <td>404265</td>\n",
       "      <td>25994</td>\n",
       "      <td>16064</td>\n",
       "      <td>How can I gain weight on my body?</td>\n",
       "      <td>What should I eat to gain weight?</td>\n",
       "      <td>1</td>\n",
       "      <td>0.654792</td>\n",
       "      <td>0.476980</td>\n",
       "      <td>how can i gain weight on my body</td>\n",
       "      <td>how can i gain weight on my body</td>\n",
       "    </tr>\n",
       "    <tr>\n",
       "      <th>404264</th>\n",
       "      <td>404266</td>\n",
       "      <td>155813</td>\n",
       "      <td>146284</td>\n",
       "      <td>What is the green dot next to the phone icon on messenger?</td>\n",
       "      <td>My boyfriend says he deleted his Facebook Messenger app, but he is still available for video calling. Next to his chat name the mobile icon always says 1 min. What does that mean?</td>\n",
       "      <td>0</td>\n",
       "      <td>0.276828</td>\n",
       "      <td>0.098297</td>\n",
       "      <td>what is the green dot next to the phone icon on messenger</td>\n",
       "      <td>what is the green dot next to the phone icon on messenger</td>\n",
       "    </tr>\n",
       "    <tr>\n",
       "      <th>404265</th>\n",
       "      <td>404267</td>\n",
       "      <td>20171</td>\n",
       "      <td>290649</td>\n",
       "      <td>What are the causes of the fall of the Roman Empire?</td>\n",
       "      <td>What were the most important causes and effects of the fall of the Roman Empire?</td>\n",
       "      <td>1</td>\n",
       "      <td>0.862693</td>\n",
       "      <td>0.609721</td>\n",
       "      <td>what are the causes of the fall of the roman empire</td>\n",
       "      <td>what are the causes of the fall of the roman empire</td>\n",
       "    </tr>\n",
       "    <tr>\n",
       "      <th>404266</th>\n",
       "      <td>404268</td>\n",
       "      <td>537909</td>\n",
       "      <td>537910</td>\n",
       "      <td>Why don't we still do great music like in the 70's and 80's?</td>\n",
       "      <td>Should I raise my young child on 80's music?</td>\n",
       "      <td>0</td>\n",
       "      <td>0.413049</td>\n",
       "      <td>0.121575</td>\n",
       "      <td>why dont we still do great music like in the 70s and 80s</td>\n",
       "      <td>why dont we still do great music like in the 70s and 80s</td>\n",
       "    </tr>\n",
       "    <tr>\n",
       "      <th>404267</th>\n",
       "      <td>404269</td>\n",
       "      <td>537911</td>\n",
       "      <td>349794</td>\n",
       "      <td>How do you diagnose antisocial personality disorder?</td>\n",
       "      <td>What Does It Feel Like to have antisocial personality disorder?</td>\n",
       "      <td>0</td>\n",
       "      <td>0.724152</td>\n",
       "      <td>0.584407</td>\n",
       "      <td>how do you diagnose antisocial personality disorder</td>\n",
       "      <td>how do you diagnose antisocial personality disorder</td>\n",
       "    </tr>\n",
       "    <tr>\n",
       "      <th>404268</th>\n",
       "      <td>404270</td>\n",
       "      <td>537912</td>\n",
       "      <td>35364</td>\n",
       "      <td>What is the difference between who and how?</td>\n",
       "      <td>What is the difference between \"&amp;\" and \"and\"?</td>\n",
       "      <td>0</td>\n",
       "      <td>1.000000</td>\n",
       "      <td>1.000000</td>\n",
       "      <td>what is the difference between who and how</td>\n",
       "      <td>what is the difference between who and how</td>\n",
       "    </tr>\n",
       "    <tr>\n",
       "      <th>404269</th>\n",
       "      <td>404271</td>\n",
       "      <td>537913</td>\n",
       "      <td>537914</td>\n",
       "      <td>Does Stalin have any grandchildren that are still alive and are they pro-Russia?</td>\n",
       "      <td>What was Joseph Stalin's 5 year plan? How did they affect Russia?</td>\n",
       "      <td>0</td>\n",
       "      <td>0.372103</td>\n",
       "      <td>0.112958</td>\n",
       "      <td>does stalin have any grandchildren that are still alive and are they prorussia</td>\n",
       "      <td>does stalin have any grandchildren that are still alive and are they prorussia</td>\n",
       "    </tr>\n",
       "    <tr>\n",
       "      <th>404270</th>\n",
       "      <td>404272</td>\n",
       "      <td>128018</td>\n",
       "      <td>14005</td>\n",
       "      <td>What are the best new car products or inventions that most people don't know about?</td>\n",
       "      <td>What are some mind-blowing vehicles tools that exist that most people don't know about?</td>\n",
       "      <td>1</td>\n",
       "      <td>0.233731</td>\n",
       "      <td>0.186777</td>\n",
       "      <td>what are the best new car products or inventions that most people dont know about</td>\n",
       "      <td>what are the best new car products or inventions that most people dont know about</td>\n",
       "    </tr>\n",
       "    <tr>\n",
       "      <th>404271</th>\n",
       "      <td>404273</td>\n",
       "      <td>537915</td>\n",
       "      <td>537916</td>\n",
       "      <td>What happens if you put milk in a coffee maker?</td>\n",
       "      <td>What would happen if I put milk instead of water in my automatic drip coffee maker?</td>\n",
       "      <td>1</td>\n",
       "      <td>0.581525</td>\n",
       "      <td>0.318051</td>\n",
       "      <td>what happens if you put milk in a coffee maker</td>\n",
       "      <td>what happens if you put milk in a coffee maker</td>\n",
       "    </tr>\n",
       "    <tr>\n",
       "      <th>404272</th>\n",
       "      <td>404274</td>\n",
       "      <td>178643</td>\n",
       "      <td>87385</td>\n",
       "      <td>Will the next generation of parenting change or stay the same?</td>\n",
       "      <td>What kind of parents will the next generation have?</td>\n",
       "      <td>1</td>\n",
       "      <td>0.353808</td>\n",
       "      <td>0.121855</td>\n",
       "      <td>will the next generation of parenting change or stay the same</td>\n",
       "      <td>will the next generation of parenting change or stay the same</td>\n",
       "    </tr>\n",
       "    <tr>\n",
       "      <th>404273</th>\n",
       "      <td>404275</td>\n",
       "      <td>97922</td>\n",
       "      <td>537917</td>\n",
       "      <td>In accounting, why do we debit expenses and credit revenues?</td>\n",
       "      <td>What is a utilities expense in accounting? How do you accrue for and record it?</td>\n",
       "      <td>0</td>\n",
       "      <td>0.159017</td>\n",
       "      <td>0.064661</td>\n",
       "      <td>in accounting why do we debit expenses and credit revenues</td>\n",
       "      <td>in accounting why do we debit expenses and credit revenues</td>\n",
       "    </tr>\n",
       "    <tr>\n",
       "      <th>404274</th>\n",
       "      <td>404276</td>\n",
       "      <td>24305</td>\n",
       "      <td>308365</td>\n",
       "      <td>What is copilotsearch.com?</td>\n",
       "      <td>What is ContenVania.com?</td>\n",
       "      <td>0</td>\n",
       "      <td>0.206280</td>\n",
       "      <td>0.115089</td>\n",
       "      <td>what is copilotsearchcom</td>\n",
       "      <td>what is copilotsearchcom</td>\n",
       "    </tr>\n",
       "    <tr>\n",
       "      <th>404275</th>\n",
       "      <td>404277</td>\n",
       "      <td>355668</td>\n",
       "      <td>537918</td>\n",
       "      <td>What does analytics do?</td>\n",
       "      <td>What are analytical people like?</td>\n",
       "      <td>0</td>\n",
       "      <td>0.000000</td>\n",
       "      <td>0.000000</td>\n",
       "      <td>what does analytics do</td>\n",
       "      <td>what does analytics do</td>\n",
       "    </tr>\n",
       "    <tr>\n",
       "      <th>404276</th>\n",
       "      <td>404278</td>\n",
       "      <td>537919</td>\n",
       "      <td>169786</td>\n",
       "      <td>How did you prepare for AIIMS/NEET/AIPMT?</td>\n",
       "      <td>How did you prepare for the AIIMS UG entrance exams?</td>\n",
       "      <td>0</td>\n",
       "      <td>0.435154</td>\n",
       "      <td>0.415618</td>\n",
       "      <td>how did you prepare for aiimsneetaipmt</td>\n",
       "      <td>how did you prepare for aiimsneetaipmt</td>\n",
       "    </tr>\n",
       "    <tr>\n",
       "      <th>404277</th>\n",
       "      <td>404279</td>\n",
       "      <td>537920</td>\n",
       "      <td>537921</td>\n",
       "      <td>What is the minimum time required to build a flyover of about 1km?</td>\n",
       "      <td>What is a cheaper and quicker way to build an underpass or a flyover and why?</td>\n",
       "      <td>0</td>\n",
       "      <td>0.365264</td>\n",
       "      <td>0.148472</td>\n",
       "      <td>what is the minimum time required to build a flyover of about 1km</td>\n",
       "      <td>what is the minimum time required to build a flyover of about 1km</td>\n",
       "    </tr>\n",
       "    <tr>\n",
       "      <th>404278</th>\n",
       "      <td>404280</td>\n",
       "      <td>537922</td>\n",
       "      <td>537923</td>\n",
       "      <td>What are some outfit ideas to wear to a frat party?</td>\n",
       "      <td>What are some outfit ideas wear to a frat themed party?</td>\n",
       "      <td>1</td>\n",
       "      <td>0.889980</td>\n",
       "      <td>0.749885</td>\n",
       "      <td>what are some outfit ideas to wear to a frat party</td>\n",
       "      <td>what are some outfit ideas to wear to a frat party</td>\n",
       "    </tr>\n",
       "    <tr>\n",
       "      <th>404279</th>\n",
       "      <td>404281</td>\n",
       "      <td>99131</td>\n",
       "      <td>81495</td>\n",
       "      <td>Why is Manaphy childish in Pokémon Ranger and the Temple of the Sea?</td>\n",
       "      <td>Why is Manaphy annoying in Pokemon ranger and the temple of the sea?</td>\n",
       "      <td>1</td>\n",
       "      <td>0.636921</td>\n",
       "      <td>0.466393</td>\n",
       "      <td>why is manaphy childish in pokémon ranger and the temple of the sea</td>\n",
       "      <td>why is manaphy childish in pokémon ranger and the temple of the sea</td>\n",
       "    </tr>\n",
       "    <tr>\n",
       "      <th>404280</th>\n",
       "      <td>404282</td>\n",
       "      <td>1931</td>\n",
       "      <td>16773</td>\n",
       "      <td>How does a long distance relationship work?</td>\n",
       "      <td>How are long distance relationships maintained?</td>\n",
       "      <td>1</td>\n",
       "      <td>0.410847</td>\n",
       "      <td>0.293149</td>\n",
       "      <td>how does a long distance relationship work</td>\n",
       "      <td>how does a long distance relationship work</td>\n",
       "    </tr>\n",
       "    <tr>\n",
       "      <th>404281</th>\n",
       "      <td>404283</td>\n",
       "      <td>537924</td>\n",
       "      <td>537925</td>\n",
       "      <td>What do you think of the removal of the MagSafe connector from Apple's 2016 MacBook Pro?</td>\n",
       "      <td>What will the CPU upgrade to the 2016 Apple MacBook Pro mean?</td>\n",
       "      <td>0</td>\n",
       "      <td>0.399686</td>\n",
       "      <td>0.171492</td>\n",
       "      <td>what do you think of the removal of the magsafe connector from apples 2016 macbook pro</td>\n",
       "      <td>what do you think of the removal of the magsafe connector from apples 2016 macbook pro</td>\n",
       "    </tr>\n",
       "    <tr>\n",
       "      <th>404282</th>\n",
       "      <td>404284</td>\n",
       "      <td>537926</td>\n",
       "      <td>537927</td>\n",
       "      <td>What does Jainism say about homosexuality?</td>\n",
       "      <td>What does Jainism say about Gays and Homosexuality?</td>\n",
       "      <td>1</td>\n",
       "      <td>0.811295</td>\n",
       "      <td>0.661935</td>\n",
       "      <td>what does jainism say about homosexuality</td>\n",
       "      <td>what does jainism say about homosexuality</td>\n",
       "    </tr>\n",
       "    <tr>\n",
       "      <th>404283</th>\n",
       "      <td>404285</td>\n",
       "      <td>433578</td>\n",
       "      <td>379845</td>\n",
       "      <td>How many keywords are there in the Racket programming language of the latest version?</td>\n",
       "      <td>How many keywords are there in PERL Programming Language in the latest version?</td>\n",
       "      <td>0</td>\n",
       "      <td>0.692023</td>\n",
       "      <td>0.510559</td>\n",
       "      <td>how many keywords are there in the racket programming language of the latest version</td>\n",
       "      <td>how many keywords are there in the racket programming language of the latest version</td>\n",
       "    </tr>\n",
       "    <tr>\n",
       "      <th>404284</th>\n",
       "      <td>404286</td>\n",
       "      <td>18840</td>\n",
       "      <td>155606</td>\n",
       "      <td>Do you believe there is life after death?</td>\n",
       "      <td>Is it true that there is life after death?</td>\n",
       "      <td>1</td>\n",
       "      <td>0.633466</td>\n",
       "      <td>0.486970</td>\n",
       "      <td>do you believe there is life after death</td>\n",
       "      <td>do you believe there is life after death</td>\n",
       "    </tr>\n",
       "    <tr>\n",
       "      <th>404285</th>\n",
       "      <td>404287</td>\n",
       "      <td>537928</td>\n",
       "      <td>537929</td>\n",
       "      <td>What is one coin?</td>\n",
       "      <td>What's this coin?</td>\n",
       "      <td>0</td>\n",
       "      <td>1.000000</td>\n",
       "      <td>1.000000</td>\n",
       "      <td>what is one coin</td>\n",
       "      <td>what is one coin</td>\n",
       "    </tr>\n",
       "    <tr>\n",
       "      <th>404286</th>\n",
       "      <td>404288</td>\n",
       "      <td>537930</td>\n",
       "      <td>537931</td>\n",
       "      <td>What is the approx annual cost of living while studying in UIC Chicago, for an Indian student?</td>\n",
       "      <td>I am having little hairfall problem but I want to use hair styling product. Which one should I prefer out of gel, wax and clay?</td>\n",
       "      <td>0</td>\n",
       "      <td>0.000000</td>\n",
       "      <td>0.000000</td>\n",
       "      <td>what is the approx annual cost of living while studying in uic chicago for an indian student</td>\n",
       "      <td>what is the approx annual cost of living while studying in uic chicago for an indian student</td>\n",
       "    </tr>\n",
       "    <tr>\n",
       "      <th>404287</th>\n",
       "      <td>404289</td>\n",
       "      <td>537932</td>\n",
       "      <td>537933</td>\n",
       "      <td>What is like to have sex with cousin?</td>\n",
       "      <td>What is it like to have sex with your cousin?</td>\n",
       "      <td>0</td>\n",
       "      <td>1.000000</td>\n",
       "      <td>1.000000</td>\n",
       "      <td>what is like to have sex with cousin</td>\n",
       "      <td>what is like to have sex with cousin</td>\n",
       "    </tr>\n",
       "  </tbody>\n",
       "</table>\n",
       "<p>404288 rows × 10 columns</p>\n",
       "</div>"
      ],
      "text/plain": [
       "            id    qid1    qid2  \\\n",
       "0       0       1       2        \n",
       "1       1       3       4        \n",
       "2       2       5       6        \n",
       "3       3       7       8        \n",
       "4       4       9       10       \n",
       "5       5       11      12       \n",
       "6       6       13      14       \n",
       "7       7       15      16       \n",
       "8       8       17      18       \n",
       "9       9       19      20       \n",
       "10      10      21      22       \n",
       "11      11      23      24       \n",
       "12      12      25      26       \n",
       "13      13      27      28       \n",
       "14      14      29      30       \n",
       "15      15      31      32       \n",
       "16      16      33      34       \n",
       "17      17      35      36       \n",
       "18      18      37      38       \n",
       "19      19      39      40       \n",
       "20      20      41      42       \n",
       "21      21      43      44       \n",
       "22      22      45      46       \n",
       "23      23      47      48       \n",
       "24      24      49      50       \n",
       "25      25      51      52       \n",
       "26      26      53      54       \n",
       "27      27      55      56       \n",
       "28      28      57      58       \n",
       "29      29      59      60       \n",
       "...     ..      ..      ..       \n",
       "404258  404260  182494  691      \n",
       "404259  404261  281150  124172   \n",
       "404260  404262  537905  466328   \n",
       "404261  404263  375195  537906   \n",
       "404262  404264  537907  537908   \n",
       "404263  404265  25994   16064    \n",
       "404264  404266  155813  146284   \n",
       "404265  404267  20171   290649   \n",
       "404266  404268  537909  537910   \n",
       "404267  404269  537911  349794   \n",
       "404268  404270  537912  35364    \n",
       "404269  404271  537913  537914   \n",
       "404270  404272  128018  14005    \n",
       "404271  404273  537915  537916   \n",
       "404272  404274  178643  87385    \n",
       "404273  404275  97922   537917   \n",
       "404274  404276  24305   308365   \n",
       "404275  404277  355668  537918   \n",
       "404276  404278  537919  169786   \n",
       "404277  404279  537920  537921   \n",
       "404278  404280  537922  537923   \n",
       "404279  404281  99131   81495    \n",
       "404280  404282  1931    16773    \n",
       "404281  404283  537924  537925   \n",
       "404282  404284  537926  537927   \n",
       "404283  404285  433578  379845   \n",
       "404284  404286  18840   155606   \n",
       "404285  404287  537928  537929   \n",
       "404286  404288  537930  537931   \n",
       "404287  404289  537932  537933   \n",
       "\n",
       "                                                                                                                                                text1  \\\n",
       "0       What is the step by step guide to invest in share market in india?                                                                              \n",
       "1       What is the story of Kohinoor (Koh-i-Noor) Diamond?                                                                                             \n",
       "2       How can I increase the speed of my internet connection while using a VPN?                                                                       \n",
       "3       Why am I mentally very lonely? How can I solve it?                                                                                              \n",
       "4       Which one dissolve in water quikly sugar, salt, methane and carbon di oxide?                                                                    \n",
       "5       Astrology: I am a Capricorn Sun Cap moon and cap rising...what does that say about me?                                                          \n",
       "6       Should I buy tiago?                                                                                                                             \n",
       "7       How can I be a good geologist?                                                                                                                  \n",
       "8       When do you use シ instead of し?                                                                                                                 \n",
       "9       Motorola (company): Can I hack my Charter Motorolla DCX3400?                                                                                    \n",
       "10      Method to find separation of slits using fresnel biprism?                                                                                       \n",
       "11      How do I read and find my YouTube comments?                                                                                                     \n",
       "12      What can make Physics easy to learn?                                                                                                            \n",
       "13      What was your first sexual experience like?                                                                                                     \n",
       "14      What are the laws to change your status from a student visa to a green card in the US, how do they compare to the immigration laws in Canada?   \n",
       "15      What would a Trump presidency mean for current international master’s students on an F1 visa?                                                   \n",
       "16      What does manipulation mean?                                                                                                                    \n",
       "17      Why do girls want to be friends with the guy they reject?                                                                                       \n",
       "18      Why are so many Quora users posting questions that are readily answered on Google?                                                              \n",
       "19      Which is the best digital marketing institution in banglore?                                                                                    \n",
       "20      Why do rockets look white?                                                                                                                      \n",
       "21      What's causing someone to be jealous?                                                                                                           \n",
       "22      What are the questions should not ask on Quora?                                                                                                 \n",
       "23      How much is 30 kV in HP?                                                                                                                        \n",
       "24      What does it mean that every time I look at the clock the numbers are the same?                                                                 \n",
       "25      What are some tips on making it through the job interview process at Medicines?                                                                 \n",
       "26      What is web application?                                                                                                                        \n",
       "27      Does society place too much importance on sports?                                                                                               \n",
       "28      What is best way to make money online?                                                                                                          \n",
       "29      How should I prepare for CA final law?                                                                                                          \n",
       "...                                        ...                                                                                                          \n",
       "404258  Which phone is best under 12000?                                                                                                                \n",
       "404259  Who is the overall most popular Game of Thrones character?                                                                                      \n",
       "404260  How do you troubleshoot a Toshiba laptop?                                                                                                       \n",
       "404261  How does the burning of fossil fuels contribute to global warming?                                                                              \n",
       "404262  Is it safe to store an external battery power bank (for USB devices) in a car?                                                                  \n",
       "404263  How can I gain weight on my body?                                                                                                               \n",
       "404264  What is the green dot next to the phone icon on messenger?                                                                                      \n",
       "404265  What are the causes of the fall of the Roman Empire?                                                                                            \n",
       "404266  Why don't we still do great music like in the 70's and 80's?                                                                                    \n",
       "404267  How do you diagnose antisocial personality disorder?                                                                                            \n",
       "404268  What is the difference between who and how?                                                                                                     \n",
       "404269  Does Stalin have any grandchildren that are still alive and are they pro-Russia?                                                                \n",
       "404270  What are the best new car products or inventions that most people don't know about?                                                             \n",
       "404271  What happens if you put milk in a coffee maker?                                                                                                 \n",
       "404272  Will the next generation of parenting change or stay the same?                                                                                  \n",
       "404273  In accounting, why do we debit expenses and credit revenues?                                                                                    \n",
       "404274  What is copilotsearch.com?                                                                                                                      \n",
       "404275  What does analytics do?                                                                                                                         \n",
       "404276  How did you prepare for AIIMS/NEET/AIPMT?                                                                                                       \n",
       "404277  What is the minimum time required to build a flyover of about 1km?                                                                              \n",
       "404278  What are some outfit ideas to wear to a frat party?                                                                                             \n",
       "404279  Why is Manaphy childish in Pokémon Ranger and the Temple of the Sea?                                                                            \n",
       "404280  How does a long distance relationship work?                                                                                                     \n",
       "404281  What do you think of the removal of the MagSafe connector from Apple's 2016 MacBook Pro?                                                        \n",
       "404282  What does Jainism say about homosexuality?                                                                                                      \n",
       "404283  How many keywords are there in the Racket programming language of the latest version?                                                           \n",
       "404284  Do you believe there is life after death?                                                                                                       \n",
       "404285  What is one coin?                                                                                                                               \n",
       "404286  What is the approx annual cost of living while studying in UIC Chicago, for an Indian student?                                                  \n",
       "404287  What is like to have sex with cousin?                                                                                                           \n",
       "\n",
       "                                                                                                                                                                                      text2  \\\n",
       "0       What is the step by step guide to invest in share market?                                                                                                                             \n",
       "1       What would happen if the Indian government stole the Kohinoor (Koh-i-Noor) diamond back?                                                                                              \n",
       "2       How can Internet speed be increased by hacking through DNS?                                                                                                                           \n",
       "3       Find the remainder when [math]23^{24}[/math] is divided by 24,23?                                                                                                                     \n",
       "4       Which fish would survive in salt water?                                                                                                                                               \n",
       "5       I'm a triple Capricorn (Sun, Moon and ascendant in Capricorn) What does this say about me?                                                                                            \n",
       "6       What keeps childern active and far from phone and video games?                                                                                                                        \n",
       "7       What should I do to be a great geologist?                                                                                                                                             \n",
       "8       When do you use \"&\" instead of \"and\"?                                                                                                                                                 \n",
       "9       How do I hack Motorola DCX3400 for free internet?                                                                                                                                     \n",
       "10      What are some of the things technicians can tell about the durability and reliability of Laptops and its components?                                                                  \n",
       "11      How can I see all my Youtube comments?                                                                                                                                                \n",
       "12      How can you make physics easy to learn?                                                                                                                                               \n",
       "13      What was your first sexual experience?                                                                                                                                                \n",
       "14      What are the laws to change your status from a student visa to a green card in the US? How do they compare to the immigration laws in Japan?                                          \n",
       "15      How will a Trump presidency affect the students presently in US or planning to study in US?                                                                                           \n",
       "16      What does manipulation means?                                                                                                                                                         \n",
       "17      How do guys feel after rejecting a girl?                                                                                                                                              \n",
       "18      Why do people ask Quora questions which can be answered easily by Google?                                                                                                             \n",
       "19      Which is the best digital marketing institute in Pune?                                                                                                                                \n",
       "20      Why are rockets and boosters painted white?                                                                                                                                           \n",
       "21      What can I do to avoid being jealous of someone?                                                                                                                                      \n",
       "22      Which question should I ask on Quora?                                                                                                                                                 \n",
       "23      Where can I find a conversion chart for CC to horsepower?                                                                                                                             \n",
       "24      How many times a day do a clock’s hands overlap?                                                                                                                                      \n",
       "25      What are some tips on making it through the job interview process at Foundation Medicine?                                                                                             \n",
       "26      What is the web application framework?                                                                                                                                                \n",
       "27      How do sports contribute to the society?                                                                                                                                              \n",
       "28      What is best way to ask for money online?                                                                                                                                             \n",
       "29      How one should know that he/she completely prepare for CA final exam?                                                                                                                 \n",
       "...                                                                       ...                                                                                                                 \n",
       "404258  What is the best phone to buy below 15k?                                                                                                                                              \n",
       "404259  Who is the most popular character in the Game of Thrones series?                                                                                                                      \n",
       "404260  How do I reset a Toshiba laptop?                                                                                                                                                      \n",
       "404261  Why does CO2 contribute more to global warming than water vapour?                                                                                                                     \n",
       "404262  How do I make a safe and cheap power bank?                                                                                                                                            \n",
       "404263  What should I eat to gain weight?                                                                                                                                                     \n",
       "404264  My boyfriend says he deleted his Facebook Messenger app, but he is still available for video calling. Next to his chat name the mobile icon always says 1 min. What does that mean?   \n",
       "404265  What were the most important causes and effects of the fall of the Roman Empire?                                                                                                      \n",
       "404266  Should I raise my young child on 80's music?                                                                                                                                          \n",
       "404267  What Does It Feel Like to have antisocial personality disorder?                                                                                                                       \n",
       "404268  What is the difference between \"&\" and \"and\"?                                                                                                                                         \n",
       "404269  What was Joseph Stalin's 5 year plan? How did they affect Russia?                                                                                                                     \n",
       "404270  What are some mind-blowing vehicles tools that exist that most people don't know about?                                                                                               \n",
       "404271  What would happen if I put milk instead of water in my automatic drip coffee maker?                                                                                                   \n",
       "404272  What kind of parents will the next generation have?                                                                                                                                   \n",
       "404273  What is a utilities expense in accounting? How do you accrue for and record it?                                                                                                       \n",
       "404274  What is ContenVania.com?                                                                                                                                                              \n",
       "404275  What are analytical people like?                                                                                                                                                      \n",
       "404276  How did you prepare for the AIIMS UG entrance exams?                                                                                                                                  \n",
       "404277  What is a cheaper and quicker way to build an underpass or a flyover and why?                                                                                                         \n",
       "404278  What are some outfit ideas wear to a frat themed party?                                                                                                                               \n",
       "404279  Why is Manaphy annoying in Pokemon ranger and the temple of the sea?                                                                                                                  \n",
       "404280  How are long distance relationships maintained?                                                                                                                                       \n",
       "404281  What will the CPU upgrade to the 2016 Apple MacBook Pro mean?                                                                                                                         \n",
       "404282  What does Jainism say about Gays and Homosexuality?                                                                                                                                   \n",
       "404283  How many keywords are there in PERL Programming Language in the latest version?                                                                                                       \n",
       "404284  Is it true that there is life after death?                                                                                                                                            \n",
       "404285  What's this coin?                                                                                                                                                                     \n",
       "404286  I am having little hairfall problem but I want to use hair styling product. Which one should I prefer out of gel, wax and clay?                                                       \n",
       "404287  What is it like to have sex with your cousin?                                                                                                                                         \n",
       "\n",
       "        duplicate  tf_idf_dot_products  tf_idf_2gram_dot_products  \\\n",
       "0       0          0.981784             0.940753                    \n",
       "1       0          0.791940             0.672595                    \n",
       "2       0          0.276089             0.095180                    \n",
       "3       0          0.000000             0.000000                    \n",
       "4       0          0.243643             0.092756                    \n",
       "5       1          0.481805             0.319234                    \n",
       "6       0          0.000000             0.000000                    \n",
       "7       1          0.832588             0.414926                    \n",
       "8       0          1.000000             1.000000                    \n",
       "9       0          0.631601             0.248232                    \n",
       "10      0          0.000000             0.000000                    \n",
       "11      1          0.861627             0.720147                    \n",
       "12      1          1.000000             1.000000                    \n",
       "13      1          0.919893             0.782227                    \n",
       "14      0          0.923187             0.899480                    \n",
       "15      1          0.319902             0.167314                    \n",
       "16      1          0.744806             0.570499                    \n",
       "17      0          0.000000             0.000000                    \n",
       "18      1          0.467832             0.167317                    \n",
       "19      0          0.411114             0.344499                    \n",
       "20      1          0.558524             0.223047                    \n",
       "21      0          0.519088             0.236973                    \n",
       "22      0          0.639876             0.552700                    \n",
       "23      0          0.000000             0.000000                    \n",
       "24      0          0.279509             0.092259                    \n",
       "25      0          0.624104             0.547603                    \n",
       "26      0          0.749605             0.661299                    \n",
       "27      0          0.560678             0.179366                    \n",
       "28      0          0.746256             0.460560                    \n",
       "29      1          0.626268             0.486653                    \n",
       "...    ..               ...                  ...                    \n",
       "404258  0          0.289460             0.111357                    \n",
       "404259  1          0.773168             0.360730                    \n",
       "404260  0          0.637287             0.533788                    \n",
       "404261  0          0.447443             0.327928                    \n",
       "404262  0          0.396655             0.182010                    \n",
       "404263  1          0.654792             0.476980                    \n",
       "404264  0          0.276828             0.098297                    \n",
       "404265  1          0.862693             0.609721                    \n",
       "404266  0          0.413049             0.121575                    \n",
       "404267  0          0.724152             0.584407                    \n",
       "404268  0          1.000000             1.000000                    \n",
       "404269  0          0.372103             0.112958                    \n",
       "404270  1          0.233731             0.186777                    \n",
       "404271  1          0.581525             0.318051                    \n",
       "404272  1          0.353808             0.121855                    \n",
       "404273  0          0.159017             0.064661                    \n",
       "404274  0          0.206280             0.115089                    \n",
       "404275  0          0.000000             0.000000                    \n",
       "404276  0          0.435154             0.415618                    \n",
       "404277  0          0.365264             0.148472                    \n",
       "404278  1          0.889980             0.749885                    \n",
       "404279  1          0.636921             0.466393                    \n",
       "404280  1          0.410847             0.293149                    \n",
       "404281  0          0.399686             0.171492                    \n",
       "404282  1          0.811295             0.661935                    \n",
       "404283  0          0.692023             0.510559                    \n",
       "404284  1          0.633466             0.486970                    \n",
       "404285  0          1.000000             1.000000                    \n",
       "404286  0          0.000000             0.000000                    \n",
       "404287  0          1.000000             1.000000                    \n",
       "\n",
       "                                                                                                                                         cleaned_q1  \\\n",
       "0       what is the step by step guide to invest in share market in india                                                                             \n",
       "1       what is the story of kohinoor kohinoor diamond                                                                                                \n",
       "2       how can i increase the speed of my internet connection while using a vpn                                                                      \n",
       "3       why am i mentally very lonely how can i solve it                                                                                              \n",
       "4       which one dissolve in water quikly sugar salt methane and carbon di oxide                                                                     \n",
       "5       astrology i am a capricorn sun cap moon and cap risingwhat does that say about me                                                             \n",
       "6       should i buy tiago                                                                                                                            \n",
       "7       how can i be a good geologist                                                                                                                 \n",
       "8       when do you use シ instead of し                                                                                                                \n",
       "9       motorola company can i hack my charter motorolla dcx3400                                                                                      \n",
       "10      method to find separation of slits using fresnel biprism                                                                                      \n",
       "11      how do i read and find my youtube comments                                                                                                    \n",
       "12      what can make physics easy to learn                                                                                                           \n",
       "13      what was your first sexual experience like                                                                                                    \n",
       "14      what are the laws to change your status from a student visa to a green card in the us how do they compare to the immigration laws in canada   \n",
       "15      what would a trump presidency mean for current international master’s students on an f1 visa                                                  \n",
       "16      what does manipulation mean                                                                                                                   \n",
       "17      why do girls want to be friends with the guy they reject                                                                                      \n",
       "18      why are so many quora users posting questions that are readily answered on google                                                             \n",
       "19      which is the best digital marketing institution in banglore                                                                                   \n",
       "20      why do rockets look white                                                                                                                     \n",
       "21      whats causing someone to be jealous                                                                                                           \n",
       "22      what are the questions should not ask on quora                                                                                                \n",
       "23      how much is 30 kv in hp                                                                                                                       \n",
       "24      what does it mean that every time i look at the clock the numbers are the same                                                                \n",
       "25      what are some tips on making it through the job interview process at medicines                                                                \n",
       "26      what is web application                                                                                                                       \n",
       "27      does society place too much importance on sports                                                                                              \n",
       "28      what is best way to make money online                                                                                                         \n",
       "29      how should i prepare for ca final law                                                                                                         \n",
       "...                                       ...                                                                                                         \n",
       "404258  which phone is best under 12000                                                                                                               \n",
       "404259  who is the overall most popular game of thrones character                                                                                     \n",
       "404260  how do you troubleshoot a toshiba laptop                                                                                                      \n",
       "404261  how does the burning of fossil fuels contribute to global warming                                                                             \n",
       "404262  is it safe to store an external battery power bank for usb devices in a car                                                                   \n",
       "404263  how can i gain weight on my body                                                                                                              \n",
       "404264  what is the green dot next to the phone icon on messenger                                                                                     \n",
       "404265  what are the causes of the fall of the roman empire                                                                                           \n",
       "404266  why dont we still do great music like in the 70s and 80s                                                                                      \n",
       "404267  how do you diagnose antisocial personality disorder                                                                                           \n",
       "404268  what is the difference between who and how                                                                                                    \n",
       "404269  does stalin have any grandchildren that are still alive and are they prorussia                                                                \n",
       "404270  what are the best new car products or inventions that most people dont know about                                                             \n",
       "404271  what happens if you put milk in a coffee maker                                                                                                \n",
       "404272  will the next generation of parenting change or stay the same                                                                                 \n",
       "404273  in accounting why do we debit expenses and credit revenues                                                                                    \n",
       "404274  what is copilotsearchcom                                                                                                                      \n",
       "404275  what does analytics do                                                                                                                        \n",
       "404276  how did you prepare for aiimsneetaipmt                                                                                                        \n",
       "404277  what is the minimum time required to build a flyover of about 1km                                                                             \n",
       "404278  what are some outfit ideas to wear to a frat party                                                                                            \n",
       "404279  why is manaphy childish in pokémon ranger and the temple of the sea                                                                           \n",
       "404280  how does a long distance relationship work                                                                                                    \n",
       "404281  what do you think of the removal of the magsafe connector from apples 2016 macbook pro                                                        \n",
       "404282  what does jainism say about homosexuality                                                                                                     \n",
       "404283  how many keywords are there in the racket programming language of the latest version                                                          \n",
       "404284  do you believe there is life after death                                                                                                      \n",
       "404285  what is one coin                                                                                                                              \n",
       "404286  what is the approx annual cost of living while studying in uic chicago for an indian student                                                  \n",
       "404287  what is like to have sex with cousin                                                                                                          \n",
       "\n",
       "                                                                                                                                         cleaned_q2  \n",
       "0       what is the step by step guide to invest in share market in india                                                                            \n",
       "1       what is the story of kohinoor kohinoor diamond                                                                                               \n",
       "2       how can i increase the speed of my internet connection while using a vpn                                                                     \n",
       "3       why am i mentally very lonely how can i solve it                                                                                             \n",
       "4       which one dissolve in water quikly sugar salt methane and carbon di oxide                                                                    \n",
       "5       astrology i am a capricorn sun cap moon and cap risingwhat does that say about me                                                            \n",
       "6       should i buy tiago                                                                                                                           \n",
       "7       how can i be a good geologist                                                                                                                \n",
       "8       when do you use シ instead of し                                                                                                               \n",
       "9       motorola company can i hack my charter motorolla dcx3400                                                                                     \n",
       "10      method to find separation of slits using fresnel biprism                                                                                     \n",
       "11      how do i read and find my youtube comments                                                                                                   \n",
       "12      what can make physics easy to learn                                                                                                          \n",
       "13      what was your first sexual experience like                                                                                                   \n",
       "14      what are the laws to change your status from a student visa to a green card in the us how do they compare to the immigration laws in canada  \n",
       "15      what would a trump presidency mean for current international master’s students on an f1 visa                                                 \n",
       "16      what does manipulation mean                                                                                                                  \n",
       "17      why do girls want to be friends with the guy they reject                                                                                     \n",
       "18      why are so many quora users posting questions that are readily answered on google                                                            \n",
       "19      which is the best digital marketing institution in banglore                                                                                  \n",
       "20      why do rockets look white                                                                                                                    \n",
       "21      whats causing someone to be jealous                                                                                                          \n",
       "22      what are the questions should not ask on quora                                                                                               \n",
       "23      how much is 30 kv in hp                                                                                                                      \n",
       "24      what does it mean that every time i look at the clock the numbers are the same                                                               \n",
       "25      what are some tips on making it through the job interview process at medicines                                                               \n",
       "26      what is web application                                                                                                                      \n",
       "27      does society place too much importance on sports                                                                                             \n",
       "28      what is best way to make money online                                                                                                        \n",
       "29      how should i prepare for ca final law                                                                                                        \n",
       "...                                       ...                                                                                                        \n",
       "404258  which phone is best under 12000                                                                                                              \n",
       "404259  who is the overall most popular game of thrones character                                                                                    \n",
       "404260  how do you troubleshoot a toshiba laptop                                                                                                     \n",
       "404261  how does the burning of fossil fuels contribute to global warming                                                                            \n",
       "404262  is it safe to store an external battery power bank for usb devices in a car                                                                  \n",
       "404263  how can i gain weight on my body                                                                                                             \n",
       "404264  what is the green dot next to the phone icon on messenger                                                                                    \n",
       "404265  what are the causes of the fall of the roman empire                                                                                          \n",
       "404266  why dont we still do great music like in the 70s and 80s                                                                                     \n",
       "404267  how do you diagnose antisocial personality disorder                                                                                          \n",
       "404268  what is the difference between who and how                                                                                                   \n",
       "404269  does stalin have any grandchildren that are still alive and are they prorussia                                                               \n",
       "404270  what are the best new car products or inventions that most people dont know about                                                            \n",
       "404271  what happens if you put milk in a coffee maker                                                                                               \n",
       "404272  will the next generation of parenting change or stay the same                                                                                \n",
       "404273  in accounting why do we debit expenses and credit revenues                                                                                   \n",
       "404274  what is copilotsearchcom                                                                                                                     \n",
       "404275  what does analytics do                                                                                                                       \n",
       "404276  how did you prepare for aiimsneetaipmt                                                                                                       \n",
       "404277  what is the minimum time required to build a flyover of about 1km                                                                            \n",
       "404278  what are some outfit ideas to wear to a frat party                                                                                           \n",
       "404279  why is manaphy childish in pokémon ranger and the temple of the sea                                                                          \n",
       "404280  how does a long distance relationship work                                                                                                   \n",
       "404281  what do you think of the removal of the magsafe connector from apples 2016 macbook pro                                                       \n",
       "404282  what does jainism say about homosexuality                                                                                                    \n",
       "404283  how many keywords are there in the racket programming language of the latest version                                                         \n",
       "404284  do you believe there is life after death                                                                                                     \n",
       "404285  what is one coin                                                                                                                             \n",
       "404286  what is the approx annual cost of living while studying in uic chicago for an indian student                                                 \n",
       "404287  what is like to have sex with cousin                                                                                                         \n",
       "\n",
       "[404288 rows x 10 columns]"
      ]
     },
     "execution_count": 70,
     "metadata": {},
     "output_type": "execute_result"
    }
   ],
   "source": [
    "data"
   ]
  },
  {
   "cell_type": "code",
   "execution_count": 71,
   "metadata": {
    "collapsed": false
   },
   "outputs": [],
   "source": [
    "# lowercase words, remove punctuation and print to text file to prepare for learning\n",
    "# (sklearn did that automatically with the vectorizer function for tf-idf)\n",
    "data[\"cleaned_q1\"] = data.text1.str.lower()\n",
    "data[\"cleaned_q2\"] = data.text2.str.lower()\n",
    "\n",
    "# remove punctuation\n",
    "data['cleaned_q1'] = data['cleaned_q1'].apply(lambda x:''.join([i for i in x if i not in string.punctuation]))\n",
    "data['cleaned_q2'] = data['cleaned_q2'].apply(lambda x:''.join([i for i in x if i not in string.punctuation]))"
   ]
  },
  {
   "cell_type": "code",
   "execution_count": 72,
   "metadata": {
    "collapsed": true
   },
   "outputs": [],
   "source": [
    "# remove the character \"\\n\", which messed up the line delimiters in txt file\n",
    "# these only occur a few times in the questions\n",
    "data[\"cleaned_q1\"] = data['cleaned_q1'].str.replace(\"\\n\", \"\")\n",
    "data[\"cleaned_q2\"] = data['cleaned_q2'].str.replace(\"\\n\", \"\")"
   ]
  },
  {
   "cell_type": "code",
   "execution_count": 73,
   "metadata": {
    "collapsed": false
   },
   "outputs": [],
   "source": [
    "data[\"cleaned_q1\"].to_csv(\"cleaned_q1_bow.txt\", sep='\\n', header=False, index=False)\n",
    "data[\"cleaned_q2\"].to_csv(\"cleaned_q2_bow.txt\", sep='\\n', header=False, index=False)"
   ]
  },
  {
   "cell_type": "code",
   "execution_count": 74,
   "metadata": {
    "collapsed": true
   },
   "outputs": [],
   "source": [
    "# write file giving true values for whether questions are duplicates or not\n",
    "data[\"duplicate\"].to_csv(\"is_duplicate_bow.txt\", sep='\\n', header=False, index=False)"
   ]
  },
  {
   "cell_type": "code",
   "execution_count": 75,
   "metadata": {
    "collapsed": true
   },
   "outputs": [],
   "source": [
    "%mkdir cleaned_data_bow"
   ]
  },
  {
   "cell_type": "code",
   "execution_count": 76,
   "metadata": {
    "collapsed": true
   },
   "outputs": [],
   "source": [
    "%mv cleaned_q1_bow.txt cleaned_data_bow/cleaned_q1_bow.txt"
   ]
  },
  {
   "cell_type": "code",
   "execution_count": 77,
   "metadata": {
    "collapsed": true
   },
   "outputs": [],
   "source": [
    "%mv cleaned_q2_bow.txt cleaned_data_bow/cleaned_q2_bow.txt"
   ]
  },
  {
   "cell_type": "code",
   "execution_count": 52,
   "metadata": {
    "collapsed": false
   },
   "outputs": [
    {
     "data": {
      "text/plain": [
       "404288"
      ]
     },
     "execution_count": 52,
     "metadata": {},
     "output_type": "execute_result"
    }
   ],
   "source": [
    "len(data)"
   ]
  },
  {
   "cell_type": "markdown",
   "metadata": {},
   "source": [
    "Execute these next cells only if you want to have smaller data set to play with for faster experimentation."
   ]
  },
  {
   "cell_type": "code",
   "execution_count": null,
   "metadata": {
    "collapsed": false
   },
   "outputs": [],
   "source": [
    "data[0:10][\"cleaned_q1\"].to_csv(\"test_q1.txt\", sep='\\n', header=False, index=False)\n",
    "data[0:10][\"cleaned_q2\"].to_csv(\"test_q2.txt\", sep='\\n', header=False, index=False)"
   ]
  },
  {
   "cell_type": "code",
   "execution_count": null,
   "metadata": {
    "collapsed": true
   },
   "outputs": [],
   "source": [
    "data[0:10][\"is_duplicate\"].to_csv(\"test_is_duplicate.txt\", sep='\\n', header=False, index=False)"
   ]
  },
  {
   "cell_type": "code",
   "execution_count": null,
   "metadata": {
    "collapsed": false
   },
   "outputs": [],
   "source": [
    "# print sample of 20% of data to use for tuning hyperparameters\n",
    "data_sample = data.sample(frac=.20, axis=0)"
   ]
  },
  {
   "cell_type": "code",
   "execution_count": null,
   "metadata": {
    "collapsed": false
   },
   "outputs": [],
   "source": [
    "data_sample[\"cleaned_q1\"].to_csv(\"20percent_q1.txt\", sep='\\n', header=False, index=False)\n",
    "data_sample[\"cleaned_q2\"].to_csv(\"20percent_q2.txt\", sep='\\n', header=False, index=False)\n",
    "data_sample[\"is_duplicate\"].to_csv(\"20percent_is_dup.txt\", sep='\\n', header=False, index=False)"
   ]
  },
  {
   "cell_type": "markdown",
   "metadata": {},
   "source": [
    "## First try training on questions themselves as corpus to generate word vectors"
   ]
  },
  {
   "cell_type": "code",
   "execution_count": 78,
   "metadata": {
    "collapsed": true
   },
   "outputs": [],
   "source": [
    "# create iterator to iterate over questions in memory-friendly way, as per word2vec gensim tutorial here: \n",
    "# https://rare-technologies.com/word2vec-tutorial/\n",
    "import os\n",
    "\n",
    "# iterates over all files ina directory\n",
    "class MySentences(object):\n",
    "    def __init__(self, dirname):\n",
    "        self.dirname = dirname\n",
    " \n",
    "    def __iter__(self):\n",
    "        for fname in os.listdir(self.dirname):\n",
    "            for line in open(os.path.join(self.dirname, fname)):\n",
    "                yield line.split()\n",
    "\n",
    "# class to iterate through single file \n",
    "class OneFileSentences(object): \n",
    "    def __init__(self, filename): \n",
    "        self.filename = filename\n",
    "    \n",
    "    def __iter__(self): \n",
    "        for line in open(self.filename): \n",
    "            yield line.split()"
   ]
  },
  {
   "cell_type": "code",
   "execution_count": 79,
   "metadata": {
    "collapsed": false
   },
   "outputs": [],
   "source": [
    "# create sentences iterator and train model\n",
    "sentences = MySentences('cleaned_data_bow') # cleaned data files should be in this folder\n",
    "model = gensim.models.Word2Vec(sentences)"
   ]
  },
  {
   "cell_type": "code",
   "execution_count": 80,
   "metadata": {
    "collapsed": false
   },
   "outputs": [],
   "source": [
    "# create function to turn each sentence into average of its constituent word vectors\n",
    "\n",
    "def make_question_vectors(model, sentence): \n",
    "    # return numpy document vector by averaging constituent word vectors\n",
    "    # sentence is a list of words in same style as iterator makes for entering into word2vec\n",
    "    word_vecs = []\n",
    "    for word in sentence: \n",
    "        try: \n",
    "            new_word = model[word]\n",
    "        except KeyError:\n",
    "            continue\n",
    "        # check whether array has nan before appending\n",
    "        if not np.isnan(np.sum(new_word)):\n",
    "            word_vecs.append(new_word)\n",
    "    # if no appropriate word vectors found, return array of zeros\n",
    "    if not word_vecs:\n",
    "        return np.zeros(model.layer1_size)\n",
    "    word_vecs = np.array(word_vecs)\n",
    "    return word_vecs.mean(axis=0)"
   ]
  },
  {
   "cell_type": "code",
   "execution_count": 81,
   "metadata": {
    "collapsed": false
   },
   "outputs": [],
   "source": [
    "# make numpy list of normalized dot products of word vectors averages between corresponding questions \n",
    "import itertools\n",
    "\n",
    "q1_sentences = OneFileSentences('cleaned_data_bow/cleaned_q1_bow.txt')\n",
    "q2_sentences = OneFileSentences('cleaned_data_bow/cleaned_q2_bow.txt')\n",
    "\n",
    "document_distances = []\n",
    "\n",
    "# for each sentence pair, dot the numpy vectors together to find their distance\n",
    "for q1, q2 in itertools.izip(q1_sentences, q2_sentences): \n",
    "    q1_vec, q2_vec = make_question_vectors(model, q1), make_question_vectors(model, q2)\n",
    "    # take normed dot product, accounting for zero vectors\n",
    "    dot_prod = np.dot(q1_vec, q2_vec)\n",
    "    norm = np.linalg.norm(q1_vec)*np.linalg.norm(q2_vec)\n",
    "    norm_dot_prod = 0\n",
    "    if dot_prod != 0: \n",
    "        norm_dot_prod = dot_prod/float(norm)\n",
    "    document_distances.append(norm_dot_prod)"
   ]
  },
  {
   "cell_type": "code",
   "execution_count": 82,
   "metadata": {
    "collapsed": true
   },
   "outputs": [],
   "source": [
    "# find AUC score for this classification threshold\n",
    "doc_dist = np.array(document_distances)\n",
    "y = data.duplicate.values"
   ]
  },
  {
   "cell_type": "code",
   "execution_count": 83,
   "metadata": {
    "collapsed": false
   },
   "outputs": [
    {
     "data": {
      "text/plain": [
       "<matplotlib.text.Text at 0x7fdb89777dd0>"
      ]
     },
     "execution_count": 83,
     "metadata": {},
     "output_type": "execute_result"
    },
    {
     "data": {
      "image/png": "[encoded data removed]",
      "text/plain": [
       "<matplotlib.figure.Figure at 0x7fdb8f5e3810>"
      ]
     },
     "metadata": {},
     "output_type": "display_data"
    }
   ],
   "source": [
    "fpr, tpr, thresholds = roc_curve(y, doc_dist)\n",
    "plt.plot(fpr, tpr) \n",
    "plt.xlabel(\"False Positive Rate (1 - Specificity)\") \n",
    "plt.ylabel(\"True Positive Rate (Sensitivity, Recall)\") \n",
    "plt.title(\"ROC plot of Duplicate Questions Model\")"
   ]
  },
  {
   "cell_type": "code",
   "execution_count": 84,
   "metadata": {
    "collapsed": false
   },
   "outputs": [
    {
     "data": {
      "text/plain": [
       "0.69685295185498164"
      ]
     },
     "execution_count": 84,
     "metadata": {},
     "output_type": "execute_result"
    }
   ],
   "source": [
    "# compute auc score for average word2vec model - it's worse than tf-idf!\n",
    "roc_auc_score(y, doc_dist)"
   ]
  },
  {
   "cell_type": "markdown",
   "metadata": {},
   "source": [
    "## Next try averaging using pre-trained Google News Vectors"
   ]
  },
  {
   "cell_type": "code",
   "execution_count": 86,
   "metadata": {
    "collapsed": false
   },
   "outputs": [],
   "source": [
    "# this model takes about 2 minutes to load\n",
    "import gensim\n",
    "model_path = \"../word2vec/word2vec-C-code/data/GoogleNews-vectors-negative300.bin\"\n",
    "model = gensim.models.Word2Vec.load_word2vec_format(model_path, binary=True)"
   ]
  },
  {
   "cell_type": "code",
   "execution_count": 87,
   "metadata": {
    "collapsed": false,
    "scrolled": true
   },
   "outputs": [],
   "source": [
    "# this takes about 5 minutes to calculate\n",
    "# make numpy list of normalized dot products of word vectors averages between corresponding questions \n",
    "import itertools\n",
    "import numpy as np\n",
    "\n",
    "q1_sentences = OneFileSentences('cleaned_data_bow/cleaned_q1_bow.txt')\n",
    "q2_sentences = OneFileSentences('cleaned_data_bow/cleaned_q2_bow.txt')\n",
    "\n",
    "document_distances = []\n",
    "\n",
    "# for each sentence pair, dot the numpy vectors together to find their distance\n",
    "for q1, q2 in itertools.izip(q1_sentences, q2_sentences): \n",
    "    q1_vec, q2_vec = make_question_vectors(model, q1), make_question_vectors(model, q2)\n",
    "    # take normed dot product, accounting for zero vectors\n",
    "    dot_prod = np.dot(q1_vec, q2_vec)\n",
    "    norm = np.linalg.norm(q1_vec)*np.linalg.norm(q2_vec)\n",
    "    norm_dot_prod = 0\n",
    "    if dot_prod != 0: \n",
    "        norm_dot_prod = dot_prod/float(norm)\n",
    "    document_distances.append(norm_dot_prod)"
   ]
  },
  {
   "cell_type": "code",
   "execution_count": 89,
   "metadata": {
    "collapsed": false
   },
   "outputs": [],
   "source": [
    "# find AUC score for this classification threshold\n",
    "gnews_dist = np.array(document_distances)\n",
    "y = data.duplicate.values"
   ]
  },
  {
   "cell_type": "code",
   "execution_count": 90,
   "metadata": {
    "collapsed": false
   },
   "outputs": [
    {
     "data": {
      "text/plain": [
       "<matplotlib.text.Text at 0x7fdb839a82d0>"
      ]
     },
     "execution_count": 90,
     "metadata": {},
     "output_type": "execute_result"
    },
    {
     "data": {
      "image/png": "[encoded data removed]",
      "text/plain": [
       "<matplotlib.figure.Figure at 0x7fdb885abfd0>"
      ]
     },
     "metadata": {},
     "output_type": "display_data"
    }
   ],
   "source": [
    "import matplotlib.pyplot as plt\n",
    "from sklearn.metrics import roc_curve\n",
    "from sklearn.metrics import roc_auc_score\n",
    "%matplotlib inline\n",
    "\n",
    "fpr, tpr, thresholds = roc_curve(y, gnews_dist)\n",
    "plt.plot(fpr, tpr) \n",
    "plt.xlabel(\"False Positive Rate (1 - Specificity)\") \n",
    "plt.ylabel(\"True Positive Rate (Sensitivity, Recall)\") \n",
    "plt.title(\"ROC plot of Duplicate Questions Model\")"
   ]
  },
  {
   "cell_type": "code",
   "execution_count": 91,
   "metadata": {
    "collapsed": false
   },
   "outputs": [
    {
     "data": {
      "text/plain": [
       "0.72593255252271049"
      ]
     },
     "execution_count": 91,
     "metadata": {},
     "output_type": "execute_result"
    }
   ],
   "source": [
    "# compute auc score for word2vec average using Googlenews model - still worse than 1-gram tf-idf model!\n",
    "roc_auc_score(y, gnews_dist)"
   ]
  }
 ],
 "metadata": {
  "anaconda-cloud": {},
  "kernelspec": {
   "display_name": "Python 2",
   "language": "python",
   "name": "python2"
  },
  "language_info": {
   "codemirror_mode": {
    "name": "ipython",
    "version": 2
   },
   "file_extension": ".py",
   "mimetype": "text/x-python",
   "name": "python",
   "nbconvert_exporter": "python",
   "pygments_lexer": "ipython2",
   "version": "2.7.11"
  }
 },
 "nbformat": 4,
 "nbformat_minor": 1
}
