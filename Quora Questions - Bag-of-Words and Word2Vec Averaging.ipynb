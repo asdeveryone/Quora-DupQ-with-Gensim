{
 "cells": [
  {
   "cell_type": "markdown",
   "metadata": {},
   "source": [
    "# Quora Duplicate Questions Classification Task\n",
    "\n",
    "Quora is a question/answer website where users can ask and answer questions about anything. To improve the website for users, Quora wants to remove duplicate questions, so users are always directed to the one definitive page for that question. Zero percent duplication is unlikely, but automated \n",
    "\n",
    "To help with this goal, Quora has released a data set of ~400,000 question pairs from Quora, where each pair is marked as being either a duplicate or a non-duplicate. Release statement and data found here: https://data.quora.com/First-Quora-Dataset-Release-Question-Pairs\n",
    "\n",
    "For example, \n",
    "\n",
    "#### \"How do you start a bakery?\" and \"How does one start a bakery business?\" \n",
    "\n",
    "are labelled as duplicates, but \n",
    "\n",
    "#### \"Does society place too much importance on sports?\" and \"How do sports contribute to the society?\"\n",
    "\n",
    "are not. The labeling itself was done by humans, so reasonable people may disagree about some of them - such label noise is a fact of life for many classification tasks. \n",
    "\n",
    "The classification goal is to predict whether each question pair is labelled as duplicates or not. \n",
    "\n",
    "It is important to consider how the model will be used to know what metrics to optimize. For example, it is not necessarily true that we want a model that is as accurate as possible: if the model will lead to automatic deletion of one of the posts marked \"duplicate\", it may be more important to avoid falsely labeling different posts as duplicates (false positives) than to miss marking true duplicates as duplicates (false negatives). These considerations are why precision the precision and recall of a classification model are important to consider in addition to its accuracy. "
   ]
  },
  {
   "cell_type": "markdown",
   "metadata": {},
   "source": [
    "# Data Cleaning\n",
    "\n",
    "It's always a good idea to check data set for missing values, unusual values, unusual data types, etc. Since this is a prepared data set released by a company it should be pretty well-formed already, but it's good practice to check anyway. It's also good to constantly be looking at examples of data to understand better what your model must accomplish."
   ]
  },
  {
   "cell_type": "code",
   "execution_count": 1,
   "metadata": {
    "collapsed": true
   },
   "outputs": [],
   "source": [
    "import pandas as pd"
   ]
  },
  {
   "cell_type": "code",
   "execution_count": 2,
   "metadata": {
    "collapsed": false,
    "scrolled": true
   },
   "outputs": [],
   "source": [
    "data = pd.read_csv(\"quora_duplicate_questions.tsv\", sep='\\t')"
   ]
  },
  {
   "cell_type": "code",
   "execution_count": 3,
   "metadata": {
    "collapsed": false
   },
   "outputs": [
    {
     "data": {
      "text/plain": [
       "404290"
      ]
     },
     "execution_count": 3,
     "metadata": {},
     "output_type": "execute_result"
    }
   ],
   "source": [
    "len(data)"
   ]
  },
  {
   "cell_type": "code",
   "execution_count": 4,
   "metadata": {
    "collapsed": false
   },
   "outputs": [
    {
     "name": "stdout",
     "output_type": "stream",
     "text": [
      "<class 'pandas.core.frame.DataFrame'>\n",
      "RangeIndex: 404290 entries, 0 to 404289\n",
      "Data columns (total 6 columns):\n",
      "id           404290 non-null int64\n",
      "qid1         404290 non-null int64\n",
      "qid2         404290 non-null int64\n",
      "text1        404290 non-null object\n",
      "text2        404288 non-null object\n",
      "duplicate    404290 non-null int64\n",
      "dtypes: int64(4), object(2)\n",
      "memory usage: 18.5+ MB\n"
     ]
    }
   ],
   "source": [
    "data.info()"
   ]
  },
  {
   "cell_type": "code",
   "execution_count": 5,
   "metadata": {
    "collapsed": false
   },
   "outputs": [
    {
     "data": {
      "text/plain": [
       "str"
      ]
     },
     "execution_count": 5,
     "metadata": {},
     "output_type": "execute_result"
    }
   ],
   "source": [
    "type(data.text1[0])"
   ]
  },
  {
   "cell_type": "code",
   "execution_count": 6,
   "metadata": {
    "collapsed": false
   },
   "outputs": [
    {
     "data": {
      "text/html": [
       "<div>\n",
       "<table border=\"1\" class=\"dataframe\">\n",
       "  <thead>\n",
       "    <tr style=\"text-align: right;\">\n",
       "      <th></th>\n",
       "      <th>id</th>\n",
       "      <th>qid1</th>\n",
       "      <th>qid2</th>\n",
       "      <th>text1</th>\n",
       "      <th>text2</th>\n",
       "      <th>duplicate</th>\n",
       "    </tr>\n",
       "  </thead>\n",
       "  <tbody>\n",
       "    <tr>\n",
       "      <th>105780</th>\n",
       "      <td>105780</td>\n",
       "      <td>174363</td>\n",
       "      <td>174364</td>\n",
       "      <td>How can I develop android app?</td>\n",
       "      <td>NaN</td>\n",
       "      <td>0</td>\n",
       "    </tr>\n",
       "    <tr>\n",
       "      <th>201841</th>\n",
       "      <td>201841</td>\n",
       "      <td>303951</td>\n",
       "      <td>174364</td>\n",
       "      <td>How can I create an Android app?</td>\n",
       "      <td>NaN</td>\n",
       "      <td>0</td>\n",
       "    </tr>\n",
       "  </tbody>\n",
       "</table>\n",
       "</div>"
      ],
      "text/plain": [
       "            id    qid1    qid2                             text1 text2  \\\n",
       "105780  105780  174363  174364    How can I develop android app?   NaN   \n",
       "201841  201841  303951  174364  How can I create an Android app?   NaN   \n",
       "\n",
       "        duplicate  \n",
       "105780          0  \n",
       "201841          0  "
      ]
     },
     "execution_count": 6,
     "metadata": {},
     "output_type": "execute_result"
    }
   ],
   "source": [
    "# find if any rows have null values \n",
    "data[data.isnull().any(axis=1)]"
   ]
  },
  {
   "cell_type": "code",
   "execution_count": 7,
   "metadata": {
    "collapsed": true
   },
   "outputs": [],
   "source": [
    "# delete rows that contain null values\n",
    "data.dropna(inplace=True)"
   ]
  },
  {
   "cell_type": "code",
   "execution_count": 8,
   "metadata": {
    "collapsed": true
   },
   "outputs": [],
   "source": [
    "# useful command that lets us see full string in columns; otherwise string is truncated \n",
    "# as in data.head() above\n",
    "pd.options.display.max_colwidth = -1"
   ]
  },
  {
   "cell_type": "markdown",
   "metadata": {},
   "source": [
    "Let's take a look at some of actual question comparisons. "
   ]
  },
  {
   "cell_type": "code",
   "execution_count": 9,
   "metadata": {
    "collapsed": false,
    "scrolled": true
   },
   "outputs": [
    {
     "data": {
      "text/html": [
       "<div>\n",
       "<table border=\"1\" class=\"dataframe\">\n",
       "  <thead>\n",
       "    <tr style=\"text-align: right;\">\n",
       "      <th></th>\n",
       "      <th>text1</th>\n",
       "      <th>text2</th>\n",
       "      <th>duplicate</th>\n",
       "    </tr>\n",
       "  </thead>\n",
       "  <tbody>\n",
       "    <tr>\n",
       "      <th>0</th>\n",
       "      <td>What is the step by step guide to invest in share market in india?</td>\n",
       "      <td>What is the step by step guide to invest in share market?</td>\n",
       "      <td>0</td>\n",
       "    </tr>\n",
       "    <tr>\n",
       "      <th>1</th>\n",
       "      <td>What is the story of Kohinoor (Koh-i-Noor) Diamond?</td>\n",
       "      <td>What would happen if the Indian government stole the Kohinoor (Koh-i-Noor) diamond back?</td>\n",
       "      <td>0</td>\n",
       "    </tr>\n",
       "    <tr>\n",
       "      <th>2</th>\n",
       "      <td>How can I increase the speed of my internet connection while using a VPN?</td>\n",
       "      <td>How can Internet speed be increased by hacking through DNS?</td>\n",
       "      <td>0</td>\n",
       "    </tr>\n",
       "    <tr>\n",
       "      <th>3</th>\n",
       "      <td>Why am I mentally very lonely? How can I solve it?</td>\n",
       "      <td>Find the remainder when [math]23^{24}[/math] is divided by 24,23?</td>\n",
       "      <td>0</td>\n",
       "    </tr>\n",
       "    <tr>\n",
       "      <th>4</th>\n",
       "      <td>Which one dissolve in water quikly sugar, salt, methane and carbon di oxide?</td>\n",
       "      <td>Which fish would survive in salt water?</td>\n",
       "      <td>0</td>\n",
       "    </tr>\n",
       "  </tbody>\n",
       "</table>\n",
       "</div>"
      ],
      "text/plain": [
       "                                                                          text1  \\\n",
       "0  What is the step by step guide to invest in share market in india?             \n",
       "1  What is the story of Kohinoor (Koh-i-Noor) Diamond?                            \n",
       "2  How can I increase the speed of my internet connection while using a VPN?      \n",
       "3  Why am I mentally very lonely? How can I solve it?                             \n",
       "4  Which one dissolve in water quikly sugar, salt, methane and carbon di oxide?   \n",
       "\n",
       "                                                                                      text2  \\\n",
       "0  What is the step by step guide to invest in share market?                                  \n",
       "1  What would happen if the Indian government stole the Kohinoor (Koh-i-Noor) diamond back?   \n",
       "2  How can Internet speed be increased by hacking through DNS?                                \n",
       "3  Find the remainder when [math]23^{24}[/math] is divided by 24,23?                          \n",
       "4  Which fish would survive in salt water?                                                    \n",
       "\n",
       "   duplicate  \n",
       "0  0          \n",
       "1  0          \n",
       "2  0          \n",
       "3  0          \n",
       "4  0          "
      ]
     },
     "execution_count": 9,
     "metadata": {},
     "output_type": "execute_result"
    }
   ],
   "source": [
    "data[[\"text1\", \"text2\", \"duplicate\"]].head()"
   ]
  },
  {
   "cell_type": "markdown",
   "metadata": {},
   "source": [
    "In looking at data I notice a few things: \n",
    "\n",
    "#### 1) There can be reasonable disagreement about whether questions are duplicates. \n",
    "\n",
    "For example, at index 19, \"Why do rockets look white?\" could be considered slightly different from \"Why are rockets and boosters painted white\" - in fact, the answer to the first question might be \"because they are painted white\" (as opposed to something like \"atmospheric effects make them look white during liftoff\"), which might naturally lead to the second question. In thise dataset though, these questions are considered duplicates. This type of \"reasonable disagreement noise\" in labeling is common, unavoidable, and important to be aware of.\n",
    "\n",
    "#### 2) For questions that are not considered duplicates, there appear to be two classes: ones where the two questions are closely related but distinct, and ones where the two questions are totally unrelated.\n",
    "\n",
    "For example, at index 0 the questions \"What is the step by step guide to invest in share market in India?\" and \"What is the step by step guide to invest in share market?\" are closely related but logically distinct, as one has a narrower focus than the other. However, at index 3 we have \n",
    "\n",
    "\"Why am I mentally very lonely? How can I solve it?\" \n",
    "\n",
    "being compared with \n",
    "\n",
    "\"Find the remainder when [math]23^{24}[/math] is divided by 24,23?\"\n",
    "\n",
    "which are completely unrelated. This is likely due to the sampling issue mentioned in data release: \n",
    "\n",
    "\"Our original sampling method returned an imbalanced dataset with many more true examples of duplicate pairs than non-duplicates. Therefore, we supplemented the dataset with negative examples. One source of negative examples were pairs of “related questions” which, although pertaining to similar topics, are not truly semantically equivalent.\"\n",
    "\n",
    "This is useful to know for model creation, as we now know we cannot assume the two questions will be somewhat related - they could be completely different. "
   ]
  },
  {
   "cell_type": "markdown",
   "metadata": {},
   "source": [
    "## Baseline model\n",
    "\n",
    "Always a good idea to try an extremely simple model first. This helps set a baseline for what is considered a \"good\" model.\n",
    "\n",
    "For this data set, the simplest conceivable model would be to predict whichever class is most common in the data.\n",
    "\n",
    "This model predicts every item as \"not duplicate\" and gets 63% accuracy. It also has virtue of not falsely predicting any true different posts as duplicates (i.e., no false positives), which is probably a particularly important characteristic for a model used in production."
   ]
  },
  {
   "cell_type": "code",
   "execution_count": 10,
   "metadata": {
    "collapsed": false,
    "scrolled": false
   },
   "outputs": [
    {
     "name": "stdout",
     "output_type": "stream",
     "text": [
      "Number of 0 labels: 255025\n",
      "Number of 1 labels: 149263\n",
      "Accuracy to predict most common label (in this case 0): 0.630800320564\n"
     ]
    }
   ],
   "source": [
    "print \"Number of 0 labels:\", len(data[data.duplicate == 0])\n",
    "print \"Number of 1 labels:\", len(data[data.duplicate == 1])\n",
    "print \"Accuracy to predict most common label (in this case 0):\", len(data[data.duplicate == 0])/float(len(data))"
   ]
  },
  {
   "cell_type": "markdown",
   "metadata": {},
   "source": [
    "# Create features\n",
    "\n",
    "For text data, a common feature set is weighted term frequenices. Each text document is then represented as a tf-idf vector, which uses word frequencies between documents (normalized by how often the words appear across documents) as features. \n",
    "\n",
    "The sklearn implementation provides options to remove \"stop words\" (common english words like \"the\" that are unlikely to communicate information content), remove words that appear too frequently or too rarely, and to select how many words total should be considered features when building a feature vector. It also has ability to extract N-grams, which help preserve some of ordering information that a regular frequency count completely loses.\n",
    "\n",
    "Because the classification task involves comparing two documents (in this case two questions), we will need a way to compare the two feature vectors. The standard way to do this for documents is to compute the dot product between their tf-idf vectors, called the cosine similarity. The sklearn tf-idf vectors are normalized to unit length already, so we can use a regular dot product without dividing by vectors lengths.  \n",
    "\n",
    "### Feature ideas: \n",
    "\n",
    "0) explore distribution of dot products between questions for each feature idea\n",
    "\n",
    "0.5) use hashing trick for feature vector creation to increase speed if don't need to convert vectors back to words\n",
    "\n",
    "1) cross-validate to test parameters for max_df, min_df, and max_features\n",
    "\n",
    "2) binary occurence model (instead of tf-idf - supposed to be better for small documents)"
   ]
  },
  {
   "cell_type": "markdown",
   "metadata": {},
   "source": [
    "## TF-IDF"
   ]
  },
  {
   "cell_type": "code",
   "execution_count": 11,
   "metadata": {
    "collapsed": false
   },
   "outputs": [],
   "source": [
    "from sklearn.feature_extraction.text import TfidfVectorizer\n",
    "vectorizer = TfidfVectorizer(stop_words='english', use_idf=True, max_df=0.5)"
   ]
  },
  {
   "cell_type": "code",
   "execution_count": 12,
   "metadata": {
    "collapsed": true
   },
   "outputs": [],
   "source": [
    "# make dataframe with one column for all questions so they shared same vocabulary in \n",
    "# word frequency model\n",
    "all_questions = pd.concat([data[\"text1\"], data[\"text2\"]], ignore_index=True)"
   ]
  },
  {
   "cell_type": "code",
   "execution_count": 13,
   "metadata": {
    "collapsed": false,
    "scrolled": true
   },
   "outputs": [],
   "source": [
    "# vectorize all questions together for one common vocabulary and feature space\n",
    "all_Q = vectorizer.fit_transform(all_questions.values)"
   ]
  },
  {
   "cell_type": "code",
   "execution_count": 14,
   "metadata": {
    "collapsed": false
   },
   "outputs": [
    {
     "data": {
      "text/plain": [
       "808576"
      ]
     },
     "execution_count": 14,
     "metadata": {},
     "output_type": "execute_result"
    }
   ],
   "source": [
    "all_Q.shape[0]"
   ]
  },
  {
   "cell_type": "code",
   "execution_count": 15,
   "metadata": {
    "collapsed": true
   },
   "outputs": [],
   "source": [
    "Q1 = all_Q[0:all_Q.shape[0]/2]\n",
    "Q2 = all_Q[all_Q.shape[0]/2:]"
   ]
  },
  {
   "cell_type": "code",
   "execution_count": 16,
   "metadata": {
    "collapsed": false
   },
   "outputs": [
    {
     "name": "stdout",
     "output_type": "stream",
     "text": [
      "Q1 shape: (404288, 85846)\n",
      "Q2 shape: (404288, 85846)\n"
     ]
    }
   ],
   "source": [
    "print \"Q1 shape:\", Q1.shape\n",
    "print \"Q2 shape:\", Q2.shape"
   ]
  },
  {
   "cell_type": "markdown",
   "metadata": {},
   "source": [
    "Below shows how we can use the tf-idf vector to go back to word representation (though with order information lost). "
   ]
  },
  {
   "cell_type": "code",
   "execution_count": 17,
   "metadata": {
    "collapsed": false
   },
   "outputs": [],
   "source": [
    "import numpy as np\n",
    "# gives list of features in alphabetical order\n",
    "word_bank = np.array(vectorizer.get_feature_names())"
   ]
  },
  {
   "cell_type": "code",
   "execution_count": 18,
   "metadata": {
    "collapsed": false
   },
   "outputs": [
    {
     "name": "stdout",
     "output_type": "stream",
     "text": [
      "step\n",
      "guide\n",
      "invest\n",
      "share\n",
      "market\n",
      "india\n"
     ]
    }
   ],
   "source": [
    "for index in Q1[0,:].nonzero()[1]:\n",
    "    print word_bank[index]"
   ]
  },
  {
   "cell_type": "code",
   "execution_count": 19,
   "metadata": {
    "collapsed": false
   },
   "outputs": [
    {
     "name": "stdout",
     "output_type": "stream",
     "text": [
      "step\n",
      "guide\n",
      "invest\n",
      "share\n",
      "market\n"
     ]
    }
   ],
   "source": [
    "for index in Q2[0,:].nonzero()[1]:\n",
    "    print word_bank[index]"
   ]
  },
  {
   "cell_type": "markdown",
   "metadata": {},
   "source": [
    "Next show how to take a dot product between two sparse vectors. \n",
    "\n",
    "The .T takes transpose and .A converts back to a regular numpy array."
   ]
  },
  {
   "cell_type": "code",
   "execution_count": 20,
   "metadata": {
    "collapsed": false
   },
   "outputs": [],
   "source": [
    "row = Q1[0,:]"
   ]
  },
  {
   "cell_type": "code",
   "execution_count": 21,
   "metadata": {
    "collapsed": false
   },
   "outputs": [
    {
     "data": {
      "text/plain": [
       "1.0000000000000002"
      ]
     },
     "execution_count": 21,
     "metadata": {},
     "output_type": "execute_result"
    }
   ],
   "source": [
    "np.dot(row, row.T).A[0,0]"
   ]
  },
  {
   "cell_type": "code",
   "execution_count": 22,
   "metadata": {
    "collapsed": false
   },
   "outputs": [
    {
     "data": {
      "text/plain": [
       "0.98178420718145643"
      ]
     },
     "execution_count": 22,
     "metadata": {},
     "output_type": "execute_result"
    }
   ],
   "source": [
    "# try dotting first question from Q1 and Q2 together - very nearly 1, showing related question, \n",
    "# tho they are not considered duplicates\n",
    "np.dot(Q1[0,:], Q2[0,:].T).A[0,0]"
   ]
  },
  {
   "cell_type": "code",
   "execution_count": 23,
   "metadata": {
    "collapsed": false
   },
   "outputs": [
    {
     "data": {
      "text/plain": [
       "0.0"
      ]
     },
     "execution_count": 23,
     "metadata": {},
     "output_type": "execute_result"
    }
   ],
   "source": [
    "# now try dotting two unrelated questions together - zero, as expected \n",
    "np.dot(Q1[0,:], Q2[4,:].T).A[0,0]"
   ]
  },
  {
   "cell_type": "code",
   "execution_count": 24,
   "metadata": {
    "collapsed": false
   },
   "outputs": [
    {
     "data": {
      "text/plain": [
       "0.48180514623932036"
      ]
     },
     "execution_count": 24,
     "metadata": {},
     "output_type": "execute_result"
    }
   ],
   "source": [
    "# lastly, try dot between two questions (index 5) that are considered duplicates: \n",
    "# only 0.48, which suggests a model based only on term counts or term frequencies will have \n",
    "# trouble achieving high accuracy\n",
    "np.dot(Q1[5,:], Q2[5,:].T).A[0,0]"
   ]
  },
  {
   "cell_type": "markdown",
   "metadata": {},
   "source": [
    "### Add tf-idf vectors products to dataframe"
   ]
  },
  {
   "cell_type": "code",
   "execution_count": 25,
   "metadata": {
    "collapsed": false
   },
   "outputs": [],
   "source": [
    "# make columns of dots between Q1 and Q2\n",
    "tf_idf_dot_column = [np.dot(Q1[i,:], Q2[i,:].T).A[0,0] for i in range(Q1.shape[0])]"
   ]
  },
  {
   "cell_type": "code",
   "execution_count": 26,
   "metadata": {
    "collapsed": false
   },
   "outputs": [],
   "source": [
    "tf_idf_dot_products = pd.Series(np.array(tf_idf_dot_column))"
   ]
  },
  {
   "cell_type": "code",
   "execution_count": 27,
   "metadata": {
    "collapsed": false
   },
   "outputs": [
    {
     "data": {
      "text/plain": [
       "404288"
      ]
     },
     "execution_count": 27,
     "metadata": {},
     "output_type": "execute_result"
    }
   ],
   "source": [
    "len(tf_idf_dot_products)"
   ]
  },
  {
   "cell_type": "code",
   "execution_count": 28,
   "metadata": {
    "collapsed": true
   },
   "outputs": [],
   "source": [
    "data.reset_index(drop=True, inplace=True)"
   ]
  },
  {
   "cell_type": "code",
   "execution_count": 29,
   "metadata": {
    "collapsed": false
   },
   "outputs": [],
   "source": [
    "data = data.assign(tf_idf_dot_products=tf_idf_dot_products.values)"
   ]
  },
  {
   "cell_type": "code",
   "execution_count": 30,
   "metadata": {
    "collapsed": false,
    "scrolled": true
   },
   "outputs": [
    {
     "data": {
      "text/html": [
       "<div>\n",
       "<table border=\"1\" class=\"dataframe\">\n",
       "  <thead>\n",
       "    <tr style=\"text-align: right;\">\n",
       "      <th></th>\n",
       "      <th>id</th>\n",
       "      <th>qid1</th>\n",
       "      <th>qid2</th>\n",
       "      <th>text1</th>\n",
       "      <th>text2</th>\n",
       "      <th>duplicate</th>\n",
       "      <th>tf_idf_dot_products</th>\n",
       "    </tr>\n",
       "  </thead>\n",
       "  <tbody>\n",
       "    <tr>\n",
       "      <th>0</th>\n",
       "      <td>0</td>\n",
       "      <td>1</td>\n",
       "      <td>2</td>\n",
       "      <td>What is the step by step guide to invest in share market in india?</td>\n",
       "      <td>What is the step by step guide to invest in share market?</td>\n",
       "      <td>0</td>\n",
       "      <td>0.981784</td>\n",
       "    </tr>\n",
       "    <tr>\n",
       "      <th>1</th>\n",
       "      <td>1</td>\n",
       "      <td>3</td>\n",
       "      <td>4</td>\n",
       "      <td>What is the story of Kohinoor (Koh-i-Noor) Diamond?</td>\n",
       "      <td>What would happen if the Indian government stole the Kohinoor (Koh-i-Noor) diamond back?</td>\n",
       "      <td>0</td>\n",
       "      <td>0.791940</td>\n",
       "    </tr>\n",
       "    <tr>\n",
       "      <th>2</th>\n",
       "      <td>2</td>\n",
       "      <td>5</td>\n",
       "      <td>6</td>\n",
       "      <td>How can I increase the speed of my internet connection while using a VPN?</td>\n",
       "      <td>How can Internet speed be increased by hacking through DNS?</td>\n",
       "      <td>0</td>\n",
       "      <td>0.276089</td>\n",
       "    </tr>\n",
       "    <tr>\n",
       "      <th>3</th>\n",
       "      <td>3</td>\n",
       "      <td>7</td>\n",
       "      <td>8</td>\n",
       "      <td>Why am I mentally very lonely? How can I solve it?</td>\n",
       "      <td>Find the remainder when [math]23^{24}[/math] is divided by 24,23?</td>\n",
       "      <td>0</td>\n",
       "      <td>0.000000</td>\n",
       "    </tr>\n",
       "    <tr>\n",
       "      <th>4</th>\n",
       "      <td>4</td>\n",
       "      <td>9</td>\n",
       "      <td>10</td>\n",
       "      <td>Which one dissolve in water quikly sugar, salt, methane and carbon di oxide?</td>\n",
       "      <td>Which fish would survive in salt water?</td>\n",
       "      <td>0</td>\n",
       "      <td>0.243643</td>\n",
       "    </tr>\n",
       "  </tbody>\n",
       "</table>\n",
       "</div>"
      ],
      "text/plain": [
       "   id  qid1  qid2  \\\n",
       "0  0   1     2      \n",
       "1  1   3     4      \n",
       "2  2   5     6      \n",
       "3  3   7     8      \n",
       "4  4   9     10     \n",
       "\n",
       "                                                                          text1  \\\n",
       "0  What is the step by step guide to invest in share market in india?             \n",
       "1  What is the story of Kohinoor (Koh-i-Noor) Diamond?                            \n",
       "2  How can I increase the speed of my internet connection while using a VPN?      \n",
       "3  Why am I mentally very lonely? How can I solve it?                             \n",
       "4  Which one dissolve in water quikly sugar, salt, methane and carbon di oxide?   \n",
       "\n",
       "                                                                                      text2  \\\n",
       "0  What is the step by step guide to invest in share market?                                  \n",
       "1  What would happen if the Indian government stole the Kohinoor (Koh-i-Noor) diamond back?   \n",
       "2  How can Internet speed be increased by hacking through DNS?                                \n",
       "3  Find the remainder when [math]23^{24}[/math] is divided by 24,23?                          \n",
       "4  Which fish would survive in salt water?                                                    \n",
       "\n",
       "   duplicate  tf_idf_dot_products  \n",
       "0  0          0.981784             \n",
       "1  0          0.791940             \n",
       "2  0          0.276089             \n",
       "3  0          0.000000             \n",
       "4  0          0.243643             "
      ]
     },
     "execution_count": 30,
     "metadata": {},
     "output_type": "execute_result"
    }
   ],
   "source": [
    "data.head()"
   ]
  },
  {
   "cell_type": "markdown",
   "metadata": {},
   "source": [
    "##### Plot tf_idf dot products for duplicates and non-duplicates\n",
    "\n",
    "We see from charts below that non-duplicates have a spike at 0 and duplicates have a spike at 1, as expected. There appears to be a vast overlap in the middle (meaning in the area where questions use some of the same words), which will be the hardest pairs to correctly classify under this model."
   ]
  },
  {
   "cell_type": "code",
   "execution_count": 31,
   "metadata": {
    "collapsed": true
   },
   "outputs": [],
   "source": [
    "%matplotlib inline\n",
    "import matplotlib\n",
    "matplotlib.style.use('ggplot')"
   ]
  },
  {
   "cell_type": "code",
   "execution_count": 32,
   "metadata": {
    "collapsed": false
   },
   "outputs": [
    {
     "data": {
      "text/plain": [
       "<matplotlib.axes._subplots.AxesSubplot at 0x7f0fdd188e10>"
      ]
     },
     "execution_count": 32,
     "metadata": {},
     "output_type": "execute_result"
    },
    {
     "data": {
      "image/png": "[encoded data removed]",
      "text/plain": [
       "<matplotlib.figure.Figure at 0x7f0fe07dc510>"
      ]
     },
     "metadata": {},
     "output_type": "display_data"
    }
   ],
   "source": [
    "# dot product distribution for non-duplicates\n",
    "data[data.duplicate == 0].tf_idf_dot_products.plot(\"kde\")"
   ]
  },
  {
   "cell_type": "code",
   "execution_count": 33,
   "metadata": {
    "collapsed": false
   },
   "outputs": [
    {
     "data": {
      "text/plain": [
       "<matplotlib.axes._subplots.AxesSubplot at 0x7f0fd3b84290>"
      ]
     },
     "execution_count": 33,
     "metadata": {},
     "output_type": "execute_result"
    },
    {
     "data": {
      "image/png": "[encoded data removed]",
      "text/plain": [
       "<matplotlib.figure.Figure at 0x7f10142f3290>"
      ]
     },
     "metadata": {},
     "output_type": "display_data"
    }
   ],
   "source": [
    "# dot product distribution for duplicates\n",
    "data[data.duplicate == 1].tf_idf_dot_products.plot(\"kde\")"
   ]
  },
  {
   "cell_type": "code",
   "execution_count": 34,
   "metadata": {
    "collapsed": false
   },
   "outputs": [
    {
     "data": {
      "text/plain": [
       "<matplotlib.axes._subplots.AxesSubplot at 0x7f0fd8ef2710>"
      ]
     },
     "execution_count": 34,
     "metadata": {},
     "output_type": "execute_result"
    },
    {
     "data": {
      "image/png": "[encoded data removed]",
      "text/plain": [
       "<matplotlib.figure.Figure at 0x7f0fd3bfcd90>"
      ]
     },
     "metadata": {},
     "output_type": "display_data"
    }
   ],
   "source": [
    "# histograms make this more clear: non-duplicates have a big spike at zero overlap\n",
    "data[data.duplicate == 0].tf_idf_dot_products.plot(\"hist\", bins=50)"
   ]
  },
  {
   "cell_type": "code",
   "execution_count": 35,
   "metadata": {
    "collapsed": false
   },
   "outputs": [
    {
     "data": {
      "text/plain": [
       "<matplotlib.axes._subplots.AxesSubplot at 0x7f0fd839d410>"
      ]
     },
     "execution_count": 35,
     "metadata": {},
     "output_type": "execute_result"
    },
    {
     "data": {
      "image/png": "[encoded data removed]",
      "text/plain": [
       "<matplotlib.figure.Figure at 0x7f0fd8cc3050>"
      ]
     },
     "metadata": {},
     "output_type": "display_data"
    }
   ],
   "source": [
    "# true duplicates have a big spike at near-total overlap\n",
    "data[data.duplicate == 1].tf_idf_dot_products.plot(\"hist\", bins=50)"
   ]
  },
  {
   "cell_type": "markdown",
   "metadata": {},
   "source": [
    "# Make simple with tf-idf dot products, show ROC plot"
   ]
  },
  {
   "cell_type": "code",
   "execution_count": 36,
   "metadata": {
    "collapsed": false
   },
   "outputs": [],
   "source": [
    "from sklearn.model_selection import train_test_split\n",
    "import matplotlib.pyplot as plt\n",
    "from sklearn.metrics import roc_curve\n",
    "from sklearn.metrics import roc_auc_score"
   ]
  },
  {
   "cell_type": "code",
   "execution_count": 37,
   "metadata": {
    "collapsed": false
   },
   "outputs": [],
   "source": [
    "X = data.tf_idf_dot_products.values\n",
    "y = data.duplicate.values\n",
    "X = X.reshape(-1,1) # numpy will require features to have this shape in future \n",
    "X_train, X_test, y_train, y_test = train_test_split(X, y, test_size=0.20)"
   ]
  },
  {
   "cell_type": "code",
   "execution_count": 38,
   "metadata": {
    "collapsed": false
   },
   "outputs": [
    {
     "data": {
      "text/plain": [
       "<matplotlib.text.Text at 0x7f0fe59e67d0>"
      ]
     },
     "execution_count": 38,
     "metadata": {},
     "output_type": "execute_result"
    },
    {
     "data": {
      "image/png": "[encoded data removed]",
      "text/plain": [
       "<matplotlib.figure.Figure at 0x7f0fe591cd10>"
      ]
     },
     "metadata": {},
     "output_type": "display_data"
    }
   ],
   "source": [
    "fpr, tpr, thresholds = roc_curve(y_test, X_test)\n",
    "plt.plot(fpr, tpr) \n",
    "plt.xlabel(\"False Positive Rate (1 - Specificity)\") \n",
    "plt.ylabel(\"True Positive Rate (Sensitivity, Recall)\") \n",
    "plt.title(\"ROC plot of Duplicate Questions Model\")"
   ]
  },
  {
   "cell_type": "code",
   "execution_count": 39,
   "metadata": {
    "collapsed": false
   },
   "outputs": [
    {
     "data": {
      "text/plain": [
       "0.73490923214978976"
      ]
     },
     "execution_count": 39,
     "metadata": {},
     "output_type": "execute_result"
    }
   ],
   "source": [
    "# compute auc score\n",
    "roc_auc_score(y_test, X_test)"
   ]
  },
  {
   "cell_type": "markdown",
   "metadata": {},
   "source": [
    "# Try 2-grams with tf-idf"
   ]
  },
  {
   "cell_type": "code",
   "execution_count": 40,
   "metadata": {
    "collapsed": true
   },
   "outputs": [],
   "source": [
    "vectorizer_2gram = TfidfVectorizer(stop_words='english', use_idf=True, max_df=0.5, ngram_range=(1, 2))"
   ]
  },
  {
   "cell_type": "code",
   "execution_count": 41,
   "metadata": {
    "collapsed": false
   },
   "outputs": [],
   "source": [
    "# make dataframe with one column for all questions so they shared same vocabulary in \n",
    "# word frequency model\n",
    "all_questions = pd.concat([data[\"text1\"], data[\"text2\"]], ignore_index=True)\n",
    "# vectorize all questions together for one common vocabulary and feature space\n",
    "all_Q = vectorizer_2gram.fit_transform(all_questions.values)"
   ]
  },
  {
   "cell_type": "code",
   "execution_count": 42,
   "metadata": {
    "collapsed": true
   },
   "outputs": [],
   "source": [
    "Q1 = all_Q[0:all_Q.shape[0]/2]\n",
    "Q2 = all_Q[all_Q.shape[0]/2:]"
   ]
  },
  {
   "cell_type": "code",
   "execution_count": 43,
   "metadata": {
    "collapsed": true
   },
   "outputs": [],
   "source": [
    "# make columns of dots between Q1 and Q2 - this takes about 15 minutes to run\n",
    "tf_idf_2gram_dot_column = [np.dot(Q1[i,:], Q2[i,:].T).A[0,0] for i in range(Q1.shape[0])]"
   ]
  },
  {
   "cell_type": "code",
   "execution_count": 44,
   "metadata": {
    "collapsed": false
   },
   "outputs": [],
   "source": [
    "tf_idf_2gram_dot_products = pd.Series(np.array(tf_idf_2gram_dot_column))\n",
    "data.reset_index(drop=True, inplace=True)\n",
    "data = data.assign(tf_idf_2gram_dot_products=tf_idf_2gram_dot_products.values)"
   ]
  },
  {
   "cell_type": "code",
   "execution_count": 45,
   "metadata": {
    "collapsed": false
   },
   "outputs": [
    {
     "data": {
      "text/html": [
       "<div>\n",
       "<table border=\"1\" class=\"dataframe\">\n",
       "  <thead>\n",
       "    <tr style=\"text-align: right;\">\n",
       "      <th></th>\n",
       "      <th>id</th>\n",
       "      <th>qid1</th>\n",
       "      <th>qid2</th>\n",
       "      <th>text1</th>\n",
       "      <th>text2</th>\n",
       "      <th>duplicate</th>\n",
       "      <th>tf_idf_dot_products</th>\n",
       "      <th>tf_idf_2gram_dot_products</th>\n",
       "    </tr>\n",
       "  </thead>\n",
       "  <tbody>\n",
       "    <tr>\n",
       "      <th>0</th>\n",
       "      <td>0</td>\n",
       "      <td>1</td>\n",
       "      <td>2</td>\n",
       "      <td>What is the step by step guide to invest in share market in india?</td>\n",
       "      <td>What is the step by step guide to invest in share market?</td>\n",
       "      <td>0</td>\n",
       "      <td>0.981784</td>\n",
       "      <td>0.940753</td>\n",
       "    </tr>\n",
       "    <tr>\n",
       "      <th>1</th>\n",
       "      <td>1</td>\n",
       "      <td>3</td>\n",
       "      <td>4</td>\n",
       "      <td>What is the story of Kohinoor (Koh-i-Noor) Diamond?</td>\n",
       "      <td>What would happen if the Indian government stole the Kohinoor (Koh-i-Noor) diamond back?</td>\n",
       "      <td>0</td>\n",
       "      <td>0.791940</td>\n",
       "      <td>0.672595</td>\n",
       "    </tr>\n",
       "    <tr>\n",
       "      <th>2</th>\n",
       "      <td>2</td>\n",
       "      <td>5</td>\n",
       "      <td>6</td>\n",
       "      <td>How can I increase the speed of my internet connection while using a VPN?</td>\n",
       "      <td>How can Internet speed be increased by hacking through DNS?</td>\n",
       "      <td>0</td>\n",
       "      <td>0.276089</td>\n",
       "      <td>0.095180</td>\n",
       "    </tr>\n",
       "    <tr>\n",
       "      <th>3</th>\n",
       "      <td>3</td>\n",
       "      <td>7</td>\n",
       "      <td>8</td>\n",
       "      <td>Why am I mentally very lonely? How can I solve it?</td>\n",
       "      <td>Find the remainder when [math]23^{24}[/math] is divided by 24,23?</td>\n",
       "      <td>0</td>\n",
       "      <td>0.000000</td>\n",
       "      <td>0.000000</td>\n",
       "    </tr>\n",
       "    <tr>\n",
       "      <th>4</th>\n",
       "      <td>4</td>\n",
       "      <td>9</td>\n",
       "      <td>10</td>\n",
       "      <td>Which one dissolve in water quikly sugar, salt, methane and carbon di oxide?</td>\n",
       "      <td>Which fish would survive in salt water?</td>\n",
       "      <td>0</td>\n",
       "      <td>0.243643</td>\n",
       "      <td>0.092756</td>\n",
       "    </tr>\n",
       "  </tbody>\n",
       "</table>\n",
       "</div>"
      ],
      "text/plain": [
       "   id  qid1  qid2  \\\n",
       "0  0   1     2      \n",
       "1  1   3     4      \n",
       "2  2   5     6      \n",
       "3  3   7     8      \n",
       "4  4   9     10     \n",
       "\n",
       "                                                                          text1  \\\n",
       "0  What is the step by step guide to invest in share market in india?             \n",
       "1  What is the story of Kohinoor (Koh-i-Noor) Diamond?                            \n",
       "2  How can I increase the speed of my internet connection while using a VPN?      \n",
       "3  Why am I mentally very lonely? How can I solve it?                             \n",
       "4  Which one dissolve in water quikly sugar, salt, methane and carbon di oxide?   \n",
       "\n",
       "                                                                                      text2  \\\n",
       "0  What is the step by step guide to invest in share market?                                  \n",
       "1  What would happen if the Indian government stole the Kohinoor (Koh-i-Noor) diamond back?   \n",
       "2  How can Internet speed be increased by hacking through DNS?                                \n",
       "3  Find the remainder when [math]23^{24}[/math] is divided by 24,23?                          \n",
       "4  Which fish would survive in salt water?                                                    \n",
       "\n",
       "   duplicate  tf_idf_dot_products  tf_idf_2gram_dot_products  \n",
       "0  0          0.981784             0.940753                   \n",
       "1  0          0.791940             0.672595                   \n",
       "2  0          0.276089             0.095180                   \n",
       "3  0          0.000000             0.000000                   \n",
       "4  0          0.243643             0.092756                   "
      ]
     },
     "execution_count": 45,
     "metadata": {},
     "output_type": "execute_result"
    }
   ],
   "source": [
    "data.head()"
   ]
  },
  {
   "cell_type": "code",
   "execution_count": 46,
   "metadata": {
    "collapsed": false
   },
   "outputs": [],
   "source": [
    "# plot ROC curve for 2-gram dot products\n",
    "X = data.tf_idf_2gram_dot_products.values\n",
    "y = data.duplicate.values\n",
    "X = X.reshape(-1,1) # numpy will require features to have this shape in future \n",
    "X_train, X_test, y_train, y_test = train_test_split(X, y, test_size=0.20)"
   ]
  },
  {
   "cell_type": "code",
   "execution_count": 47,
   "metadata": {
    "collapsed": false
   },
   "outputs": [
    {
     "data": {
      "text/plain": [
       "<matplotlib.text.Text at 0x7f0fcb6ffed0>"
      ]
     },
     "execution_count": 47,
     "metadata": {},
     "output_type": "execute_result"
    },
    {
     "data": {
      "image/png": "[encoded data removed]",
      "text/plain": [
       "<matplotlib.figure.Figure at 0x7f0fe59bfa50>"
      ]
     },
     "metadata": {},
     "output_type": "display_data"
    }
   ],
   "source": [
    "fpr, tpr, thresholds = roc_curve(y, X)\n",
    "plt.plot(fpr, tpr) \n",
    "plt.xlabel(\"False Positive Rate (1 - Specificity)\") \n",
    "plt.ylabel(\"True Positive Rate (Sensitivity, Recall)\") \n",
    "plt.title(\"ROC plot of Duplicate Questions Model\")"
   ]
  },
  {
   "cell_type": "code",
   "execution_count": 48,
   "metadata": {
    "collapsed": false
   },
   "outputs": [
    {
     "data": {
      "text/plain": [
       "0.72679233341979854"
      ]
     },
     "execution_count": 48,
     "metadata": {},
     "output_type": "execute_result"
    }
   ],
   "source": [
    "# compute auc score for 2gram model - it's worse than 1-gram!\n",
    "roc_auc_score(y_test, X_test)"
   ]
  },
  {
   "cell_type": "markdown",
   "metadata": {
    "collapsed": true
   },
   "source": [
    "# Word Embeddings with Gensim - see other notebook for more detail\n",
    "\n",
    "Here we'll need to do some preprocessing on words - we'll lowercase everything and remove punctuation, and make text file that contains a different question on each line. "
   ]
  },
  {
   "cell_type": "markdown",
   "metadata": {},
   "source": [
    "## Write cleaned questions to txt files"
   ]
  },
  {
   "cell_type": "code",
   "execution_count": 49,
   "metadata": {
    "collapsed": true
   },
   "outputs": [],
   "source": [
    "import gensim # this version is able to use pre-loaded word embeddings for doc2vec\n",
    "import string"
   ]
  },
  {
   "cell_type": "code",
   "execution_count": 50,
   "metadata": {
    "collapsed": false,
    "scrolled": true
   },
   "outputs": [
    {
     "data": {
      "text/html": [
       "<div>\n",
       "<table border=\"1\" class=\"dataframe\">\n",
       "  <thead>\n",
       "    <tr style=\"text-align: right;\">\n",
       "      <th></th>\n",
       "      <th>id</th>\n",
       "      <th>qid1</th>\n",
       "      <th>qid2</th>\n",
       "      <th>text1</th>\n",
       "      <th>text2</th>\n",
       "      <th>duplicate</th>\n",
       "      <th>tf_idf_dot_products</th>\n",
       "      <th>tf_idf_2gram_dot_products</th>\n",
       "    </tr>\n",
       "  </thead>\n",
       "  <tbody>\n",
       "    <tr>\n",
       "      <th>0</th>\n",
       "      <td>0</td>\n",
       "      <td>1</td>\n",
       "      <td>2</td>\n",
       "      <td>What is the step by step guide to invest in share market in india?</td>\n",
       "      <td>What is the step by step guide to invest in share market?</td>\n",
       "      <td>0</td>\n",
       "      <td>0.981784</td>\n",
       "      <td>0.940753</td>\n",
       "    </tr>\n",
       "    <tr>\n",
       "      <th>1</th>\n",
       "      <td>1</td>\n",
       "      <td>3</td>\n",
       "      <td>4</td>\n",
       "      <td>What is the story of Kohinoor (Koh-i-Noor) Diamond?</td>\n",
       "      <td>What would happen if the Indian government stole the Kohinoor (Koh-i-Noor) diamond back?</td>\n",
       "      <td>0</td>\n",
       "      <td>0.791940</td>\n",
       "      <td>0.672595</td>\n",
       "    </tr>\n",
       "    <tr>\n",
       "      <th>2</th>\n",
       "      <td>2</td>\n",
       "      <td>5</td>\n",
       "      <td>6</td>\n",
       "      <td>How can I increase the speed of my internet connection while using a VPN?</td>\n",
       "      <td>How can Internet speed be increased by hacking through DNS?</td>\n",
       "      <td>0</td>\n",
       "      <td>0.276089</td>\n",
       "      <td>0.095180</td>\n",
       "    </tr>\n",
       "    <tr>\n",
       "      <th>3</th>\n",
       "      <td>3</td>\n",
       "      <td>7</td>\n",
       "      <td>8</td>\n",
       "      <td>Why am I mentally very lonely? How can I solve it?</td>\n",
       "      <td>Find the remainder when [math]23^{24}[/math] is divided by 24,23?</td>\n",
       "      <td>0</td>\n",
       "      <td>0.000000</td>\n",
       "      <td>0.000000</td>\n",
       "    </tr>\n",
       "    <tr>\n",
       "      <th>4</th>\n",
       "      <td>4</td>\n",
       "      <td>9</td>\n",
       "      <td>10</td>\n",
       "      <td>Which one dissolve in water quikly sugar, salt, methane and carbon di oxide?</td>\n",
       "      <td>Which fish would survive in salt water?</td>\n",
       "      <td>0</td>\n",
       "      <td>0.243643</td>\n",
       "      <td>0.092756</td>\n",
       "    </tr>\n",
       "  </tbody>\n",
       "</table>\n",
       "</div>"
      ],
      "text/plain": [
       "   id  qid1  qid2  \\\n",
       "0  0   1     2      \n",
       "1  1   3     4      \n",
       "2  2   5     6      \n",
       "3  3   7     8      \n",
       "4  4   9     10     \n",
       "\n",
       "                                                                          text1  \\\n",
       "0  What is the step by step guide to invest in share market in india?             \n",
       "1  What is the story of Kohinoor (Koh-i-Noor) Diamond?                            \n",
       "2  How can I increase the speed of my internet connection while using a VPN?      \n",
       "3  Why am I mentally very lonely? How can I solve it?                             \n",
       "4  Which one dissolve in water quikly sugar, salt, methane and carbon di oxide?   \n",
       "\n",
       "                                                                                      text2  \\\n",
       "0  What is the step by step guide to invest in share market?                                  \n",
       "1  What would happen if the Indian government stole the Kohinoor (Koh-i-Noor) diamond back?   \n",
       "2  How can Internet speed be increased by hacking through DNS?                                \n",
       "3  Find the remainder when [math]23^{24}[/math] is divided by 24,23?                          \n",
       "4  Which fish would survive in salt water?                                                    \n",
       "\n",
       "   duplicate  tf_idf_dot_products  tf_idf_2gram_dot_products  \n",
       "0  0          0.981784             0.940753                   \n",
       "1  0          0.791940             0.672595                   \n",
       "2  0          0.276089             0.095180                   \n",
       "3  0          0.000000             0.000000                   \n",
       "4  0          0.243643             0.092756                   "
      ]
     },
     "execution_count": 50,
     "metadata": {},
     "output_type": "execute_result"
    }
   ],
   "source": [
    "data.head()"
   ]
  },
  {
   "cell_type": "code",
   "execution_count": 51,
   "metadata": {
    "collapsed": false
   },
   "outputs": [],
   "source": [
    "# lowercase words, remove punctuation and print to text file to prepare for learning\n",
    "# (sklearn did that automatically with the vectorizer function for tf-idf)\n",
    "data[\"cleaned_q1\"] = data.text1.str.lower()\n",
    "data[\"cleaned_q2\"] = data.text2.str.lower()\n",
    "\n",
    "# remove punctuation\n",
    "data['cleaned_q1'] = data['cleaned_q1'].apply(lambda x:''.join([i for i in x if i not in string.punctuation]))\n",
    "data['cleaned_q2'] = data['cleaned_q2'].apply(lambda x:''.join([i for i in x if i not in string.punctuation]))"
   ]
  },
  {
   "cell_type": "code",
   "execution_count": 52,
   "metadata": {
    "collapsed": true
   },
   "outputs": [],
   "source": [
    "# remove the character \"\\n\", which messed up the line delimiters in txt file\n",
    "# these only occur a few times in the questions\n",
    "data[\"cleaned_q1\"] = data['cleaned_q1'].str.replace(\"\\n\", \"\")\n",
    "data[\"cleaned_q2\"] = data['cleaned_q2'].str.replace(\"\\n\", \"\")"
   ]
  },
  {
   "cell_type": "code",
   "execution_count": 53,
   "metadata": {
    "collapsed": false
   },
   "outputs": [],
   "source": [
    "data[\"cleaned_q1\"].to_csv(\"cleaned_q1_bow.txt\", sep='\\n', header=False, index=False)\n",
    "data[\"cleaned_q2\"].to_csv(\"cleaned_q2_bow.txt\", sep='\\n', header=False, index=False)"
   ]
  },
  {
   "cell_type": "code",
   "execution_count": 54,
   "metadata": {
    "collapsed": true
   },
   "outputs": [],
   "source": [
    "# write file giving true values for whether questions are duplicates or not\n",
    "data[\"duplicate\"].to_csv(\"is_duplicate_bow.txt\", sep='\\n', header=False, index=False)"
   ]
  },
  {
   "cell_type": "code",
   "execution_count": 55,
   "metadata": {
    "collapsed": true
   },
   "outputs": [],
   "source": [
    "# use magic ipython command to move files into their own folder\n",
    "%mkdir cleaned_data_bow\n",
    "%mv cleaned_q1_bow.txt cleaned_data_bow/cleaned_q1_bow.txt\n",
    "%mv cleaned_q2_bow.txt cleaned_data_bow/cleaned_q2_bow.txt"
   ]
  },
  {
   "cell_type": "code",
   "execution_count": 56,
   "metadata": {
    "collapsed": false
   },
   "outputs": [
    {
     "data": {
      "text/plain": [
       "404288"
      ]
     },
     "execution_count": 56,
     "metadata": {},
     "output_type": "execute_result"
    }
   ],
   "source": [
    "len(data)"
   ]
  },
  {
   "cell_type": "markdown",
   "metadata": {},
   "source": [
    "### Stop!\n",
    "\n",
    "Execute these next cells only if you want to have smaller data set to play with for faster experimentation - otherwise move to next section."
   ]
  },
  {
   "cell_type": "code",
   "execution_count": null,
   "metadata": {
    "collapsed": false
   },
   "outputs": [],
   "source": [
    "data[0:10][\"cleaned_q1\"].to_csv(\"test_q1.txt\", sep='\\n', header=False, index=False)\n",
    "data[0:10][\"cleaned_q2\"].to_csv(\"test_q2.txt\", sep='\\n', header=False, index=False)"
   ]
  },
  {
   "cell_type": "code",
   "execution_count": null,
   "metadata": {
    "collapsed": true
   },
   "outputs": [],
   "source": [
    "data[0:10][\"is_duplicate\"].to_csv(\"test_is_duplicate.txt\", sep='\\n', header=False, index=False)"
   ]
  },
  {
   "cell_type": "code",
   "execution_count": null,
   "metadata": {
    "collapsed": false
   },
   "outputs": [],
   "source": [
    "# print sample of 20% of data to use for tuning hyperparameters\n",
    "data_sample = data.sample(frac=.20, axis=0)"
   ]
  },
  {
   "cell_type": "code",
   "execution_count": null,
   "metadata": {
    "collapsed": false
   },
   "outputs": [],
   "source": [
    "data_sample[\"cleaned_q1\"].to_csv(\"20percent_q1.txt\", sep='\\n', header=False, index=False)\n",
    "data_sample[\"cleaned_q2\"].to_csv(\"20percent_q2.txt\", sep='\\n', header=False, index=False)\n",
    "data_sample[\"is_duplicate\"].to_csv(\"20percent_is_dup.txt\", sep='\\n', header=False, index=False)"
   ]
  },
  {
   "cell_type": "markdown",
   "metadata": {},
   "source": [
    "## First try training on questions themselves as corpus to generate word vectors"
   ]
  },
  {
   "cell_type": "code",
   "execution_count": 57,
   "metadata": {
    "collapsed": true
   },
   "outputs": [],
   "source": [
    "# create iterator to iterate over questions in memory-friendly way, as per word2vec gensim tutorial here: \n",
    "# https://rare-technologies.com/word2vec-tutorial/\n",
    "import os\n",
    "\n",
    "# iterates over all files ina directory\n",
    "class MySentences(object):\n",
    "    def __init__(self, dirname):\n",
    "        self.dirname = dirname\n",
    " \n",
    "    def __iter__(self):\n",
    "        for fname in os.listdir(self.dirname):\n",
    "            for line in open(os.path.join(self.dirname, fname)):\n",
    "                yield line.split()\n",
    "\n",
    "# class to iterate through single file \n",
    "class OneFileSentences(object): \n",
    "    def __init__(self, filename): \n",
    "        self.filename = filename\n",
    "    \n",
    "    def __iter__(self): \n",
    "        for line in open(self.filename): \n",
    "            yield line.split()"
   ]
  },
  {
   "cell_type": "code",
   "execution_count": 58,
   "metadata": {
    "collapsed": false
   },
   "outputs": [],
   "source": [
    "# create sentences iterator and train model\n",
    "sentences = MySentences('cleaned_data_bow') # cleaned data files should be in this folder\n",
    "model = gensim.models.Word2Vec(sentences)"
   ]
  },
  {
   "cell_type": "code",
   "execution_count": 59,
   "metadata": {
    "collapsed": false
   },
   "outputs": [],
   "source": [
    "# create function to turn each sentence into average of its constituent word vectors\n",
    "\n",
    "def make_question_vectors(model, sentence): \n",
    "    # return numpy document vector by averaging constituent word vectors\n",
    "    # sentence is a list of words in same style as iterator makes for entering into word2vec\n",
    "    word_vecs = []\n",
    "    for word in sentence: \n",
    "        try: \n",
    "            new_word = model[word]\n",
    "        except KeyError:\n",
    "            continue\n",
    "        # check whether array has nan before appending\n",
    "        if not np.isnan(np.sum(new_word)):\n",
    "            word_vecs.append(new_word)\n",
    "    # if no appropriate word vectors found, return array of zeros\n",
    "    if not word_vecs:\n",
    "        return np.zeros(model.layer1_size)\n",
    "    word_vecs = np.array(word_vecs)\n",
    "    return word_vecs.mean(axis=0)"
   ]
  },
  {
   "cell_type": "code",
   "execution_count": 60,
   "metadata": {
    "collapsed": false
   },
   "outputs": [],
   "source": [
    "# make numpy list of normalized dot products of word vectors averages between corresponding questions \n",
    "import itertools\n",
    "\n",
    "q1_sentences = OneFileSentences('cleaned_data_bow/cleaned_q1_bow.txt')\n",
    "q2_sentences = OneFileSentences('cleaned_data_bow/cleaned_q2_bow.txt')\n",
    "\n",
    "document_distances = []\n",
    "\n",
    "# for each sentence pair, dot the numpy vectors together to find their distance\n",
    "for q1, q2 in itertools.izip(q1_sentences, q2_sentences): \n",
    "    q1_vec, q2_vec = make_question_vectors(model, q1), make_question_vectors(model, q2)\n",
    "    # take normed dot product, accounting for zero vectors\n",
    "    dot_prod = np.dot(q1_vec, q2_vec)\n",
    "    norm = np.linalg.norm(q1_vec)*np.linalg.norm(q2_vec)\n",
    "    norm_dot_prod = 0\n",
    "    if dot_prod != 0: \n",
    "        norm_dot_prod = dot_prod/float(norm)\n",
    "    document_distances.append(norm_dot_prod)"
   ]
  },
  {
   "cell_type": "code",
   "execution_count": 61,
   "metadata": {
    "collapsed": true
   },
   "outputs": [],
   "source": [
    "# find AUC score for this classification threshold\n",
    "doc_dist = np.array(document_distances)\n",
    "y = data.duplicate.values"
   ]
  },
  {
   "cell_type": "code",
   "execution_count": 62,
   "metadata": {
    "collapsed": false
   },
   "outputs": [
    {
     "data": {
      "text/plain": [
       "<matplotlib.text.Text at 0x7f0fbdf43750>"
      ]
     },
     "execution_count": 62,
     "metadata": {},
     "output_type": "execute_result"
    },
    {
     "data": {
      "image/png": "[encoded data removed]",
      "text/plain": [
       "<matplotlib.figure.Figure at 0x7f0fc9ec96d0>"
      ]
     },
     "metadata": {},
     "output_type": "display_data"
    }
   ],
   "source": [
    "fpr, tpr, thresholds = roc_curve(y, doc_dist)\n",
    "plt.plot(fpr, tpr) \n",
    "plt.xlabel(\"False Positive Rate (1 - Specificity)\") \n",
    "plt.ylabel(\"True Positive Rate (Sensitivity, Recall)\") \n",
    "plt.title(\"ROC plot of Duplicate Questions Model\")"
   ]
  },
  {
   "cell_type": "code",
   "execution_count": 63,
   "metadata": {
    "collapsed": false
   },
   "outputs": [
    {
     "data": {
      "text/plain": [
       "0.69635616704548098"
      ]
     },
     "execution_count": 63,
     "metadata": {},
     "output_type": "execute_result"
    }
   ],
   "source": [
    "# compute auc score for average word2vec model - it's worse than tf-idf!\n",
    "roc_auc_score(y, doc_dist)"
   ]
  },
  {
   "cell_type": "markdown",
   "metadata": {},
   "source": [
    "## Next try averaging using pre-trained Google News Vectors"
   ]
  },
  {
   "cell_type": "code",
   "execution_count": 64,
   "metadata": {
    "collapsed": false
   },
   "outputs": [],
   "source": [
    "# this model takes about 2 minutes to load\n",
    "import gensim\n",
    "model_path = \"../word2vec/word2vec-C-code/data/GoogleNews-vectors-negative300.bin\"\n",
    "model = gensim.models.Word2Vec.load_word2vec_format(model_path, binary=True)"
   ]
  },
  {
   "cell_type": "code",
   "execution_count": 65,
   "metadata": {
    "collapsed": false,
    "scrolled": true
   },
   "outputs": [],
   "source": [
    "# this takes about 5 minutes to calculate\n",
    "# make numpy list of normalized dot products of word vectors averages between corresponding questions \n",
    "import itertools\n",
    "import numpy as np\n",
    "\n",
    "q1_sentences = OneFileSentences('cleaned_data_bow/cleaned_q1_bow.txt')\n",
    "q2_sentences = OneFileSentences('cleaned_data_bow/cleaned_q2_bow.txt')\n",
    "\n",
    "document_distances = []\n",
    "\n",
    "# for each sentence pair, dot the numpy vectors together to find their distance\n",
    "for q1, q2 in itertools.izip(q1_sentences, q2_sentences): \n",
    "    q1_vec, q2_vec = make_question_vectors(model, q1), make_question_vectors(model, q2)\n",
    "    # take normed dot product, accounting for zero vectors\n",
    "    dot_prod = np.dot(q1_vec, q2_vec)\n",
    "    norm = np.linalg.norm(q1_vec)*np.linalg.norm(q2_vec)\n",
    "    norm_dot_prod = 0\n",
    "    if dot_prod != 0: \n",
    "        norm_dot_prod = dot_prod/float(norm)\n",
    "    document_distances.append(norm_dot_prod)"
   ]
  },
  {
   "cell_type": "code",
   "execution_count": 66,
   "metadata": {
    "collapsed": false
   },
   "outputs": [],
   "source": [
    "# find AUC score for this classification threshold\n",
    "gnews_dist = np.array(document_distances)\n",
    "y = data.duplicate.values"
   ]
  },
  {
   "cell_type": "code",
   "execution_count": 67,
   "metadata": {
    "collapsed": false
   },
   "outputs": [
    {
     "data": {
      "text/plain": [
       "<matplotlib.text.Text at 0x7f0fbef391d0>"
      ]
     },
     "execution_count": 67,
     "metadata": {},
     "output_type": "execute_result"
    },
    {
     "data": {
      "image/png": "[encoded data removed]",
      "text/plain": [
       "<matplotlib.figure.Figure at 0x7f0fc0a05f10>"
      ]
     },
     "metadata": {},
     "output_type": "display_data"
    }
   ],
   "source": [
    "import matplotlib.pyplot as plt\n",
    "from sklearn.metrics import roc_curve\n",
    "from sklearn.metrics import roc_auc_score\n",
    "%matplotlib inline\n",
    "\n",
    "fpr, tpr, thresholds = roc_curve(y, gnews_dist)\n",
    "plt.plot(fpr, tpr) \n",
    "plt.xlabel(\"False Positive Rate (1 - Specificity)\") \n",
    "plt.ylabel(\"True Positive Rate (Sensitivity, Recall)\") \n",
    "plt.title(\"ROC plot of Duplicate Questions Model\")"
   ]
  },
  {
   "cell_type": "code",
   "execution_count": 68,
   "metadata": {
    "collapsed": false
   },
   "outputs": [
    {
     "data": {
      "text/plain": [
       "0.72593255252271049"
      ]
     },
     "execution_count": 68,
     "metadata": {},
     "output_type": "execute_result"
    }
   ],
   "source": [
    "# compute auc score for word2vec average using Googlenews model - still worse than 1-gram tf-idf model!\n",
    "roc_auc_score(y, gnews_dist)"
   ]
  },
  {
   "cell_type": "code",
   "execution_count": null,
   "metadata": {
    "collapsed": true
   },
   "outputs": [],
   "source": []
  }
 ],
 "metadata": {
  "anaconda-cloud": {},
  "kernelspec": {
   "display_name": "Python 2",
   "language": "python",
   "name": "python2"
  },
  "language_info": {
   "codemirror_mode": {
    "name": "ipython",
    "version": 2
   },
   "file_extension": ".py",
   "mimetype": "text/x-python",
   "name": "python",
   "nbconvert_exporter": "python",
   "pygments_lexer": "ipython2",
   "version": "2.7.11"
  }
 },
 "nbformat": 4,
 "nbformat_minor": 1
}
