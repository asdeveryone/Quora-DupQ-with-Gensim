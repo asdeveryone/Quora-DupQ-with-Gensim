{
 "cells": [
  {
   "cell_type": "code",
   "execution_count": 132,
   "metadata": {
    "collapsed": true
   },
   "outputs": [],
   "source": [
    "import gensim\n",
    "import multiprocessing\n",
    "import os"
   ]
  },
  {
   "cell_type": "code",
   "execution_count": 133,
   "metadata": {
    "collapsed": false
   },
   "outputs": [
    {
     "name": "stdout",
     "output_type": "stream",
     "text": [
      "The autoreload extension is already loaded. To reload it, use:\n",
      "  %reload_ext autoreload\n"
     ]
    }
   ],
   "source": [
    "# to reload files that are changed automatically\n",
    "%load_ext autoreload\n",
    "%autoreload 2"
   ]
  },
  {
   "cell_type": "code",
   "execution_count": 134,
   "metadata": {
    "collapsed": true
   },
   "outputs": [],
   "source": [
    "# import utils file - contains some useful functions\n",
    "import quora_dup_utils as qu"
   ]
  },
  {
   "cell_type": "markdown",
   "metadata": {},
   "source": [
    "# Parameters: file names and number of questions to use"
   ]
  },
  {
   "cell_type": "code",
   "execution_count": 135,
   "metadata": {
    "collapsed": true
   },
   "outputs": [],
   "source": [
    "# files names - if these files and folders don't exist then they are downloaded \n",
    "raw_file_name = \"quora_duplicate_questions.tsv\"\n",
    "q1_file_name = \"cleaned_q1.txt\"\n",
    "q2_file_name = \"cleaned_q2.txt\"\n",
    "dup_file_name = \"is_duplicate.txt\"\n",
    "complete_data_dataframe = \"complete_data_dataframe.csv\"\n",
    "questions_folder_name = \"cleaned_data\"\n",
    "google_model_path = '/home/daniel/Desktop/word2vec/word2vec-C-code/data/GoogleNews-vectors-negative300.bin' # path to saved Google word2vec model\n",
    "\n",
    "# file to store doc2vec hyperparameters and ROC AUC errors\n",
    "parameters_and_errors_name = \"parameters_and_errors.csv\"\n",
    "\n",
    "# number of question pairs to use in training doc2vec\n",
    "# total number of pairs is currently 404288\n",
    "num_question_pairs = 404288"
   ]
  },
  {
   "cell_type": "markdown",
   "metadata": {
    "collapsed": true
   },
   "source": [
    "# Download data and prepare gensim-friendly files"
   ]
  },
  {
   "cell_type": "code",
   "execution_count": 136,
   "metadata": {
    "collapsed": false
   },
   "outputs": [
    {
     "name": "stdout",
     "output_type": "stream",
     "text": [
      "Directory that should contain data already exists.\n"
     ]
    }
   ],
   "source": [
    "import pandas as pd\n",
    "import os\n",
    "import string\n",
    "import requests\n",
    "\n",
    "# check whether downloaded data already exists with names provided above\n",
    "if not os.path.isdir(questions_folder_name) or not os.path.isfile(dup_file_name):\n",
    "    \n",
    "    # Download questions file - data set has been changed since first release\n",
    "    url = 'http://qim.ec.quoracdn.net/quora_duplicate_questions.tsv'\n",
    "    r = requests.get(url)\n",
    "    with open(raw_file_name, 'wb') as f:\n",
    "        f.write(r.content)\n",
    "    \n",
    "    # DATA CLEANING WITH PANDAS\n",
    "    \n",
    "    # read in file into dataframe\n",
    "    data = pd.read_csv(raw_file_name, sep='\\t')\n",
    "    # drop rows with null value\n",
    "    data.dropna(inplace=True)\n",
    "    # make columns of lower cased words\n",
    "    data[\"cleaned_q1\"] = data.text1.str.lower()\n",
    "    data[\"cleaned_q2\"] = data.text2.str.lower()\n",
    "    # remove punctuation from lower-cased words columns\n",
    "    data['cleaned_q1'] = data['cleaned_q1'].apply(lambda x:''.join([i for i in x if i not in string.punctuation]))\n",
    "    data['cleaned_q2'] = data['cleaned_q2'].apply(lambda x:''.join([i for i in x if i not in string.punctuation]))\n",
    "    # remove the character \"\\n\", which messes up the line delimiters in txt file\n",
    "    # these only occur ~20 times in the questions\n",
    "    data[\"cleaned_q1\"] = data['cleaned_q1'].str.replace(\"\\n\", \"\")\n",
    "    data[\"cleaned_q2\"] = data['cleaned_q2'].str.replace(\"\\n\", \"\")\n",
    "    # shuffle data before writing to file - this way random sample can be taken from file \n",
    "    # simply by choosing first n rows of file\n",
    "    data = data.sample(frac=1)\n",
    "\n",
    "    # create directory to hold question data\n",
    "    if not os.path.exists(questions_folder_name):\n",
    "        os.makedirs(questions_folder_name)\n",
    "\n",
    "    # write cleaned text rows to txt files, one line for each sentence\n",
    "    data[\"cleaned_q1\"].to_csv(questions_folder_name + \"/\" + q1_file_name, sep='\\n', header=False, index=False)\n",
    "    data[\"cleaned_q2\"].to_csv(questions_folder_name + \"/\" + q2_file_name, sep='\\n', header=False, index=False)\n",
    "    # write dup values to txt file, one line for each value\n",
    "    data[\"duplicate\"].to_csv(dup_file_name, sep='\\n', header=False, index=False)\n",
    "    # write complete cleaning dataframe to text files as well - this can be reloaded \n",
    "    # to look at raw questions that get misclassified, etc.\n",
    "    data.to_csv(complete_data_dataframe, sep=',', header=True, index=False)\n",
    "\n",
    "    print \"Saved file with\", len(data), \"rows at\", raw_file_name\n",
    "else: \n",
    "    print \"Directory that should contain data already exists.\""
   ]
  },
  {
   "cell_type": "markdown",
   "metadata": {},
   "source": [
    "# Load in data\n",
    "\n",
    "Notebook assumes you have a directory questions_folder_name that contains two text files, one for all \n",
    "first questions and one for all second questions, and a file dup_file_name that has one boolean value (0 or 1)\n",
    "on each line, one for all ~400,000 document pairs that tells whether questions are duplicates or not.\n",
    "\n",
    "questions_folder_name (directory): contains sorted question text files  \n",
    "dup_file_name (file): contains sorted answers about whether question pairs are duplicates\n",
    "\n",
    "These files and directories are created automatically by the above cell."
   ]
  },
  {
   "cell_type": "code",
   "execution_count": 137,
   "metadata": {
    "collapsed": true
   },
   "outputs": [],
   "source": [
    "# create iterator to run through directory of text files with one sentence per line\n",
    "from itertools import izip, count\n",
    "\n",
    "# class that iterates through first \"rows\" lines of questions list (\"rows\" is integer)\n",
    "class LabeledLineSentence(object):\n",
    "    def __init__(self, dirname, rows=None):\n",
    "        self.dirname = dirname\n",
    "        self.rows = rows\n",
    "    def __iter__(self):\n",
    "        for filename in os.listdir(self.dirname):\n",
    "            for uid, text_line in enumerate(open(os.path.join(self.dirname, filename))):\n",
    "                if self.rows:\n",
    "                    if uid >= self.rows: \n",
    "                        break\n",
    "            # for uid, line in enumerate(open(os.path.join(self.dirname, filename))):\n",
    "                yield gensim.models.doc2vec.LabeledSentence(words=text_line.split(), tags=[os.path.basename(filename) + '_%s' % uid])\n",
    "\n",
    "# make sure using fast version\n",
    "assert gensim.models.doc2vec.FAST_VERSION > -1\n",
    "cores = multiprocessing.cpu_count() # number of cores on computer to use for computations"
   ]
  },
  {
   "cell_type": "code",
   "execution_count": 138,
   "metadata": {
    "collapsed": false
   },
   "outputs": [
    {
     "name": "stdout",
     "output_type": "stream",
     "text": [
      "404288 question pairs to train (808576 documents total)\n"
     ]
    }
   ],
   "source": [
    "# load data into memory - all data combined should only be 200-300 megabytes\n",
    "# this is done instead of using iterator - makes doing shuffles of data easier\n",
    "\n",
    "all_docs = []\n",
    "sentences = LabeledLineSentence(questions_folder_name, rows=num_question_pairs)\n",
    "for sentence in sentences:\n",
    "    all_docs.append(sentence)\n",
    "\n",
    "print('%d question pairs to train (%d documents total)' % (num_question_pairs, len(all_docs)))"
   ]
  },
  {
   "cell_type": "code",
   "execution_count": 139,
   "metadata": {
    "collapsed": false
   },
   "outputs": [
    {
     "name": "stdout",
     "output_type": "stream",
     "text": [
      "404288 document pairs to classify\n",
      "Document pair names and labels contained in doc_names_and_duplicate_class\n"
     ]
    }
   ],
   "source": [
    "# make list of tuples (document1, document2, is_dup) for all num_question_pairs\n",
    "# the document names come from naming scheme used in LabeledLineSentence class \n",
    "\n",
    "questions_file_names = [os.path.basename(filename) for filename in os.listdir(questions_folder_name)]\n",
    "doc_names_and_duplicate_class = []\n",
    "for i, line in enumerate(open(dup_file_name)):\n",
    "    if i >= num_question_pairs:\n",
    "        break\n",
    "    doc_tup = (questions_file_names[0] + \"_\" + str(i), questions_file_names[1] + \"_\" + str(i), int(line.strip(\"\\n\")))\n",
    "    doc_names_and_duplicate_class.append(doc_tup)\n",
    "\n",
    "print len(doc_names_and_duplicate_class), \"document pairs to classify\"\n",
    "print \"Document pair names and labels contained in doc_names_and_duplicate_class\""
   ]
  },
  {
   "cell_type": "markdown",
   "metadata": {},
   "source": [
    "## Set up logging\n",
    "\n",
    "This sets up notebook to print copious output during training - can be turned off if the output is too much."
   ]
  },
  {
   "cell_type": "code",
   "execution_count": 11,
   "metadata": {
    "collapsed": true
   },
   "outputs": [],
   "source": [
    "# produce logs during training\n",
    "import logging\n",
    "logging.basicConfig(format='%(asctime)s : %(levelname)s : %(message)s', level=logging.INFO)\n",
    "rootLogger = logging.getLogger()\n",
    "rootLogger.setLevel(logging.INFO)"
   ]
  },
  {
   "cell_type": "markdown",
   "metadata": {},
   "source": [
    "# Train model\n",
    "\n",
    "Following cell explains parameters for training a single Doc2vec model."
   ]
  },
  {
   "cell_type": "markdown",
   "metadata": {},
   "source": [
    "## Description of Doc2vec model parameters"
   ]
  },
  {
   "cell_type": "code",
   "execution_count": 12,
   "metadata": {
    "collapsed": true
   },
   "outputs": [],
   "source": [
    "\"\"\"\n",
    "The documents iterable can be simply a list of TaggedDocument elements, \n",
    "but for larger corpora, consider an iterable that streams the documents \n",
    "directly from disk/network.\n",
    "\n",
    "If you don’t supply documents, the model is left uninitialized – \n",
    "use if you plan to initialize it in some other way.\n",
    "\n",
    "\n",
    "\n",
    "dm defines the training algorithm. By default (dm=1), \n",
    "    ‘distributed memory’ (PV-DM) is used. Otherwise, distributed bag of words (PV-DBOW) is employed.\n",
    "\n",
    "size is the dimensionality of the feature vectors.\n",
    "\n",
    "window is the maximum distance between the predicted word and context words used for prediction within a document.\n",
    "\n",
    "alpha is the initial learning rate (will linearly drop to zero as training progresses).\n",
    "\n",
    "seed = for the random number generator. Note that for a fully deterministically-reproducible run, \n",
    "    you must also limit the model to a single worker thread, to eliminate ordering jitter from \n",
    "    OS thread scheduling. (In Python 3, reproducibility between interpreter launches also \n",
    "    requires use of the PYTHONHASHSEED environment variable to control hash randomization.)\n",
    "\n",
    "min_count = ignore all words with total frequency lower than this.\n",
    "\n",
    "max_vocab_size = limit RAM during vocabulary building; if there are more unique words \n",
    "                 than this, then prune the infrequent ones. Every 10 million word types \n",
    "                 need about 1GB of RAM. Set to None for no limit (default).\n",
    "\n",
    "sample = threshold for configuring which higher-frequency words are randomly downsampled;\n",
    "        default is 0 (off), useful value is 1e-5.\n",
    "        \n",
    "workers = use this many worker threads to train the model (=faster training with multicore machines).\n",
    "\n",
    "iter = number of iterations (epochs) over the corpus. The default inherited from Word2Vec is 5, \n",
    "        but values of 10 or 20 are common in published ‘Paragraph Vector’ experiments.\n",
    "\n",
    "hs = if 1 (default), hierarchical sampling will be used for model training (else set to 0).\n",
    "\n",
    "negative = if > 0, negative sampling will be used, the int for negative specifies how many \n",
    "            “noise words” should be drawn (usually between 5-20).\n",
    "\n",
    "dm_mean = if 0 (default), use the sum of the context word vectors. If 1, use the mean. \n",
    "            Only applies when dm is used in non-concatenative mode.\n",
    "\n",
    "dm_concat = if 1, use concatenation of context vectors rather than sum/average; default is 0 (off). \n",
    "                Note concatenation results in a much-larger model, as the input is no longer the size of \n",
    "                one (sampled or arithmatically combined) word vector, but the size of the tag(s) and all \n",
    "                words in the context strung together.\n",
    "\n",
    "dm_tag_count = expected constant number of document tags per document, when using dm_concat mode; default is 1.\n",
    "\n",
    "dbow_words if set to 1 trains word-vectors (in skip-gram fashion) simultaneous with DBOW doc-vector training; \n",
    "            default is 0 (faster training of doc-vectors only).\n",
    "\n",
    "\"\"\"\n",
    "\n",
    "\n",
    "# set model parameters parameters\n",
    "\n",
    "parameters_dict = {\n",
    "\n",
    "'documents' : all_docs,\n",
    "'dm' : 0, # use bag-of-words (dbow) model; 1 uses embedding (dmpv) model\n",
    "'size' : 200, # size of word/doc vectors\n",
    "'window' : 15, # # max distance between word and neighbor word for word embeddings\n",
    "'alpha' : .025, # learning rate - use rate in paper\n",
    "'min_alpha' : 0.0001, # rate from paper\n",
    "'min_count' : 5, # ignore words with count less than this\n",
    "'sample' : 1e-5, # how to configure downsampling for high frequency words\n",
    "'workers' : cores, # number of cores to use\n",
    "'hs' : 0, # use negative sampling\n",
    "'negative' : 5, # used in negative sampling\n",
    "'dbow_words' : 1, # trains word vectors in addition to document vectors in dbow model\n",
    "'iter' : 3 # recommended number of epochs is ~20 for dbow model on question comparison   \n",
    "\n",
    "}"
   ]
  },
  {
   "cell_type": "markdown",
   "metadata": {},
   "source": [
    "## Create lists of parameters for grid search\n",
    "\n",
    "The metric to evaluate the doc2vec model on can be customized. For this notebook we're representing each question as a single document vector and interpreting the cosine similarity between the vectors as their degree of similarity (the cosine similarity will be number between -1 and 1). \n",
    "\n",
    "Then the ROC area under the curve (AUC) is calculated for the classifier defined by the cosine similarities between each question and the model with the best AUC score is chosen. \n",
    "\n",
    "More sophisticated models can be evaluated as well, e.g. a neural network could be trained on the document vectors after the Doc2vec model is applied and the best doc2vec+NN model chosen."
   ]
  },
  {
   "cell_type": "code",
   "execution_count": 27,
   "metadata": {
    "collapsed": true
   },
   "outputs": [],
   "source": [
    "# create list of parameters to use in model\n",
    "from itertools import product\n",
    "\n",
    "dms = [0]\n",
    "sizes = [300]\n",
    "windows = [5]\n",
    "alphas = [0.025]\n",
    "min_alphas = [0.0001]\n",
    "min_counts = [1, 5]\n",
    "samples = [1e-5]\n",
    "workers_s = [cores]\n",
    "hs_s = [0]\n",
    "negatives = [5]\n",
    "dbow_words_s = [1]\n",
    "iters = [150]\n",
    "\n",
    "# create iterable of all combinations of parameters\n",
    "params_product = product(dms, sizes, windows, alphas, min_alphas, \n",
    "                        min_counts, samples, workers_s, hs_s, negatives, \n",
    "                        dbow_words_s, iters)\n",
    "parameters = [x for x in params_product]"
   ]
  },
  {
   "cell_type": "markdown",
   "metadata": {},
   "source": [
    "## Do grid search and record AUC results in external file\n",
    "\n",
    "Below cell iterates through all doc2vec parameter combinations defined above, calculates doc2vec model using each of those parameters, calculates ROC AUC score for question duplication task using cosine similarity between documents, and records results into the external file parameters_and_error_name."
   ]
  },
  {
   "cell_type": "code",
   "execution_count": 30,
   "metadata": {
    "collapsed": false,
    "scrolled": true
   },
   "outputs": [
    {
     "name": "stderr",
     "output_type": "stream",
     "text": [
      "2017-03-08 17:27:55,387 : INFO : collecting all words and their counts\n",
      "2017-03-08 17:27:55,388 : INFO : PROGRESS: at example #0, processed 0 words (0/s), 0 word types, 0 tags\n",
      "2017-03-08 17:27:55,395 : INFO : collected 747 word types and 200 unique tags from a corpus of 200 examples and 2160 words\n",
      "2017-03-08 17:27:55,397 : INFO : Loading a fresh vocabulary\n",
      "2017-03-08 17:27:55,407 : INFO : min_count=1 retains 747 unique words (100% of original 747, drops 0)\n",
      "2017-03-08 17:27:55,409 : INFO : min_count=1 leaves 2160 word corpus (100% of original 2160, drops 0)\n",
      "2017-03-08 17:27:55,419 : INFO : deleting the raw counts dictionary of 747 items\n",
      "2017-03-08 17:27:55,423 : INFO : sample=1e-05 downsamples 747 most-common words\n",
      "2017-03-08 17:27:55,425 : INFO : downsampling leaves estimated 171 word corpus (7.9% of prior 2160)\n",
      "2017-03-08 17:27:55,426 : INFO : estimated required memory for 747 words and 300 dimensions: 2446300 bytes\n",
      "2017-03-08 17:27:55,435 : INFO : resetting layer weights\n",
      "2017-03-08 17:27:55,481 : INFO : training model with 4 workers on 747 vocabulary and 300 features, using sg=1 hs=0 sample=1e-05 negative=5 window=5\n",
      "2017-03-08 17:27:55,483 : INFO : expecting 200 sentences, matching count from corpus used for vocabulary survey\n"
     ]
    },
    {
     "name": "stdout",
     "output_type": "stream",
     "text": [
      "Starting first run of 2 runs\n"
     ]
    },
    {
     "name": "stderr",
     "output_type": "stream",
     "text": [
      "2017-03-08 17:27:56,495 : INFO : PROGRESS: at 27.77% examples, 15465 words/s, in_qsize 7, out_qsize 0\n",
      "2017-03-08 17:27:57,508 : INFO : PROGRESS: at 74.03% examples, 20476 words/s, in_qsize 8, out_qsize 0\n",
      "2017-03-08 17:27:57,964 : INFO : worker thread finished; awaiting finish of 3 more threads\n",
      "2017-03-08 17:27:58,038 : INFO : worker thread finished; awaiting finish of 2 more threads\n",
      "2017-03-08 17:27:58,069 : INFO : worker thread finished; awaiting finish of 1 more threads\n",
      "2017-03-08 17:27:58,078 : INFO : worker thread finished; awaiting finish of 0 more threads\n",
      "2017-03-08 17:27:58,080 : INFO : training on 324000 raw words (55784 effective words) took 2.6s, 21563 effective words/s\n",
      "2017-03-08 17:27:58,082 : WARNING : under 10 jobs per worker: consider setting a smaller `batch_words' for smoother alpha decay\n",
      "2017-03-08 17:27:58,106 : INFO : collecting all words and their counts\n",
      "2017-03-08 17:27:58,107 : INFO : PROGRESS: at example #0, processed 0 words (0/s), 0 word types, 0 tags\n",
      "2017-03-08 17:27:58,114 : INFO : collected 747 word types and 200 unique tags from a corpus of 200 examples and 2160 words\n",
      "2017-03-08 17:27:58,116 : INFO : Loading a fresh vocabulary\n",
      "2017-03-08 17:27:58,120 : INFO : min_count=5 retains 63 unique words (8% of original 747, drops 684)\n",
      "2017-03-08 17:27:58,122 : INFO : min_count=5 leaves 1136 word corpus (52% of original 2160, drops 1024)\n",
      "2017-03-08 17:27:58,125 : INFO : deleting the raw counts dictionary of 747 items\n",
      "2017-03-08 17:27:58,128 : INFO : sample=1e-05 downsamples 63 most-common words\n",
      "2017-03-08 17:27:58,130 : INFO : downsampling leaves estimated 26 word corpus (2.3% of prior 1136)\n",
      "2017-03-08 17:27:58,132 : INFO : estimated required memory for 63 words and 300 dimensions: 462700 bytes\n",
      "2017-03-08 17:27:58,134 : INFO : resetting layer weights\n",
      "2017-03-08 17:27:58,150 : INFO : training model with 4 workers on 63 vocabulary and 300 features, using sg=1 hs=0 sample=1e-05 negative=5 window=5\n",
      "2017-03-08 17:27:58,152 : INFO : expecting 200 sentences, matching count from corpus used for vocabulary survey\n"
     ]
    },
    {
     "name": "stdout",
     "output_type": "stream",
     "text": [
      "\n",
      "Completed run number 1 of 2 runs total\n",
      "AUC score: 0.3137\n",
      "Training for this run took 0.0 minutes\n"
     ]
    },
    {
     "name": "stderr",
     "output_type": "stream",
     "text": [
      "2017-03-08 17:27:59,193 : INFO : PROGRESS: at 43.18% examples, 14262 words/s, in_qsize 7, out_qsize 0\n",
      "2017-03-08 17:28:00,203 : INFO : PROGRESS: at 92.52% examples, 15417 words/s, in_qsize 3, out_qsize 1\n",
      "2017-03-08 17:28:00,204 : INFO : worker thread finished; awaiting finish of 3 more threads\n",
      "2017-03-08 17:28:00,259 : INFO : worker thread finished; awaiting finish of 2 more threads\n",
      "2017-03-08 17:28:00,291 : INFO : worker thread finished; awaiting finish of 1 more threads\n",
      "2017-03-08 17:28:00,292 : INFO : worker thread finished; awaiting finish of 0 more threads\n",
      "2017-03-08 17:28:00,293 : INFO : training on 324000 raw words (33999 effective words) took 2.1s, 15956 effective words/s\n",
      "2017-03-08 17:28:00,295 : WARNING : under 10 jobs per worker: consider setting a smaller `batch_words' for smoother alpha decay\n"
     ]
    },
    {
     "name": "stdout",
     "output_type": "stream",
     "text": [
      "\n",
      "Completed run number 2 of 2 runs total\n",
      "AUC score: 0.4717\n",
      "Training for this run took 0.0 minutes\n",
      "\n",
      "\n",
      "Total training time for all runs: 0.0 hours\n",
      "Best AUC value: 0.471667\n",
      "Paramters for best AUC value: {'dm': 0, 'hs': 0, 'sample': 1e-05, 'dbow_words': 1, 'alpha': 0.025, 'min_count': 5, 'size': 300, 'workers': 4, 'negative': 5, 'iter': 150, 'window': 5, 'min_alpha': 0.0001}\n"
     ]
    }
   ],
   "source": [
    "# create list to score ROC AUC scores and their model parameters\n",
    "params_and_errors = []\n",
    "\n",
    "print \"Starting first run of\", len(parameters), \"runs\"\n",
    "total_time = 0\n",
    "for run_number, pars in enumerate(parameters): \n",
    "    params = {'dm':pars[0], 'size':pars[1], 'window':pars[2], \n",
    "              'alpha':pars[3], 'min_alpha':pars[4], 'min_count':pars[5],\n",
    "              'sample':pars[6], 'workers':pars[7], 'hs':pars[8],\n",
    "              'negative':pars[9], 'dbow_words':pars[10], 'iter':pars[11]}\n",
    "    with qu.elapsed_timer() as elapsed:\n",
    "        model = gensim.models.doc2vec.Doc2Vec(documents=all_docs, **params)\n",
    "        AUC_value = qu.calculate_AUC(model, doc_names_and_duplicate_class)\n",
    "        duration = '%.1f' % elapsed()\n",
    "        # save time to complete computation\n",
    "        m, s = divmod(float(duration), 60)\n",
    "        h, m = divmod(m, 60)\n",
    "        time_string = \"%dh %02dm %02ds\" % (h, m, s)\n",
    "        params_and_errors.append((params, AUC_value, time_string))\n",
    "        total_time += float(duration)\n",
    "        print \n",
    "        print \"Completed run number\", run_number + 1, \"of\", len(parameters), \"runs total\"\n",
    "        print \"AUC score:\", round(AUC_value, 4)\n",
    "        print \"Training for this run took\", round(float(duration)/60.,1), \"minutes\"\n",
    "\n",
    "best_AUC = max([x[1] for x in params_and_errors])\n",
    "print\n",
    "print\n",
    "print \"Total training time for all runs:\", round(float(total_time)/3600.,2), \"hours\"\n",
    "print \"Best AUC value:\", round(best_AUC, 6)\n",
    "print \"Paramters for best AUC value:\", [x[0] for x in params_and_errors if x[1] == best_AUC][0]\n",
    "\n",
    "# convert params and errors into easy-to-read pandas dataframe\n",
    "params_df = pd.DataFrame([x[0] for x in params_and_errors])\n",
    "params_df[\"AUC\"] = pd.Series([x[1] for x in params_and_errors])\n",
    "params_df[\"num_doc_pairs\"] = pd.Series([len(all_docs) for _ in range(len(params_and_errors))])\n",
    "params_df[\"compute_time\"] = pd.Series([x[2] for x in params_and_errors])\n",
    "params_df.sort_values(\"AUC\", ascending=False, inplace=True)\n",
    "\n",
    "# write parameter values to csv - append if this csv already exists\n",
    "header=True\n",
    "if os.path.isfile(parameters_and_errors_name):\n",
    "    header=False\n",
    "params_df.to_csv(parameters_and_errors_name, header=header, index=False, mode=\"a\")"
   ]
  },
  {
   "cell_type": "markdown",
   "metadata": {},
   "source": [
    "## Examine parameters and AUC scores from run\n",
    "\n",
    "The parameter combinations and their ROC AUC scores are stored in a dataframe.\n",
    "\n",
    "\"\"\" PARAMETER TIPS: \n",
    "\n",
    "sample: CRITICAL: 1e-6 terrible, 5e-6 and 1e-5 better - try 5e-5 \n",
    "\n",
    "min_count: 1 works well with small data set\n",
    "\n",
    "window: 5 and 15 both worked reasonably well\n",
    "\n",
    "size: 300 works well\n",
    "\n",
    "iter: 150 seems ok, try more - sentence similarity in paper used ~400 to converge\n",
    "\n",
    "\"\"\""
   ]
  },
  {
   "cell_type": "code",
   "execution_count": 32,
   "metadata": {
    "collapsed": false
   },
   "outputs": [
    {
     "data": {
      "text/html": [
       "<div>\n",
       "<table border=\"1\" class=\"dataframe\">\n",
       "  <thead>\n",
       "    <tr style=\"text-align: right;\">\n",
       "      <th></th>\n",
       "      <th>alpha</th>\n",
       "      <th>dbow_words</th>\n",
       "      <th>dm</th>\n",
       "      <th>hs</th>\n",
       "      <th>iter</th>\n",
       "      <th>min_alpha</th>\n",
       "      <th>min_count</th>\n",
       "      <th>negative</th>\n",
       "      <th>sample</th>\n",
       "      <th>size</th>\n",
       "      <th>window</th>\n",
       "      <th>workers</th>\n",
       "      <th>AUC</th>\n",
       "      <th>num_doc_pairs</th>\n",
       "      <th>compute_time</th>\n",
       "    </tr>\n",
       "  </thead>\n",
       "  <tbody>\n",
       "    <tr>\n",
       "      <th>1</th>\n",
       "      <td>0.025</td>\n",
       "      <td>1</td>\n",
       "      <td>0</td>\n",
       "      <td>0</td>\n",
       "      <td>150</td>\n",
       "      <td>0.0001</td>\n",
       "      <td>5</td>\n",
       "      <td>5</td>\n",
       "      <td>0.00001</td>\n",
       "      <td>300</td>\n",
       "      <td>5</td>\n",
       "      <td>4</td>\n",
       "      <td>0.471667</td>\n",
       "      <td>200</td>\n",
       "      <td>0h 00m 02s</td>\n",
       "    </tr>\n",
       "    <tr>\n",
       "      <th>0</th>\n",
       "      <td>0.025</td>\n",
       "      <td>1</td>\n",
       "      <td>0</td>\n",
       "      <td>0</td>\n",
       "      <td>150</td>\n",
       "      <td>0.0001</td>\n",
       "      <td>1</td>\n",
       "      <td>5</td>\n",
       "      <td>0.00001</td>\n",
       "      <td>300</td>\n",
       "      <td>5</td>\n",
       "      <td>4</td>\n",
       "      <td>0.313750</td>\n",
       "      <td>200</td>\n",
       "      <td>0h 00m 02s</td>\n",
       "    </tr>\n",
       "  </tbody>\n",
       "</table>\n",
       "</div>"
      ],
      "text/plain": [
       "   alpha  dbow_words  dm  hs  iter  min_alpha  min_count  negative   sample  \\\n",
       "1  0.025           1   0   0   150     0.0001          5         5  0.00001   \n",
       "0  0.025           1   0   0   150     0.0001          1         5  0.00001   \n",
       "\n",
       "   size  window  workers       AUC  num_doc_pairs compute_time  \n",
       "1   300       5        4  0.471667            200   0h 00m 02s  \n",
       "0   300       5        4  0.313750            200   0h 00m 02s  "
      ]
     },
     "execution_count": 32,
     "metadata": {},
     "output_type": "execute_result"
    }
   ],
   "source": [
    "params_df"
   ]
  },
  {
   "cell_type": "markdown",
   "metadata": {},
   "source": [
    "Show only the columns of the parameter dataframe that have elements that change."
   ]
  },
  {
   "cell_type": "code",
   "execution_count": 33,
   "metadata": {
    "collapsed": false
   },
   "outputs": [
    {
     "data": {
      "text/html": [
       "<div>\n",
       "<table border=\"1\" class=\"dataframe\">\n",
       "  <thead>\n",
       "    <tr style=\"text-align: right;\">\n",
       "      <th></th>\n",
       "      <th>min_count</th>\n",
       "      <th>AUC</th>\n",
       "    </tr>\n",
       "  </thead>\n",
       "  <tbody>\n",
       "    <tr>\n",
       "      <th>1</th>\n",
       "      <td>5</td>\n",
       "      <td>0.471667</td>\n",
       "    </tr>\n",
       "    <tr>\n",
       "      <th>0</th>\n",
       "      <td>1</td>\n",
       "      <td>0.313750</td>\n",
       "    </tr>\n",
       "  </tbody>\n",
       "</table>\n",
       "</div>"
      ],
      "text/plain": [
       "   min_count       AUC\n",
       "1          5  0.471667\n",
       "0          1  0.313750"
      ]
     },
     "execution_count": 33,
     "metadata": {},
     "output_type": "execute_result"
    }
   ],
   "source": [
    "params_df.loc[:, (params_df != params_df.ix[0]).any()]"
   ]
  },
  {
   "cell_type": "markdown",
   "metadata": {},
   "source": [
    "## Examine parameters and AUC scores from run\n",
    "\n",
    "Parameters combinations and ROC AUC scores from previous runs are stored in the file parameters_and_errors_name. \n",
    "\n",
    "This file also stores the sample size of the run (i.e. the number of question pairs), since often smart to experiment with smaller sizes to get a feel for parameters before doing larger runs, as well as the time to compute that run."
   ]
  },
  {
   "cell_type": "code",
   "execution_count": 34,
   "metadata": {
    "collapsed": true
   },
   "outputs": [],
   "source": [
    "# read in paramater file to see what has been done before\n",
    "all_params_df = pd.read_csv(parameters_and_errors_name)\n",
    "all_params_df.sort_values(\"AUC\", ascending=False, inplace=True)\n",
    "# drop duplicate rows (not including AUC scores, which might vary slightly due to randomness)\n",
    "dup_columns = [u'alpha', u'dbow_words', u'dm', u'hs', u'iter', u'min_alpha',\n",
    "       u'min_count', u'negative', u'sample', u'size', u'window', u'workers',\n",
    "       u'num_doc_pairs']\n",
    "all_params_df.drop_duplicates(subset=dup_columns,inplace=True)"
   ]
  },
  {
   "cell_type": "code",
   "execution_count": 35,
   "metadata": {
    "collapsed": false
   },
   "outputs": [
    {
     "data": {
      "text/html": [
       "<div>\n",
       "<table border=\"1\" class=\"dataframe\">\n",
       "  <thead>\n",
       "    <tr style=\"text-align: right;\">\n",
       "      <th></th>\n",
       "      <th>alpha</th>\n",
       "      <th>dbow_words</th>\n",
       "      <th>dm</th>\n",
       "      <th>hs</th>\n",
       "      <th>iter</th>\n",
       "      <th>min_alpha</th>\n",
       "      <th>min_count</th>\n",
       "      <th>negative</th>\n",
       "      <th>sample</th>\n",
       "      <th>size</th>\n",
       "      <th>window</th>\n",
       "      <th>workers</th>\n",
       "      <th>AUC</th>\n",
       "      <th>num_doc_pairs</th>\n",
       "      <th>compute_time</th>\n",
       "    </tr>\n",
       "  </thead>\n",
       "  <tbody>\n",
       "    <tr>\n",
       "      <th>0</th>\n",
       "      <td>0.025</td>\n",
       "      <td>1</td>\n",
       "      <td>0</td>\n",
       "      <td>0</td>\n",
       "      <td>150</td>\n",
       "      <td>0.0001</td>\n",
       "      <td>1</td>\n",
       "      <td>5</td>\n",
       "      <td>0.00005</td>\n",
       "      <td>300</td>\n",
       "      <td>5</td>\n",
       "      <td>4</td>\n",
       "      <td>0.659777</td>\n",
       "      <td>200</td>\n",
       "      <td>0h 00m 03s</td>\n",
       "    </tr>\n",
       "    <tr>\n",
       "      <th>1</th>\n",
       "      <td>0.025</td>\n",
       "      <td>1</td>\n",
       "      <td>0</td>\n",
       "      <td>0</td>\n",
       "      <td>150</td>\n",
       "      <td>0.0001</td>\n",
       "      <td>1</td>\n",
       "      <td>5</td>\n",
       "      <td>0.00010</td>\n",
       "      <td>300</td>\n",
       "      <td>5</td>\n",
       "      <td>4</td>\n",
       "      <td>0.648615</td>\n",
       "      <td>200</td>\n",
       "      <td>0h 00m 05s</td>\n",
       "    </tr>\n",
       "    <tr>\n",
       "      <th>2</th>\n",
       "      <td>0.025</td>\n",
       "      <td>1</td>\n",
       "      <td>0</td>\n",
       "      <td>0</td>\n",
       "      <td>150</td>\n",
       "      <td>0.0001</td>\n",
       "      <td>1</td>\n",
       "      <td>5</td>\n",
       "      <td>0.00005</td>\n",
       "      <td>300</td>\n",
       "      <td>15</td>\n",
       "      <td>4</td>\n",
       "      <td>0.640967</td>\n",
       "      <td>200</td>\n",
       "      <td>0h 00m 03s</td>\n",
       "    </tr>\n",
       "    <tr>\n",
       "      <th>3</th>\n",
       "      <td>0.025</td>\n",
       "      <td>1</td>\n",
       "      <td>0</td>\n",
       "      <td>0</td>\n",
       "      <td>150</td>\n",
       "      <td>0.0001</td>\n",
       "      <td>1</td>\n",
       "      <td>5</td>\n",
       "      <td>0.00010</td>\n",
       "      <td>300</td>\n",
       "      <td>15</td>\n",
       "      <td>4</td>\n",
       "      <td>0.618437</td>\n",
       "      <td>200</td>\n",
       "      <td>0h 00m 03s</td>\n",
       "    </tr>\n",
       "    <tr>\n",
       "      <th>4</th>\n",
       "      <td>0.025</td>\n",
       "      <td>1</td>\n",
       "      <td>0</td>\n",
       "      <td>0</td>\n",
       "      <td>150</td>\n",
       "      <td>0.0001</td>\n",
       "      <td>5</td>\n",
       "      <td>5</td>\n",
       "      <td>0.00001</td>\n",
       "      <td>300</td>\n",
       "      <td>5</td>\n",
       "      <td>4</td>\n",
       "      <td>0.526251</td>\n",
       "      <td>200</td>\n",
       "      <td>0h 00m 02s</td>\n",
       "    </tr>\n",
       "    <tr>\n",
       "      <th>5</th>\n",
       "      <td>0.025</td>\n",
       "      <td>1</td>\n",
       "      <td>0</td>\n",
       "      <td>0</td>\n",
       "      <td>150</td>\n",
       "      <td>0.0001</td>\n",
       "      <td>5</td>\n",
       "      <td>5</td>\n",
       "      <td>0.00001</td>\n",
       "      <td>300</td>\n",
       "      <td>15</td>\n",
       "      <td>4</td>\n",
       "      <td>0.517156</td>\n",
       "      <td>200</td>\n",
       "      <td>0h 00m 02s</td>\n",
       "    </tr>\n",
       "    <tr>\n",
       "      <th>6</th>\n",
       "      <td>0.025</td>\n",
       "      <td>1</td>\n",
       "      <td>0</td>\n",
       "      <td>0</td>\n",
       "      <td>150</td>\n",
       "      <td>0.0001</td>\n",
       "      <td>5</td>\n",
       "      <td>5</td>\n",
       "      <td>0.00005</td>\n",
       "      <td>300</td>\n",
       "      <td>15</td>\n",
       "      <td>4</td>\n",
       "      <td>0.407606</td>\n",
       "      <td>200</td>\n",
       "      <td>0h 00m 02s</td>\n",
       "    </tr>\n",
       "    <tr>\n",
       "      <th>7</th>\n",
       "      <td>0.025</td>\n",
       "      <td>1</td>\n",
       "      <td>0</td>\n",
       "      <td>0</td>\n",
       "      <td>150</td>\n",
       "      <td>0.0001</td>\n",
       "      <td>5</td>\n",
       "      <td>5</td>\n",
       "      <td>0.00010</td>\n",
       "      <td>300</td>\n",
       "      <td>5</td>\n",
       "      <td>4</td>\n",
       "      <td>0.399339</td>\n",
       "      <td>200</td>\n",
       "      <td>0h 00m 02s</td>\n",
       "    </tr>\n",
       "    <tr>\n",
       "      <th>8</th>\n",
       "      <td>0.025</td>\n",
       "      <td>1</td>\n",
       "      <td>0</td>\n",
       "      <td>0</td>\n",
       "      <td>150</td>\n",
       "      <td>0.0001</td>\n",
       "      <td>5</td>\n",
       "      <td>5</td>\n",
       "      <td>0.00010</td>\n",
       "      <td>300</td>\n",
       "      <td>15</td>\n",
       "      <td>4</td>\n",
       "      <td>0.399339</td>\n",
       "      <td>200</td>\n",
       "      <td>0h 00m 03s</td>\n",
       "    </tr>\n",
       "    <tr>\n",
       "      <th>9</th>\n",
       "      <td>0.025</td>\n",
       "      <td>1</td>\n",
       "      <td>0</td>\n",
       "      <td>0</td>\n",
       "      <td>150</td>\n",
       "      <td>0.0001</td>\n",
       "      <td>1</td>\n",
       "      <td>5</td>\n",
       "      <td>0.00001</td>\n",
       "      <td>300</td>\n",
       "      <td>15</td>\n",
       "      <td>4</td>\n",
       "      <td>0.399339</td>\n",
       "      <td>200</td>\n",
       "      <td>0h 00m 03s</td>\n",
       "    </tr>\n",
       "    <tr>\n",
       "      <th>10</th>\n",
       "      <td>0.025</td>\n",
       "      <td>1</td>\n",
       "      <td>0</td>\n",
       "      <td>0</td>\n",
       "      <td>150</td>\n",
       "      <td>0.0001</td>\n",
       "      <td>5</td>\n",
       "      <td>5</td>\n",
       "      <td>0.00005</td>\n",
       "      <td>300</td>\n",
       "      <td>5</td>\n",
       "      <td>4</td>\n",
       "      <td>0.396031</td>\n",
       "      <td>200</td>\n",
       "      <td>0h 00m 02s</td>\n",
       "    </tr>\n",
       "    <tr>\n",
       "      <th>11</th>\n",
       "      <td>0.025</td>\n",
       "      <td>1</td>\n",
       "      <td>0</td>\n",
       "      <td>0</td>\n",
       "      <td>150</td>\n",
       "      <td>0.0001</td>\n",
       "      <td>1</td>\n",
       "      <td>5</td>\n",
       "      <td>0.00001</td>\n",
       "      <td>300</td>\n",
       "      <td>5</td>\n",
       "      <td>4</td>\n",
       "      <td>0.371228</td>\n",
       "      <td>200</td>\n",
       "      <td>0h 00m 03s</td>\n",
       "    </tr>\n",
       "  </tbody>\n",
       "</table>\n",
       "</div>"
      ],
      "text/plain": [
       "    alpha  dbow_words  dm  hs  iter  min_alpha  min_count  negative   sample  \\\n",
       "0   0.025           1   0   0   150     0.0001          1         5  0.00005   \n",
       "1   0.025           1   0   0   150     0.0001          1         5  0.00010   \n",
       "2   0.025           1   0   0   150     0.0001          1         5  0.00005   \n",
       "3   0.025           1   0   0   150     0.0001          1         5  0.00010   \n",
       "4   0.025           1   0   0   150     0.0001          5         5  0.00001   \n",
       "5   0.025           1   0   0   150     0.0001          5         5  0.00001   \n",
       "6   0.025           1   0   0   150     0.0001          5         5  0.00005   \n",
       "7   0.025           1   0   0   150     0.0001          5         5  0.00010   \n",
       "8   0.025           1   0   0   150     0.0001          5         5  0.00010   \n",
       "9   0.025           1   0   0   150     0.0001          1         5  0.00001   \n",
       "10  0.025           1   0   0   150     0.0001          5         5  0.00005   \n",
       "11  0.025           1   0   0   150     0.0001          1         5  0.00001   \n",
       "\n",
       "    size  window  workers       AUC  num_doc_pairs compute_time  \n",
       "0    300       5        4  0.659777            200   0h 00m 03s  \n",
       "1    300       5        4  0.648615            200   0h 00m 05s  \n",
       "2    300      15        4  0.640967            200   0h 00m 03s  \n",
       "3    300      15        4  0.618437            200   0h 00m 03s  \n",
       "4    300       5        4  0.526251            200   0h 00m 02s  \n",
       "5    300      15        4  0.517156            200   0h 00m 02s  \n",
       "6    300      15        4  0.407606            200   0h 00m 02s  \n",
       "7    300       5        4  0.399339            200   0h 00m 02s  \n",
       "8    300      15        4  0.399339            200   0h 00m 03s  \n",
       "9    300      15        4  0.399339            200   0h 00m 03s  \n",
       "10   300       5        4  0.396031            200   0h 00m 02s  \n",
       "11   300       5        4  0.371228            200   0h 00m 03s  "
      ]
     },
     "execution_count": 35,
     "metadata": {},
     "output_type": "execute_result"
    }
   ],
   "source": [
    "all_params_df"
   ]
  },
  {
   "cell_type": "markdown",
   "metadata": {},
   "source": [
    "## Choose specific doc2vec model and threshold to maximize accuracy \n",
    "\n",
    "In cells above we were just using doc2vec cosine similarity for our model, i.e. scores closer to 1 implied documents that were more similar. In this simple model that ROC AUC score gives a good sense of overall model, but for practical use a specific cosine similarity threshold T much be chosen as the cutoff between pairs classified as the same and pairs classified as different.\n",
    "\n",
    "The cells below implement threshold selection using overall accuracy of the model as the metric to maximize. Other choices for metric are possible.\n",
    "\n",
    "Furthermore, a better model can be have by using a classifier that relies on more than just the cosine similarity alone. An example is given in a notebook neighboring this one, where a neural network is used to classify the documents as duplicates or not (using the doc2vec vectors as input to the network). "
   ]
  },
  {
   "cell_type": "markdown",
   "metadata": {},
   "source": [
    "First, create doc2vec model with desired hyperparameters: "
   ]
  },
  {
   "cell_type": "code",
   "execution_count": 13,
   "metadata": {
    "collapsed": true
   },
   "outputs": [
    {
     "ename": "KeyboardInterrupt",
     "evalue": "",
     "output_type": "error",
     "traceback": [
      "\u001b[1;31m---------------------------------------------------------------------------\u001b[0m",
      "\u001b[1;31mKeyboardInterrupt\u001b[0m                         Traceback (most recent call last)",
      "\u001b[1;32m<ipython-input-13-79418f0699fa>\u001b[0m in \u001b[0;36m<module>\u001b[1;34m()\u001b[0m\n\u001b[0;32m      4\u001b[0m               'negative':5, 'dbow_words':1, 'iter':100}\n\u001b[0;32m      5\u001b[0m \u001b[1;32mwith\u001b[0m \u001b[0mqu\u001b[0m\u001b[1;33m.\u001b[0m\u001b[0melapsed_timer\u001b[0m\u001b[1;33m(\u001b[0m\u001b[1;33m)\u001b[0m \u001b[1;32mas\u001b[0m \u001b[0melapsed\u001b[0m\u001b[1;33m:\u001b[0m\u001b[1;33m\u001b[0m\u001b[0m\n\u001b[1;32m----> 6\u001b[1;33m     \u001b[0mmodel\u001b[0m \u001b[1;33m=\u001b[0m \u001b[0mgensim\u001b[0m\u001b[1;33m.\u001b[0m\u001b[0mmodels\u001b[0m\u001b[1;33m.\u001b[0m\u001b[0mdoc2vec\u001b[0m\u001b[1;33m.\u001b[0m\u001b[0mDoc2Vec\u001b[0m\u001b[1;33m(\u001b[0m\u001b[0mdocuments\u001b[0m\u001b[1;33m=\u001b[0m\u001b[0mall_docs\u001b[0m\u001b[1;33m,\u001b[0m \u001b[1;33m**\u001b[0m\u001b[0mbest_params\u001b[0m\u001b[1;33m)\u001b[0m\u001b[1;33m\u001b[0m\u001b[0m\n\u001b[0m\u001b[0;32m      7\u001b[0m     \u001b[0mAUC_value\u001b[0m \u001b[1;33m=\u001b[0m \u001b[0mqu\u001b[0m\u001b[1;33m.\u001b[0m\u001b[0mcalculate_AUC\u001b[0m\u001b[1;33m(\u001b[0m\u001b[0mmodel\u001b[0m\u001b[1;33m,\u001b[0m \u001b[0mdoc_names_and_duplicate_class\u001b[0m\u001b[1;33m)\u001b[0m\u001b[1;33m\u001b[0m\u001b[0m\n\u001b[0;32m      8\u001b[0m     \u001b[0mduration\u001b[0m \u001b[1;33m=\u001b[0m \u001b[1;34m'%.1f'\u001b[0m \u001b[1;33m%\u001b[0m \u001b[0melapsed\u001b[0m\u001b[1;33m(\u001b[0m\u001b[1;33m)\u001b[0m\u001b[1;33m\u001b[0m\u001b[0m\n",
      "\u001b[1;32m/home/daniel/anaconda2/lib/python2.7/site-packages/gensim/models/doc2vec.pyc\u001b[0m in \u001b[0;36m__init__\u001b[1;34m(self, documents, dm_mean, dm, dbow_words, dm_concat, dm_tag_count, docvecs, docvecs_mapfile, comment, trim_rule, **kwargs)\u001b[0m\n\u001b[0;32m    623\u001b[0m         \u001b[1;32mif\u001b[0m \u001b[0mdocuments\u001b[0m \u001b[1;32mis\u001b[0m \u001b[1;32mnot\u001b[0m \u001b[0mNone\u001b[0m\u001b[1;33m:\u001b[0m\u001b[1;33m\u001b[0m\u001b[0m\n\u001b[0;32m    624\u001b[0m             \u001b[0mself\u001b[0m\u001b[1;33m.\u001b[0m\u001b[0mbuild_vocab\u001b[0m\u001b[1;33m(\u001b[0m\u001b[0mdocuments\u001b[0m\u001b[1;33m,\u001b[0m \u001b[0mtrim_rule\u001b[0m\u001b[1;33m=\u001b[0m\u001b[0mtrim_rule\u001b[0m\u001b[1;33m)\u001b[0m\u001b[1;33m\u001b[0m\u001b[0m\n\u001b[1;32m--> 625\u001b[1;33m             \u001b[0mself\u001b[0m\u001b[1;33m.\u001b[0m\u001b[0mtrain\u001b[0m\u001b[1;33m(\u001b[0m\u001b[0mdocuments\u001b[0m\u001b[1;33m)\u001b[0m\u001b[1;33m\u001b[0m\u001b[0m\n\u001b[0m\u001b[0;32m    626\u001b[0m \u001b[1;33m\u001b[0m\u001b[0m\n\u001b[0;32m    627\u001b[0m     \u001b[1;33m@\u001b[0m\u001b[0mproperty\u001b[0m\u001b[1;33m\u001b[0m\u001b[0m\n",
      "\u001b[1;32m/home/daniel/anaconda2/lib/python2.7/site-packages/gensim/models/word2vec.pyc\u001b[0m in \u001b[0;36mtrain\u001b[1;34m(self, sentences, total_words, word_count, total_examples, queue_factor, report_delay)\u001b[0m\n\u001b[0;32m    886\u001b[0m \u001b[1;33m\u001b[0m\u001b[0m\n\u001b[0;32m    887\u001b[0m         \u001b[1;32mwhile\u001b[0m \u001b[0munfinished_worker_count\u001b[0m \u001b[1;33m>\u001b[0m \u001b[1;36m0\u001b[0m\u001b[1;33m:\u001b[0m\u001b[1;33m\u001b[0m\u001b[0m\n\u001b[1;32m--> 888\u001b[1;33m             \u001b[0mreport\u001b[0m \u001b[1;33m=\u001b[0m \u001b[0mprogress_queue\u001b[0m\u001b[1;33m.\u001b[0m\u001b[0mget\u001b[0m\u001b[1;33m(\u001b[0m\u001b[1;33m)\u001b[0m  \u001b[1;31m# blocks if workers too slow\u001b[0m\u001b[1;33m\u001b[0m\u001b[0m\n\u001b[0m\u001b[0;32m    889\u001b[0m             \u001b[1;32mif\u001b[0m \u001b[0mreport\u001b[0m \u001b[1;32mis\u001b[0m \u001b[0mNone\u001b[0m\u001b[1;33m:\u001b[0m  \u001b[1;31m# a thread reporting that it finished\u001b[0m\u001b[1;33m\u001b[0m\u001b[0m\n\u001b[0;32m    890\u001b[0m                 \u001b[0munfinished_worker_count\u001b[0m \u001b[1;33m-=\u001b[0m \u001b[1;36m1\u001b[0m\u001b[1;33m\u001b[0m\u001b[0m\n",
      "\u001b[1;32m/home/daniel/anaconda2/lib/python2.7/Queue.pyc\u001b[0m in \u001b[0;36mget\u001b[1;34m(self, block, timeout)\u001b[0m\n\u001b[0;32m    166\u001b[0m             \u001b[1;32melif\u001b[0m \u001b[0mtimeout\u001b[0m \u001b[1;32mis\u001b[0m \u001b[0mNone\u001b[0m\u001b[1;33m:\u001b[0m\u001b[1;33m\u001b[0m\u001b[0m\n\u001b[0;32m    167\u001b[0m                 \u001b[1;32mwhile\u001b[0m \u001b[1;32mnot\u001b[0m \u001b[0mself\u001b[0m\u001b[1;33m.\u001b[0m\u001b[0m_qsize\u001b[0m\u001b[1;33m(\u001b[0m\u001b[1;33m)\u001b[0m\u001b[1;33m:\u001b[0m\u001b[1;33m\u001b[0m\u001b[0m\n\u001b[1;32m--> 168\u001b[1;33m                     \u001b[0mself\u001b[0m\u001b[1;33m.\u001b[0m\u001b[0mnot_empty\u001b[0m\u001b[1;33m.\u001b[0m\u001b[0mwait\u001b[0m\u001b[1;33m(\u001b[0m\u001b[1;33m)\u001b[0m\u001b[1;33m\u001b[0m\u001b[0m\n\u001b[0m\u001b[0;32m    169\u001b[0m             \u001b[1;32melif\u001b[0m \u001b[0mtimeout\u001b[0m \u001b[1;33m<\u001b[0m \u001b[1;36m0\u001b[0m\u001b[1;33m:\u001b[0m\u001b[1;33m\u001b[0m\u001b[0m\n\u001b[0;32m    170\u001b[0m                 \u001b[1;32mraise\u001b[0m \u001b[0mValueError\u001b[0m\u001b[1;33m(\u001b[0m\u001b[1;34m\"'timeout' must be a non-negative number\"\u001b[0m\u001b[1;33m)\u001b[0m\u001b[1;33m\u001b[0m\u001b[0m\n",
      "\u001b[1;32m/home/daniel/anaconda2/lib/python2.7/threading.pyc\u001b[0m in \u001b[0;36mwait\u001b[1;34m(self, timeout)\u001b[0m\n\u001b[0;32m    338\u001b[0m         \u001b[1;32mtry\u001b[0m\u001b[1;33m:\u001b[0m    \u001b[1;31m# restore state no matter what (e.g., KeyboardInterrupt)\u001b[0m\u001b[1;33m\u001b[0m\u001b[0m\n\u001b[0;32m    339\u001b[0m             \u001b[1;32mif\u001b[0m \u001b[0mtimeout\u001b[0m \u001b[1;32mis\u001b[0m \u001b[0mNone\u001b[0m\u001b[1;33m:\u001b[0m\u001b[1;33m\u001b[0m\u001b[0m\n\u001b[1;32m--> 340\u001b[1;33m                 \u001b[0mwaiter\u001b[0m\u001b[1;33m.\u001b[0m\u001b[0macquire\u001b[0m\u001b[1;33m(\u001b[0m\u001b[1;33m)\u001b[0m\u001b[1;33m\u001b[0m\u001b[0m\n\u001b[0m\u001b[0;32m    341\u001b[0m                 \u001b[1;32mif\u001b[0m \u001b[0m__debug__\u001b[0m\u001b[1;33m:\u001b[0m\u001b[1;33m\u001b[0m\u001b[0m\n\u001b[0;32m    342\u001b[0m                     \u001b[0mself\u001b[0m\u001b[1;33m.\u001b[0m\u001b[0m_note\u001b[0m\u001b[1;33m(\u001b[0m\u001b[1;34m\"%s.wait(): got it\"\u001b[0m\u001b[1;33m,\u001b[0m \u001b[0mself\u001b[0m\u001b[1;33m)\u001b[0m\u001b[1;33m\u001b[0m\u001b[0m\n",
      "\u001b[1;31mKeyboardInterrupt\u001b[0m: "
     ]
    }
   ],
   "source": [
    "best_params = {'dm':0, 'size':300, 'window':5, \n",
    "              'alpha':.025, 'min_alpha':.0001, 'min_count':1,\n",
    "              'sample':5e-5, 'workers':cores, 'hs':0,\n",
    "              'negative':5, 'dbow_words':1, 'iter':100}\n",
    "with qu.elapsed_timer() as elapsed:\n",
    "    model = gensim.models.doc2vec.Doc2Vec(documents=all_docs, **best_params)\n",
    "    AUC_value = qu.calculate_AUC(model, doc_names_and_duplicate_class)\n",
    "    duration = '%.1f' % elapsed()\n",
    "    print \"AUC score:\", round(AUC_value, 4)\n",
    "    print \"Training for this run took\", round(float(duration)/60.,1), \"minutes\"  "
   ]
  },
  {
   "cell_type": "markdown",
   "metadata": {},
   "source": [
    "Now find the best threshold to use when our goal is to maximize model accuracy (remember that the simple model \n",
    "we're using is simply the cosine similarity between the two question vectors as a prediction for how similar they are).\n",
    "\n",
    "The functions finding optimal threshold are implemented in embarrassingly-looped fashion, so they are by no means efficient - it takes about 15 minutes on 1.8 GHz Intel Core i5 with 4 GB memory to find optimal threshold for 50,000 question pairs in quora data set."
   ]
  },
  {
   "cell_type": "code",
   "execution_count": 40,
   "metadata": {
    "collapsed": false
   },
   "outputs": [
    {
     "name": "stdout",
     "output_type": "stream",
     "text": [
      "Best accuracy: 0.59\n",
      "Precision: 0.0\n",
      "Recall: 0.0\n",
      "F1-score: 0.0\n"
     ]
    }
   ],
   "source": [
    "y_target, y_pred = qu.get_model_distances_and_scores(model, doc_names_and_duplicate_class)\n",
    "qu.report_accuracy_prec_recall_F1(y_target, y_pred)"
   ]
  },
  {
   "cell_type": "markdown",
   "metadata": {},
   "source": [
    "# Use Keras to train model based on document vectors\n",
    "\n",
    "Training will be done on doc2vec vectors trained on data, word2vec averages training on data, and word2vec averages trained on Google corpus. All will use same neural network architecture to compare which questions vectors capture question differences the best."
   ]
  },
  {
   "cell_type": "markdown",
   "metadata": {},
   "source": [
    "## Create doc2vec vectors trained on question data alone"
   ]
  },
  {
   "cell_type": "markdown",
   "metadata": {},
   "source": [
    "### Train doc2vec model"
   ]
  },
  {
   "cell_type": "code",
   "execution_count": 14,
   "metadata": {
    "collapsed": false,
    "scrolled": true
   },
   "outputs": [
    {
     "name": "stdout",
     "output_type": "stream",
     "text": [
      "AUC score: 0.748\n",
      "Training for this run took 10.2 minutes\n"
     ]
    }
   ],
   "source": [
    "best_params = {'dm':0, 'size':300, 'window':5, \n",
    "              'alpha':.025, 'min_alpha':.0001, 'min_count':1,\n",
    "              'sample':5e-5, 'workers':cores, 'hs':0,\n",
    "              'negative':5, 'dbow_words':1, 'iter':100}\n",
    "with qu.elapsed_timer() as elapsed:\n",
    "    model = gensim.models.doc2vec.Doc2Vec(documents=all_docs, **best_params)\n",
    "    AUC_value = qu.calculate_AUC(model, doc_names_and_duplicate_class)\n",
    "    duration = '%.1f' % elapsed()\n",
    "    print \"AUC score:\", round(AUC_value, 4)\n",
    "    print \"Training for this run took\", round(float(duration)/60.,1), \"minutes\"  "
   ]
  },
  {
   "cell_type": "markdown",
   "metadata": {},
   "source": [
    "### Extract document vectors from model"
   ]
  },
  {
   "cell_type": "code",
   "execution_count": 15,
   "metadata": {
    "collapsed": true
   },
   "outputs": [],
   "source": [
    "# in case you want to keep question vectors stored in dataframe containing \n",
    "# all the original data, can load in data currently being used and add document vectors to it if desired\n",
    "current_data = pd.read_csv(complete_data_dataframe, nrows=num_question_pairs)"
   ]
  },
  {
   "cell_type": "code",
   "execution_count": 95,
   "metadata": {
    "collapsed": false
   },
   "outputs": [
    {
     "name": "stdout",
     "output_type": "stream",
     "text": [
      "Document vectors added to current_data dataframe\n"
     ]
    }
   ],
   "source": [
    "# add numpy doc2vec representation for each question (2 questions per row)\n",
    "# the documents in doc_names_and_duplicate_class are in same order as documents in current_data dataframe\n",
    "# (and current_data is read from complete_data_dataframe csv file)\n",
    "q1_vecs = []\n",
    "q2_vecs = []\n",
    "is_dup = []\n",
    "\n",
    "for i in range(len(doc_names_and_duplicate_class)):\n",
    "    # get word vectors for each question and add to current_data dataframe\n",
    "    vec1_name = doc_names_and_duplicate_class[i][0]\n",
    "    vec2_name = doc_names_and_duplicate_class[i][1]\n",
    "    vec1 = model.docvecs[vec1_name]         \n",
    "    vec2 = model.docvecs[vec2_name] \n",
    "    q1_vecs.append(vec1)\n",
    "    q2_vecs.append(vec2)\n",
    "    is_dup.append(doc_names_and_duplicate_class[i][2])\n",
    "\n",
    "# sanity check that ensures document vectors match their text in dataframe - compare the duplicate \n",
    "# tags between current_data and doc_names_and_duplicate_class\n",
    "\n",
    "for i in range(len(doc_names_and_duplicate_class)):\n",
    "    assert doc_names_and_duplicate_class[i][2] == current_data[\"duplicate\"][i], \"Error in aligning document \\\n",
    "                                                                              vectors with their text at index %d\" % i\n",
    "\n",
    "current_data[\"q1_vecs\"] = pd.Series(q1_vecs)\n",
    "current_data[\"q2_vecs\"] = pd.Series(q2_vecs)\n",
    "print \"Document vectors added to current_data dataframe\""
   ]
  },
  {
   "cell_type": "markdown",
   "metadata": {},
   "source": [
    "### Create numpy arrays for training"
   ]
  },
  {
   "cell_type": "code",
   "execution_count": 96,
   "metadata": {
    "collapsed": false
   },
   "outputs": [],
   "source": [
    "import numpy as np\n",
    "\n",
    "# create X_1, X_2 and y\n",
    "# X_1 is numpy array of q1 vectors\n",
    "# X_2 is numpy array of q2 vectors\n",
    "# y is array of target values\n",
    "\n",
    "# we will just use the already existing q1_vecs and q2_vecs lists\n",
    "X_1_d2v = np.array(q1_vecs)\n",
    "X_2_d2v = np.array(q2_vecs)\n",
    "\n",
    "from keras.utils import np_utils\n",
    "num_classes = 2\n",
    "\n",
    "y_d2v = np_utils.to_categorical(np.array(is_dup), num_classes)"
   ]
  },
  {
   "cell_type": "markdown",
   "metadata": {},
   "source": [
    "## Create word2vec vectors trained on question data alone\n",
    "\n",
    "The word2vec model is trained using a similar iteration technique at doc2vec - we'll read the cleaned questions files line-by-line from the questions_folder_name directory."
   ]
  },
  {
   "cell_type": "markdown",
   "metadata": {},
   "source": [
    "### Create iterators to read through questions to train word2vec model\n",
    "\n",
    "Iterators are good practice as they let us train on huge files that would not fit in memory - gensim is wisely built to handle iterators automatically."
   ]
  },
  {
   "cell_type": "code",
   "execution_count": 97,
   "metadata": {
    "collapsed": true
   },
   "outputs": [],
   "source": [
    "import os\n",
    "\n",
    "# iterates over all files in a directory - the attribute rows tells how many rows of each file will be read\n",
    "class MySentences(object):\n",
    "    def __init__(self, dirname, rows=None):\n",
    "        self.dirname = dirname\n",
    "        self.rows = rows\n",
    " \n",
    "    def __iter__(self):\n",
    "        for filename in os.listdir(self.dirname):\n",
    "            for uid, line in enumerate(open(os.path.join(self.dirname, filename))):\n",
    "                if self.rows: \n",
    "                    if uid >= self.rows:\n",
    "                        break\n",
    "                yield line.split()\n",
    "\n",
    "# class to iterate through single file \n",
    "class OneFileSentences(object): \n",
    "    def __init__(self, filename, rows=None): \n",
    "        self.filename = filename\n",
    "        self.rows = rows\n",
    "    \n",
    "    def __iter__(self): \n",
    "        for uid, line in enumerate(open(self.filename)): \n",
    "            if self.rows: \n",
    "                if uid >= self.rows:\n",
    "                    break\n",
    "            yield line.split()"
   ]
  },
  {
   "cell_type": "markdown",
   "metadata": {},
   "source": [
    "### Create sentence iterator and train word2vec model"
   ]
  },
  {
   "cell_type": "code",
   "execution_count": 19,
   "metadata": {
    "collapsed": true
   },
   "outputs": [],
   "source": [
    "sentences = MySentences(questions_folder_name, rows=num_question_pairs)\n",
    "word2vec_model = gensim.models.Word2Vec(sentences, size=300)"
   ]
  },
  {
   "cell_type": "markdown",
   "metadata": {},
   "source": [
    "### Make numpy array of word vectors and their target values for training\n",
    "\n",
    "This will use helper function make_question_vectors that turns sentences into an average of the word2vec word vectors of their component words."
   ]
  },
  {
   "cell_type": "code",
   "execution_count": 98,
   "metadata": {
    "collapsed": false,
    "scrolled": true
   },
   "outputs": [],
   "source": [
    "import itertools\n",
    "\n",
    "q1_word2vecs = []\n",
    "q2_word2vecs = []\n",
    "is_dup_word2vecs = []\n",
    "\n",
    "q1_iterator = OneFileSentences(questions_folder_name + \"/\" + q1_file_name, rows=num_question_pairs)\n",
    "q2_iterator = OneFileSentences(questions_folder_name + \"/\" + q2_file_name, rows=num_question_pairs)\n",
    "\n",
    "for q1_sentence, q2_sentence in itertools.izip(q1_iterator, q2_iterator):\n",
    "    q1_vec = qu.make_question_vectors(word2vec_model, q1_sentence)\n",
    "    q2_vec = qu.make_question_vectors(word2vec_model, q2_sentence) \n",
    "    q1_word2vecs.append(q1_vec)\n",
    "    q2_word2vecs.append(q2_vec)\n",
    "\n",
    "for i in range(len(doc_names_and_duplicate_class)):\n",
    "    is_dup_word2vecs.append(doc_names_and_duplicate_class[i][2])"
   ]
  },
  {
   "cell_type": "code",
   "execution_count": 99,
   "metadata": {
    "collapsed": true
   },
   "outputs": [],
   "source": [
    "X_1_w2v = np.array(q1_word2vecs)\n",
    "X_2_w2v = np.array(q2_word2vecs)\n",
    "\n",
    "from keras.utils import np_utils\n",
    "num_classes = 2\n",
    "\n",
    "y_w2v = np_utils.to_categorical(np.array(is_dup_word2vecs), num_classes)"
   ]
  },
  {
   "cell_type": "markdown",
   "metadata": {},
   "source": [
    "# Create word2vec vectors trained on Google News \n",
    "\n",
    "Each question then becomes a vector that is average of its constituent word vectors, where word vectors are from the model trained on Google News. Path to saved Google model is google_model_path.\n",
    "\n",
    "The Google model takes about 2 minutes to load into gensim on 2012 Macbook Air."
   ]
  },
  {
   "cell_type": "code",
   "execution_count": 26,
   "metadata": {
    "collapsed": false,
    "scrolled": true
   },
   "outputs": [],
   "source": [
    "Google_word2vec_model = gensim.models.Word2Vec.load_word2vec_format(google_model_path, binary=True)"
   ]
  },
  {
   "cell_type": "markdown",
   "metadata": {},
   "source": [
    "### Make numpy array of word vectors and their target values for training\n",
    "\n",
    "As above, this will use helper function make_question_vectors that turns sentences into an average of the word2vec word vectors of their component words."
   ]
  },
  {
   "cell_type": "code",
   "execution_count": 100,
   "metadata": {
    "collapsed": true
   },
   "outputs": [],
   "source": [
    "import itertools\n",
    "\n",
    "q1_google_word2vecs = []\n",
    "q2_google_word2vecs = []\n",
    "is_dup_google = []\n",
    "\n",
    "q1_iterator = OneFileSentences(questions_folder_name + \"/\" + q1_file_name, rows=num_question_pairs)\n",
    "q2_iterator = OneFileSentences(questions_folder_name + \"/\" + q2_file_name, rows=num_question_pairs)\n",
    "\n",
    "for q1_sentence, q2_sentence in itertools.izip(q1_iterator, q2_iterator):\n",
    "    q1_vec = qu.make_question_vectors(Google_word2vec_model, q1_sentence)\n",
    "    q2_vec = qu.make_question_vectors(Google_word2vec_model, q2_sentence) \n",
    "    q1_google_word2vecs.append(q1_vec)\n",
    "    q2_google_word2vecs.append(q2_vec)\n",
    "    \n",
    "for i in range(len(doc_names_and_duplicate_class)):\n",
    "    is_dup_google.append(doc_names_and_duplicate_class[i][2])"
   ]
  },
  {
   "cell_type": "code",
   "execution_count": 101,
   "metadata": {
    "collapsed": true
   },
   "outputs": [],
   "source": [
    "X_1_G_w2v = np.array(q1_word2vecs)\n",
    "X_2_G_w2v = np.array(q2_word2vecs)\n",
    "\n",
    "from keras.utils import np_utils\n",
    "num_classes = 2\n",
    "\n",
    "y_G_w2v = np_utils.to_categorical(np.array(is_dup_google), num_classes)"
   ]
  },
  {
   "cell_type": "markdown",
   "metadata": {},
   "source": [
    "# Do Keras Training\n",
    "\n",
    "There are three different word vectors models to try - we'll try using each one in the same neural network architecture to see how the different models perform in our particular task."
   ]
  },
  {
   "cell_type": "code",
   "execution_count": 119,
   "metadata": {
    "collapsed": true
   },
   "outputs": [],
   "source": [
    "# set the generic model names X_1, X_2, y to the values from model we want \n",
    "\n",
    "\"\"\"\n",
    "Model matrices: \n",
    "\n",
    "doc2vec on questions alone: \n",
    "\n",
    "X_1 = X_1_d2v\n",
    "X_2 = X_2_d2v\n",
    "y = y_d2v\n",
    "\n",
    "word2vec on questions alone: \n",
    "\n",
    "X_1 = X_1_w2v\n",
    "X_2 = X_2_w2v\n",
    "y = y_w2v\n",
    "\n",
    "word2vec on Google News: \n",
    "\n",
    "X_1 = X_1_G_w2v\n",
    "X_2 = X_2_G_w2v\n",
    "y = y_G_w2v\n",
    "\"\"\"\n",
    "\n",
    "X_1 = X_1_G_w2v\n",
    "X_2 = X_2_G_w2v\n",
    "y = y_G_w2v"
   ]
  },
  {
   "cell_type": "markdown",
   "metadata": {},
   "source": [
    "### Make train/test split"
   ]
  },
  {
   "cell_type": "code",
   "execution_count": 120,
   "metadata": {
    "collapsed": false
   },
   "outputs": [],
   "source": [
    "# since vectors already in random order, train/test split can be done by simple indexing without shuffle\n",
    "test_portion = 0.2\n",
    "split_index = int((1-test_portion)*len(X_1))\n",
    "X_1_train, X_2_train = X_1[0:split_index], X_2[0:split_index]\n",
    "X_1_test, X_2_test = X_1[split_index:], X_2[split_index:]\n",
    "y_train = y[0:split_index]\n",
    "y_test = y[split_index:]"
   ]
  },
  {
   "cell_type": "markdown",
   "metadata": {},
   "source": [
    "### Design neural network\n",
    "\n",
    "Network design we'll use for now takes document vectors, inputs each into a separate dense layer, merges resulting outputs together by concatenation, and has two more layers before classification output in softmax layer."
   ]
  },
  {
   "cell_type": "code",
   "execution_count": 121,
   "metadata": {
    "collapsed": true
   },
   "outputs": [],
   "source": [
    "from keras.models import Sequential\n",
    "from keras.layers import Merge, Dense, Activation, Dropout"
   ]
  },
  {
   "cell_type": "code",
   "execution_count": 122,
   "metadata": {
    "collapsed": true
   },
   "outputs": [],
   "source": [
    "q1_branch = Sequential()\n",
    "q1_branch.add(Dense(1000, input_shape=(300,), activation='relu'))\n",
    "q1_branch.add(Dropout(0.2))\n",
    "\n",
    "q2_branch = Sequential()\n",
    "q2_branch.add(Dense(1000, input_shape=(300,), activation='relu'))\n",
    "q2_branch.add(Dropout(0.2))\n",
    "\n",
    "merged = Merge([q1_branch, q2_branch], mode='concat')\n",
    "\n",
    "final_model = Sequential()\n",
    "final_model.add(merged)\n",
    "final_model.add(Dense(300, activation='relu'))\n",
    "final_model.add(Dropout(0.2))\n",
    "final_model.add(Dense(300, activation='relu'))\n",
    "final_model.add(Dropout(0.2))\n",
    "final_model.add(Dense(2, activation='softmax'))"
   ]
  },
  {
   "cell_type": "markdown",
   "metadata": {},
   "source": [
    "### Train model"
   ]
  },
  {
   "cell_type": "code",
   "execution_count": 123,
   "metadata": {
    "collapsed": true
   },
   "outputs": [],
   "source": [
    "# compile model - accuracy will be metrix we optimize for\n",
    "final_model.compile(optimizer='adam', loss='categorical_crossentropy', metrics=['accuracy'])"
   ]
  },
  {
   "cell_type": "code",
   "execution_count": 124,
   "metadata": {
    "collapsed": false
   },
   "outputs": [
    {
     "name": "stdout",
     "output_type": "stream",
     "text": [
      "Train on 40000 samples, validate on 10000 samples\n",
      "Epoch 1/10\n",
      "40000/40000 [==============================] - 10s - loss: 0.5830 - acc: 0.6960 - val_loss: 0.5641 - val_acc: 0.7138\n",
      "Epoch 2/10\n",
      "40000/40000 [==============================] - 10s - loss: 0.5491 - acc: 0.7175 - val_loss: 0.5424 - val_acc: 0.7202\n",
      "Epoch 3/10\n",
      "40000/40000 [==============================] - 10s - loss: 0.5313 - acc: 0.7279 - val_loss: 0.5359 - val_acc: 0.7258\n",
      "Epoch 4/10\n",
      "40000/40000 [==============================] - 11s - loss: 0.5206 - acc: 0.7351 - val_loss: 0.5495 - val_acc: 0.7244\n",
      "Epoch 5/10\n",
      "40000/40000 [==============================] - 11s - loss: 0.5098 - acc: 0.7398 - val_loss: 0.5235 - val_acc: 0.7344\n",
      "Epoch 6/10\n",
      "40000/40000 [==============================] - 11s - loss: 0.5015 - acc: 0.7441 - val_loss: 0.5244 - val_acc: 0.7343\n",
      "Epoch 7/10\n",
      "40000/40000 [==============================] - 11s - loss: 0.4965 - acc: 0.7481 - val_loss: 0.5230 - val_acc: 0.7328\n",
      "Epoch 8/10\n",
      "40000/40000 [==============================] - 11s - loss: 0.4852 - acc: 0.7537 - val_loss: 0.5244 - val_acc: 0.7327\n",
      "Epoch 9/10\n",
      "40000/40000 [==============================] - 11s - loss: 0.4782 - acc: 0.7563 - val_loss: 0.5207 - val_acc: 0.7371\n",
      "Epoch 10/10\n",
      "40000/40000 [==============================] - 11s - loss: 0.4687 - acc: 0.7619 - val_loss: 0.5277 - val_acc: 0.7340\n"
     ]
    }
   ],
   "source": [
    "# train model - the history output is object that can be queried for model properties - see Keras documentation\n",
    "early = keras.callbacks.EarlyStopping(monitor='val_acc', min_delta=0, patience=3, verbose=0, mode='auto')\n",
    "history = final_model.fit([X_1_train, X_2_train], y_train, \n",
    "                   batch_size=100, nb_epoch=10,\n",
    "                   verbose=1, validation_data=([X_1_test, X_2_test], y_test))"
   ]
  },
  {
   "cell_type": "markdown",
   "metadata": {},
   "source": [
    "### Plot model accuracy and loss over training epoch "
   ]
  },
  {
   "cell_type": "code",
   "execution_count": 125,
   "metadata": {
    "collapsed": false
   },
   "outputs": [
    {
     "data": {
      "text/plain": [
       "<matplotlib.legend.Legend at 0x7f381f1e3310>"
      ]
     },
     "execution_count": 125,
     "metadata": {},
     "output_type": "execute_result"
    },
    {
     "data": {
      "image/png": "[encoded data removed]",
      "text/plain": [
       "<matplotlib.figure.Figure at 0x7f3823710190>"
      ]
     },
     "metadata": {},
     "output_type": "display_data"
    }
   ],
   "source": [
    "import matplotlib.pyplot as plt\n",
    "%matplotlib inline\n",
    "\n",
    "plt.style.use('fivethirtyeight')\n",
    "\n",
    "plt.plot(history.history['acc'])\n",
    "plt.plot(history.history['val_acc'])\n",
    "plt.title('model accuracy')\n",
    "plt.ylabel('accuracy')\n",
    "plt.xlabel('epoch')\n",
    "plt.legend(['train', 'test'], loc='upper left')"
   ]
  },
  {
   "cell_type": "code",
   "execution_count": 126,
   "metadata": {
    "collapsed": false
   },
   "outputs": [
    {
     "data": {
      "text/plain": [
       "<matplotlib.legend.Legend at 0x7f381f0d2b50>"
      ]
     },
     "execution_count": 126,
     "metadata": {},
     "output_type": "execute_result"
    },
    {
     "data": {
      "image/png": "[encoded data removed]",
      "text/plain": [
       "<matplotlib.figure.Figure at 0x7f37d9b1d050>"
      ]
     },
     "metadata": {},
     "output_type": "display_data"
    }
   ],
   "source": [
    "plt.plot(history.history['loss'])\n",
    "plt.plot(history.history['val_loss'])\n",
    "plt.title('model loss')\n",
    "plt.ylabel('loss')\n",
    "plt.xlabel('epoch')\n",
    "plt.legend(['train', 'test'], loc='upper left')"
   ]
  },
  {
   "cell_type": "markdown",
   "metadata": {},
   "source": [
    "### Evaluate model\n",
    "\n",
    "Report accuracy, precision and recall of the model."
   ]
  },
  {
   "cell_type": "code",
   "execution_count": 127,
   "metadata": {
    "collapsed": false
   },
   "outputs": [
    {
     "name": "stdout",
     "output_type": "stream",
     "text": [
      "Accuracy: 0.734\n",
      "Precision: 0.6469\n",
      "Recall: 0.6164\n",
      "F1 Score: 0.6313\n"
     ]
    }
   ],
   "source": [
    "# evaluate model\n",
    "from sklearn.metrics import precision_recall_fscore_support, accuracy_score\n",
    "\n",
    "prediction_probs = final_model.predict([X_1_test, X_2_test])\n",
    "# predictions is list of definite [0,1] predictions as extracted from predicted probabilities\n",
    "predictions = [np.array([1,0]) if x[0]>x[1] else np.array([0,1]) for x in prediction_probs]\n",
    "\n",
    "# convert predictions and y_test back into regular list of 0s and 1s for sklearn functions\n",
    "predictions_labels, y_test_labels = [], []\n",
    "for i in range(len(y_test)):\n",
    "    if predictions[i][1] == 1: \n",
    "        predictions_labels.append(1)\n",
    "    else: \n",
    "        predictions_labels.append(0)\n",
    "for i in range(len(y_test)):\n",
    "    if y_test[i][1] == 1: \n",
    "        y_test_labels.append(1)\n",
    "    else: \n",
    "        y_test_labels.append(0)\n",
    "\n",
    "prfs = precision_recall_fscore_support(y_test_labels, predictions_labels, average='binary')\n",
    "acc = accuracy_score(y_test_labels, predictions_labels)\n",
    "print \"Accuracy:\", acc\n",
    "print \"Precision:\", round(prfs[0], 4)\n",
    "print \"Recall:\", round(prfs[1], 4)\n",
    "print \"F1 Score:\", round(prfs[2], 4)"
   ]
  },
  {
   "cell_type": "code",
   "execution_count": 39,
   "metadata": {
    "collapsed": true
   },
   "outputs": [],
   "source": [
    "# save val_acc and val_loss for each model to plot later\n",
    "# can then plot the three model val_acc and val_loss together to see how they behave\n",
    "\n",
    "# for each model there is list that contains acc, val_acc, loss, val_loss \n",
    "# (these mean model train accuracy, model test accuracy, model train loss, and model test loss)\n",
    "\n",
    "doc2vec_val = {\"acc\": history.history[\"acc\"], \n",
    "               \"val_acc\": history.history[\"val_acc\"], \n",
    "               \"loss\": history.history[\"loss\"], \n",
    "               \"val_loss\": history.history[\"val_loss\"], \n",
    "               \"accuracy\": acc, \n",
    "               \"precision\": round(prfs[0], 4), \n",
    "               \"recall\": round(prfs[1], 4), \n",
    "               \"F1\": round(prfs[2], 4)}"
   ]
  },
  {
   "cell_type": "code",
   "execution_count": 118,
   "metadata": {
    "collapsed": true
   },
   "outputs": [],
   "source": [
    "word2vec_val = {\"acc\": history.history[\"acc\"], \n",
    "               \"val_acc\": history.history[\"val_acc\"], \n",
    "               \"loss\": history.history[\"loss\"], \n",
    "               \"val_loss\": history.history[\"val_loss\"], \n",
    "               \"accuracy\": acc, \n",
    "               \"precision\": round(prfs[0], 4), \n",
    "               \"recall\": round(prfs[1], 4), \n",
    "               \"F1\": round(prfs[2], 4)}"
   ]
  },
  {
   "cell_type": "code",
   "execution_count": 130,
   "metadata": {
    "collapsed": true
   },
   "outputs": [],
   "source": [
    "Google_word2vec_val = {\"acc\": history.history[\"acc\"], \n",
    "                       \"val_acc\": history.history[\"val_acc\"], \n",
    "                       \"loss\": history.history[\"loss\"], \n",
    "                       \"val_loss\": history.history[\"val_loss\"], \n",
    "                       \"accuracy\": acc, \n",
    "                       \"precision\": round(prfs[0], 4), \n",
    "                       \"recall\": round(prfs[1], 4), \n",
    "                       \"F1\": round(prfs[2], 4)}"
   ]
  },
  {
   "cell_type": "markdown",
   "metadata": {},
   "source": [
    "### Plot validation loss by epoch across the three models"
   ]
  },
  {
   "cell_type": "code",
   "execution_count": 131,
   "metadata": {
    "collapsed": false
   },
   "outputs": [
    {
     "data": {
      "text/plain": [
       "<matplotlib.legend.Legend at 0x7f382167f350>"
      ]
     },
     "execution_count": 131,
     "metadata": {},
     "output_type": "execute_result"
    },
    {
     "data": {
      "image/png": "[encoded data removed]",
      "text/plain": [
       "<matplotlib.figure.Figure at 0x7f3821715710>"
      ]
     },
     "metadata": {},
     "output_type": "display_data"
    }
   ],
   "source": [
    "plt.plot(doc2vec_val[\"val_acc\"])\n",
    "plt.plot(word2vec_val[\"val_acc\"])\n",
    "plt.plot(Google_word2vec_val[\"val_acc\"])\n",
    "plt.title('Model Validation Accuracy')\n",
    "plt.ylabel('validated accuracy')\n",
    "plt.xlabel('epoch')\n",
    "plt.legend(['doc2vec', 'word2vec', 'Google word2vec'], loc='upper left')"
   ]
  },
  {
   "cell_type": "code",
   "execution_count": null,
   "metadata": {
    "collapsed": true
   },
   "outputs": [],
   "source": []
  }
 ],
 "metadata": {
  "anaconda-cloud": {},
  "kernelspec": {
   "display_name": "Python 2",
   "language": "python",
   "name": "python2"
  },
  "language_info": {
   "codemirror_mode": {
    "name": "ipython",
    "version": 2
   },
   "file_extension": ".py",
   "mimetype": "text/x-python",
   "name": "python",
   "nbconvert_exporter": "python",
   "pygments_lexer": "ipython2",
   "version": "2.7.11"
  }
 },
 "nbformat": 4,
 "nbformat_minor": 1
}
